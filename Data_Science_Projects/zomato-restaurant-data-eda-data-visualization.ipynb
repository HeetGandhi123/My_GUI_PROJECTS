{
 "cells": [
  {
   "cell_type": "code",
   "execution_count": 1,
   "id": "fe1f027f",
   "metadata": {
    "_cell_guid": "b1076dfc-b9ad-4769-8c92-a6c4dae69d19",
    "_uuid": "8f2839f25d086af736a60e9eeb907d3b93b6e0e5",
    "execution": {
     "iopub.execute_input": "2024-02-20T15:42:18.665155Z",
     "iopub.status.busy": "2024-02-20T15:42:18.664851Z",
     "iopub.status.idle": "2024-02-20T15:42:19.414572Z",
     "shell.execute_reply": "2024-02-20T15:42:19.413435Z"
    },
    "papermill": {
     "duration": 0.763147,
     "end_time": "2024-02-20T15:42:19.416298",
     "exception": false,
     "start_time": "2024-02-20T15:42:18.653151",
     "status": "completed"
    },
    "tags": []
   },
   "outputs": [
    {
     "name": "stdout",
     "output_type": "stream",
     "text": [
      "/kaggle/input/zomato-bangalore-restaurants/zomato.csv\n"
     ]
    }
   ],
   "source": [
    "# This Python 3 environment comes with many helpful analytics libraries installed\n",
    "# It is defined by the kaggle/python Docker image: https://github.com/kaggle/docker-python\n",
    "# For example, here's several helpful packages to load\n",
    "\n",
    "import numpy as np # linear algebra\n",
    "import pandas as pd # data processing, CSV file I/O (e.g. pd.read_csv)\n",
    "\n",
    "# Input data files are available in the read-only \"../input/\" directory\n",
    "# For example, running this (by clicking run or pressing Shift+Enter) will list all files under the input directory\n",
    "\n",
    "import os\n",
    "for dirname, _, filenames in os.walk('/kaggle/input'):\n",
    "    for filename in filenames:\n",
    "        print(os.path.join(dirname, filename))\n",
    "\n",
    "# You can write up to 20GB to the current directory (/kaggle/working/) that gets preserved as output when you create a version using \"Save & Run All\" \n",
    "# You can also write temporary files to /kaggle/temp/, but they won't be saved outside of the current session"
   ]
  },
  {
   "cell_type": "code",
   "execution_count": 2,
   "id": "a521391c",
   "metadata": {
    "execution": {
     "iopub.execute_input": "2024-02-20T15:42:19.439172Z",
     "iopub.status.busy": "2024-02-20T15:42:19.438814Z",
     "iopub.status.idle": "2024-02-20T15:42:20.543404Z",
     "shell.execute_reply": "2024-02-20T15:42:20.542502Z"
    },
    "papermill": {
     "duration": 1.118063,
     "end_time": "2024-02-20T15:42:20.545587",
     "exception": false,
     "start_time": "2024-02-20T15:42:19.427524",
     "status": "completed"
    },
    "tags": []
   },
   "outputs": [],
   "source": [
    "import matplotlib.pyplot as plt\n",
    "import seaborn as sns"
   ]
  },
  {
   "cell_type": "code",
   "execution_count": 3,
   "id": "53c33fc5",
   "metadata": {
    "execution": {
     "iopub.execute_input": "2024-02-20T15:42:20.567735Z",
     "iopub.status.busy": "2024-02-20T15:42:20.567065Z",
     "iopub.status.idle": "2024-02-20T15:42:31.035473Z",
     "shell.execute_reply": "2024-02-20T15:42:31.034699Z"
    },
    "papermill": {
     "duration": 10.481209,
     "end_time": "2024-02-20T15:42:31.037216",
     "exception": false,
     "start_time": "2024-02-20T15:42:20.556007",
     "status": "completed"
    },
    "tags": []
   },
   "outputs": [
    {
     "data": {
      "text/html": [
       "<div>\n",
       "<style scoped>\n",
       "    .dataframe tbody tr th:only-of-type {\n",
       "        vertical-align: middle;\n",
       "    }\n",
       "\n",
       "    .dataframe tbody tr th {\n",
       "        vertical-align: top;\n",
       "    }\n",
       "\n",
       "    .dataframe thead th {\n",
       "        text-align: right;\n",
       "    }\n",
       "</style>\n",
       "<table border=\"1\" class=\"dataframe\">\n",
       "  <thead>\n",
       "    <tr style=\"text-align: right;\">\n",
       "      <th></th>\n",
       "      <th>url</th>\n",
       "      <th>address</th>\n",
       "      <th>name</th>\n",
       "      <th>online_order</th>\n",
       "      <th>book_table</th>\n",
       "      <th>rate</th>\n",
       "      <th>votes</th>\n",
       "      <th>phone</th>\n",
       "      <th>location</th>\n",
       "      <th>rest_type</th>\n",
       "      <th>dish_liked</th>\n",
       "      <th>cuisines</th>\n",
       "      <th>approx_cost(for two people)</th>\n",
       "      <th>reviews_list</th>\n",
       "      <th>menu_item</th>\n",
       "      <th>listed_in(type)</th>\n",
       "      <th>listed_in(city)</th>\n",
       "    </tr>\n",
       "  </thead>\n",
       "  <tbody>\n",
       "    <tr>\n",
       "      <th>0</th>\n",
       "      <td>https://www.zomato.com/bangalore/jalsa-banasha...</td>\n",
       "      <td>942, 21st Main Road, 2nd Stage, Banashankari, ...</td>\n",
       "      <td>Jalsa</td>\n",
       "      <td>Yes</td>\n",
       "      <td>Yes</td>\n",
       "      <td>4.1/5</td>\n",
       "      <td>775</td>\n",
       "      <td>080 42297555\\r\\n+91 9743772233</td>\n",
       "      <td>Banashankari</td>\n",
       "      <td>Casual Dining</td>\n",
       "      <td>Pasta, Lunch Buffet, Masala Papad, Paneer Laja...</td>\n",
       "      <td>North Indian, Mughlai, Chinese</td>\n",
       "      <td>800</td>\n",
       "      <td>[('Rated 4.0', 'RATED\\n  A beautiful place to ...</td>\n",
       "      <td>[]</td>\n",
       "      <td>Buffet</td>\n",
       "      <td>Banashankari</td>\n",
       "    </tr>\n",
       "    <tr>\n",
       "      <th>1</th>\n",
       "      <td>https://www.zomato.com/bangalore/spice-elephan...</td>\n",
       "      <td>2nd Floor, 80 Feet Road, Near Big Bazaar, 6th ...</td>\n",
       "      <td>Spice Elephant</td>\n",
       "      <td>Yes</td>\n",
       "      <td>No</td>\n",
       "      <td>4.1/5</td>\n",
       "      <td>787</td>\n",
       "      <td>080 41714161</td>\n",
       "      <td>Banashankari</td>\n",
       "      <td>Casual Dining</td>\n",
       "      <td>Momos, Lunch Buffet, Chocolate Nirvana, Thai G...</td>\n",
       "      <td>Chinese, North Indian, Thai</td>\n",
       "      <td>800</td>\n",
       "      <td>[('Rated 4.0', 'RATED\\n  Had been here for din...</td>\n",
       "      <td>[]</td>\n",
       "      <td>Buffet</td>\n",
       "      <td>Banashankari</td>\n",
       "    </tr>\n",
       "    <tr>\n",
       "      <th>2</th>\n",
       "      <td>https://www.zomato.com/SanchurroBangalore?cont...</td>\n",
       "      <td>1112, Next to KIMS Medical College, 17th Cross...</td>\n",
       "      <td>San Churro Cafe</td>\n",
       "      <td>Yes</td>\n",
       "      <td>No</td>\n",
       "      <td>3.8/5</td>\n",
       "      <td>918</td>\n",
       "      <td>+91 9663487993</td>\n",
       "      <td>Banashankari</td>\n",
       "      <td>Cafe, Casual Dining</td>\n",
       "      <td>Churros, Cannelloni, Minestrone Soup, Hot Choc...</td>\n",
       "      <td>Cafe, Mexican, Italian</td>\n",
       "      <td>800</td>\n",
       "      <td>[('Rated 3.0', \"RATED\\n  Ambience is not that ...</td>\n",
       "      <td>[]</td>\n",
       "      <td>Buffet</td>\n",
       "      <td>Banashankari</td>\n",
       "    </tr>\n",
       "    <tr>\n",
       "      <th>3</th>\n",
       "      <td>https://www.zomato.com/bangalore/addhuri-udupi...</td>\n",
       "      <td>1st Floor, Annakuteera, 3rd Stage, Banashankar...</td>\n",
       "      <td>Addhuri Udupi Bhojana</td>\n",
       "      <td>No</td>\n",
       "      <td>No</td>\n",
       "      <td>3.7/5</td>\n",
       "      <td>88</td>\n",
       "      <td>+91 9620009302</td>\n",
       "      <td>Banashankari</td>\n",
       "      <td>Quick Bites</td>\n",
       "      <td>Masala Dosa</td>\n",
       "      <td>South Indian, North Indian</td>\n",
       "      <td>300</td>\n",
       "      <td>[('Rated 4.0', \"RATED\\n  Great food and proper...</td>\n",
       "      <td>[]</td>\n",
       "      <td>Buffet</td>\n",
       "      <td>Banashankari</td>\n",
       "    </tr>\n",
       "    <tr>\n",
       "      <th>4</th>\n",
       "      <td>https://www.zomato.com/bangalore/grand-village...</td>\n",
       "      <td>10, 3rd Floor, Lakshmi Associates, Gandhi Baza...</td>\n",
       "      <td>Grand Village</td>\n",
       "      <td>No</td>\n",
       "      <td>No</td>\n",
       "      <td>3.8/5</td>\n",
       "      <td>166</td>\n",
       "      <td>+91 8026612447\\r\\n+91 9901210005</td>\n",
       "      <td>Basavanagudi</td>\n",
       "      <td>Casual Dining</td>\n",
       "      <td>Panipuri, Gol Gappe</td>\n",
       "      <td>North Indian, Rajasthani</td>\n",
       "      <td>600</td>\n",
       "      <td>[('Rated 4.0', 'RATED\\n  Very good restaurant ...</td>\n",
       "      <td>[]</td>\n",
       "      <td>Buffet</td>\n",
       "      <td>Banashankari</td>\n",
       "    </tr>\n",
       "  </tbody>\n",
       "</table>\n",
       "</div>"
      ],
      "text/plain": [
       "                                                 url  \\\n",
       "0  https://www.zomato.com/bangalore/jalsa-banasha...   \n",
       "1  https://www.zomato.com/bangalore/spice-elephan...   \n",
       "2  https://www.zomato.com/SanchurroBangalore?cont...   \n",
       "3  https://www.zomato.com/bangalore/addhuri-udupi...   \n",
       "4  https://www.zomato.com/bangalore/grand-village...   \n",
       "\n",
       "                                             address                   name  \\\n",
       "0  942, 21st Main Road, 2nd Stage, Banashankari, ...                  Jalsa   \n",
       "1  2nd Floor, 80 Feet Road, Near Big Bazaar, 6th ...         Spice Elephant   \n",
       "2  1112, Next to KIMS Medical College, 17th Cross...        San Churro Cafe   \n",
       "3  1st Floor, Annakuteera, 3rd Stage, Banashankar...  Addhuri Udupi Bhojana   \n",
       "4  10, 3rd Floor, Lakshmi Associates, Gandhi Baza...          Grand Village   \n",
       "\n",
       "  online_order book_table   rate  votes                             phone  \\\n",
       "0          Yes        Yes  4.1/5    775    080 42297555\\r\\n+91 9743772233   \n",
       "1          Yes         No  4.1/5    787                      080 41714161   \n",
       "2          Yes         No  3.8/5    918                    +91 9663487993   \n",
       "3           No         No  3.7/5     88                    +91 9620009302   \n",
       "4           No         No  3.8/5    166  +91 8026612447\\r\\n+91 9901210005   \n",
       "\n",
       "       location            rest_type  \\\n",
       "0  Banashankari        Casual Dining   \n",
       "1  Banashankari        Casual Dining   \n",
       "2  Banashankari  Cafe, Casual Dining   \n",
       "3  Banashankari          Quick Bites   \n",
       "4  Basavanagudi        Casual Dining   \n",
       "\n",
       "                                          dish_liked  \\\n",
       "0  Pasta, Lunch Buffet, Masala Papad, Paneer Laja...   \n",
       "1  Momos, Lunch Buffet, Chocolate Nirvana, Thai G...   \n",
       "2  Churros, Cannelloni, Minestrone Soup, Hot Choc...   \n",
       "3                                        Masala Dosa   \n",
       "4                                Panipuri, Gol Gappe   \n",
       "\n",
       "                         cuisines approx_cost(for two people)  \\\n",
       "0  North Indian, Mughlai, Chinese                         800   \n",
       "1     Chinese, North Indian, Thai                         800   \n",
       "2          Cafe, Mexican, Italian                         800   \n",
       "3      South Indian, North Indian                         300   \n",
       "4        North Indian, Rajasthani                         600   \n",
       "\n",
       "                                        reviews_list menu_item  \\\n",
       "0  [('Rated 4.0', 'RATED\\n  A beautiful place to ...        []   \n",
       "1  [('Rated 4.0', 'RATED\\n  Had been here for din...        []   \n",
       "2  [('Rated 3.0', \"RATED\\n  Ambience is not that ...        []   \n",
       "3  [('Rated 4.0', \"RATED\\n  Great food and proper...        []   \n",
       "4  [('Rated 4.0', 'RATED\\n  Very good restaurant ...        []   \n",
       "\n",
       "  listed_in(type) listed_in(city)  \n",
       "0          Buffet    Banashankari  \n",
       "1          Buffet    Banashankari  \n",
       "2          Buffet    Banashankari  \n",
       "3          Buffet    Banashankari  \n",
       "4          Buffet    Banashankari  "
      ]
     },
     "execution_count": 3,
     "metadata": {},
     "output_type": "execute_result"
    }
   ],
   "source": [
    "df = pd.read_csv(\"../input/zomato-bangalore-restaurants/zomato.csv\")\n",
    "df.head()"
   ]
  },
  {
   "cell_type": "code",
   "execution_count": 4,
   "id": "bd4138b2",
   "metadata": {
    "execution": {
     "iopub.execute_input": "2024-02-20T15:42:31.062259Z",
     "iopub.status.busy": "2024-02-20T15:42:31.061466Z",
     "iopub.status.idle": "2024-02-20T15:42:31.067442Z",
     "shell.execute_reply": "2024-02-20T15:42:31.066390Z"
    },
    "papermill": {
     "duration": 0.020182,
     "end_time": "2024-02-20T15:42:31.069376",
     "exception": false,
     "start_time": "2024-02-20T15:42:31.049194",
     "status": "completed"
    },
    "tags": []
   },
   "outputs": [
    {
     "data": {
      "text/plain": [
       "(51717, 17)"
      ]
     },
     "execution_count": 4,
     "metadata": {},
     "output_type": "execute_result"
    }
   ],
   "source": [
    "df.shape"
   ]
  },
  {
   "cell_type": "code",
   "execution_count": 5,
   "id": "9b1b97f3",
   "metadata": {
    "execution": {
     "iopub.execute_input": "2024-02-20T15:42:31.092894Z",
     "iopub.status.busy": "2024-02-20T15:42:31.092106Z",
     "iopub.status.idle": "2024-02-20T15:42:31.098049Z",
     "shell.execute_reply": "2024-02-20T15:42:31.097454Z"
    },
    "papermill": {
     "duration": 0.019176,
     "end_time": "2024-02-20T15:42:31.099644",
     "exception": false,
     "start_time": "2024-02-20T15:42:31.080468",
     "status": "completed"
    },
    "tags": []
   },
   "outputs": [
    {
     "data": {
      "text/plain": [
       "Index(['url', 'address', 'name', 'online_order', 'book_table', 'rate', 'votes',\n",
       "       'phone', 'location', 'rest_type', 'dish_liked', 'cuisines',\n",
       "       'approx_cost(for two people)', 'reviews_list', 'menu_item',\n",
       "       'listed_in(type)', 'listed_in(city)'],\n",
       "      dtype='object')"
      ]
     },
     "execution_count": 5,
     "metadata": {},
     "output_type": "execute_result"
    }
   ],
   "source": [
    "df.columns"
   ]
  },
  {
   "cell_type": "code",
   "execution_count": 6,
   "id": "70281605",
   "metadata": {
    "execution": {
     "iopub.execute_input": "2024-02-20T15:42:31.123924Z",
     "iopub.status.busy": "2024-02-20T15:42:31.123011Z",
     "iopub.status.idle": "2024-02-20T15:42:31.140805Z",
     "shell.execute_reply": "2024-02-20T15:42:31.139751Z"
    },
    "papermill": {
     "duration": 0.032828,
     "end_time": "2024-02-20T15:42:31.143042",
     "exception": false,
     "start_time": "2024-02-20T15:42:31.110214",
     "status": "completed"
    },
    "tags": []
   },
   "outputs": [],
   "source": [
    "df = df.drop(['url','phone','menu_item','reviews_list','address','dish_liked'],axis=1)"
   ]
  },
  {
   "cell_type": "code",
   "execution_count": 7,
   "id": "f3c0c6dd",
   "metadata": {
    "execution": {
     "iopub.execute_input": "2024-02-20T15:42:31.167209Z",
     "iopub.status.busy": "2024-02-20T15:42:31.166898Z",
     "iopub.status.idle": "2024-02-20T15:42:31.178350Z",
     "shell.execute_reply": "2024-02-20T15:42:31.177496Z"
    },
    "papermill": {
     "duration": 0.025479,
     "end_time": "2024-02-20T15:42:31.180016",
     "exception": false,
     "start_time": "2024-02-20T15:42:31.154537",
     "status": "completed"
    },
    "tags": []
   },
   "outputs": [
    {
     "data": {
      "text/html": [
       "<div>\n",
       "<style scoped>\n",
       "    .dataframe tbody tr th:only-of-type {\n",
       "        vertical-align: middle;\n",
       "    }\n",
       "\n",
       "    .dataframe tbody tr th {\n",
       "        vertical-align: top;\n",
       "    }\n",
       "\n",
       "    .dataframe thead th {\n",
       "        text-align: right;\n",
       "    }\n",
       "</style>\n",
       "<table border=\"1\" class=\"dataframe\">\n",
       "  <thead>\n",
       "    <tr style=\"text-align: right;\">\n",
       "      <th></th>\n",
       "      <th>name</th>\n",
       "      <th>online_order</th>\n",
       "      <th>book_table</th>\n",
       "      <th>rate</th>\n",
       "      <th>votes</th>\n",
       "      <th>location</th>\n",
       "      <th>rest_type</th>\n",
       "      <th>cuisines</th>\n",
       "      <th>approx_cost(for two people)</th>\n",
       "      <th>listed_in(type)</th>\n",
       "      <th>listed_in(city)</th>\n",
       "    </tr>\n",
       "  </thead>\n",
       "  <tbody>\n",
       "    <tr>\n",
       "      <th>0</th>\n",
       "      <td>Jalsa</td>\n",
       "      <td>Yes</td>\n",
       "      <td>Yes</td>\n",
       "      <td>4.1/5</td>\n",
       "      <td>775</td>\n",
       "      <td>Banashankari</td>\n",
       "      <td>Casual Dining</td>\n",
       "      <td>North Indian, Mughlai, Chinese</td>\n",
       "      <td>800</td>\n",
       "      <td>Buffet</td>\n",
       "      <td>Banashankari</td>\n",
       "    </tr>\n",
       "    <tr>\n",
       "      <th>1</th>\n",
       "      <td>Spice Elephant</td>\n",
       "      <td>Yes</td>\n",
       "      <td>No</td>\n",
       "      <td>4.1/5</td>\n",
       "      <td>787</td>\n",
       "      <td>Banashankari</td>\n",
       "      <td>Casual Dining</td>\n",
       "      <td>Chinese, North Indian, Thai</td>\n",
       "      <td>800</td>\n",
       "      <td>Buffet</td>\n",
       "      <td>Banashankari</td>\n",
       "    </tr>\n",
       "    <tr>\n",
       "      <th>2</th>\n",
       "      <td>San Churro Cafe</td>\n",
       "      <td>Yes</td>\n",
       "      <td>No</td>\n",
       "      <td>3.8/5</td>\n",
       "      <td>918</td>\n",
       "      <td>Banashankari</td>\n",
       "      <td>Cafe, Casual Dining</td>\n",
       "      <td>Cafe, Mexican, Italian</td>\n",
       "      <td>800</td>\n",
       "      <td>Buffet</td>\n",
       "      <td>Banashankari</td>\n",
       "    </tr>\n",
       "    <tr>\n",
       "      <th>3</th>\n",
       "      <td>Addhuri Udupi Bhojana</td>\n",
       "      <td>No</td>\n",
       "      <td>No</td>\n",
       "      <td>3.7/5</td>\n",
       "      <td>88</td>\n",
       "      <td>Banashankari</td>\n",
       "      <td>Quick Bites</td>\n",
       "      <td>South Indian, North Indian</td>\n",
       "      <td>300</td>\n",
       "      <td>Buffet</td>\n",
       "      <td>Banashankari</td>\n",
       "    </tr>\n",
       "    <tr>\n",
       "      <th>4</th>\n",
       "      <td>Grand Village</td>\n",
       "      <td>No</td>\n",
       "      <td>No</td>\n",
       "      <td>3.8/5</td>\n",
       "      <td>166</td>\n",
       "      <td>Basavanagudi</td>\n",
       "      <td>Casual Dining</td>\n",
       "      <td>North Indian, Rajasthani</td>\n",
       "      <td>600</td>\n",
       "      <td>Buffet</td>\n",
       "      <td>Banashankari</td>\n",
       "    </tr>\n",
       "  </tbody>\n",
       "</table>\n",
       "</div>"
      ],
      "text/plain": [
       "                    name online_order book_table   rate  votes      location  \\\n",
       "0                  Jalsa          Yes        Yes  4.1/5    775  Banashankari   \n",
       "1         Spice Elephant          Yes         No  4.1/5    787  Banashankari   \n",
       "2        San Churro Cafe          Yes         No  3.8/5    918  Banashankari   \n",
       "3  Addhuri Udupi Bhojana           No         No  3.7/5     88  Banashankari   \n",
       "4          Grand Village           No         No  3.8/5    166  Basavanagudi   \n",
       "\n",
       "             rest_type                        cuisines  \\\n",
       "0        Casual Dining  North Indian, Mughlai, Chinese   \n",
       "1        Casual Dining     Chinese, North Indian, Thai   \n",
       "2  Cafe, Casual Dining          Cafe, Mexican, Italian   \n",
       "3          Quick Bites      South Indian, North Indian   \n",
       "4        Casual Dining        North Indian, Rajasthani   \n",
       "\n",
       "  approx_cost(for two people) listed_in(type) listed_in(city)  \n",
       "0                         800          Buffet    Banashankari  \n",
       "1                         800          Buffet    Banashankari  \n",
       "2                         800          Buffet    Banashankari  \n",
       "3                         300          Buffet    Banashankari  \n",
       "4                         600          Buffet    Banashankari  "
      ]
     },
     "execution_count": 7,
     "metadata": {},
     "output_type": "execute_result"
    }
   ],
   "source": [
    "df.head()"
   ]
  },
  {
   "cell_type": "code",
   "execution_count": 8,
   "id": "b144468f",
   "metadata": {
    "execution": {
     "iopub.execute_input": "2024-02-20T15:42:31.203667Z",
     "iopub.status.busy": "2024-02-20T15:42:31.203354Z",
     "iopub.status.idle": "2024-02-20T15:42:31.238070Z",
     "shell.execute_reply": "2024-02-20T15:42:31.237076Z"
    },
    "papermill": {
     "duration": 0.048707,
     "end_time": "2024-02-20T15:42:31.239942",
     "exception": false,
     "start_time": "2024-02-20T15:42:31.191235",
     "status": "completed"
    },
    "tags": []
   },
   "outputs": [
    {
     "name": "stdout",
     "output_type": "stream",
     "text": [
      "<class 'pandas.core.frame.DataFrame'>\n",
      "RangeIndex: 51717 entries, 0 to 51716\n",
      "Data columns (total 11 columns):\n",
      " #   Column                       Non-Null Count  Dtype \n",
      "---  ------                       --------------  ----- \n",
      " 0   name                         51717 non-null  object\n",
      " 1   online_order                 51717 non-null  object\n",
      " 2   book_table                   51717 non-null  object\n",
      " 3   rate                         43942 non-null  object\n",
      " 4   votes                        51717 non-null  int64 \n",
      " 5   location                     51696 non-null  object\n",
      " 6   rest_type                    51490 non-null  object\n",
      " 7   cuisines                     51672 non-null  object\n",
      " 8   approx_cost(for two people)  51371 non-null  object\n",
      " 9   listed_in(type)              51717 non-null  object\n",
      " 10  listed_in(city)              51717 non-null  object\n",
      "dtypes: int64(1), object(10)\n",
      "memory usage: 4.3+ MB\n"
     ]
    }
   ],
   "source": [
    "df.info()"
   ]
  },
  {
   "cell_type": "code",
   "execution_count": 9,
   "id": "c9b36d6b",
   "metadata": {
    "execution": {
     "iopub.execute_input": "2024-02-20T15:42:31.263866Z",
     "iopub.status.busy": "2024-02-20T15:42:31.263594Z",
     "iopub.status.idle": "2024-02-20T15:42:31.287637Z",
     "shell.execute_reply": "2024-02-20T15:42:31.286703Z"
    },
    "papermill": {
     "duration": 0.037964,
     "end_time": "2024-02-20T15:42:31.289343",
     "exception": false,
     "start_time": "2024-02-20T15:42:31.251379",
     "status": "completed"
    },
    "tags": []
   },
   "outputs": [
    {
     "data": {
      "text/plain": [
       "name                              0\n",
       "online_order                      0\n",
       "book_table                        0\n",
       "rate                           7775\n",
       "votes                             0\n",
       "location                         21\n",
       "rest_type                       227\n",
       "cuisines                         45\n",
       "approx_cost(for two people)     346\n",
       "listed_in(type)                   0\n",
       "listed_in(city)                   0\n",
       "dtype: int64"
      ]
     },
     "execution_count": 9,
     "metadata": {},
     "output_type": "execute_result"
    }
   ],
   "source": [
    "df.isnull().sum()"
   ]
  },
  {
   "cell_type": "code",
   "execution_count": 10,
   "id": "9abf7886",
   "metadata": {
    "execution": {
     "iopub.execute_input": "2024-02-20T15:42:31.314295Z",
     "iopub.status.busy": "2024-02-20T15:42:31.314008Z",
     "iopub.status.idle": "2024-02-20T15:42:31.364673Z",
     "shell.execute_reply": "2024-02-20T15:42:31.363636Z"
    },
    "papermill": {
     "duration": 0.0654,
     "end_time": "2024-02-20T15:42:31.366701",
     "exception": false,
     "start_time": "2024-02-20T15:42:31.301301",
     "status": "completed"
    },
    "tags": []
   },
   "outputs": [
    {
     "data": {
      "text/plain": [
       "(51609, 11)"
      ]
     },
     "execution_count": 10,
     "metadata": {},
     "output_type": "execute_result"
    }
   ],
   "source": [
    "df.drop_duplicates(inplace = True)\n",
    "df.shape"
   ]
  },
  {
   "cell_type": "code",
   "execution_count": 11,
   "id": "8fb59f31",
   "metadata": {
    "execution": {
     "iopub.execute_input": "2024-02-20T15:42:31.391116Z",
     "iopub.status.busy": "2024-02-20T15:42:31.390832Z",
     "iopub.status.idle": "2024-02-20T15:42:31.397429Z",
     "shell.execute_reply": "2024-02-20T15:42:31.396707Z"
    },
    "papermill": {
     "duration": 0.020606,
     "end_time": "2024-02-20T15:42:31.398909",
     "exception": false,
     "start_time": "2024-02-20T15:42:31.378303",
     "status": "completed"
    },
    "tags": []
   },
   "outputs": [
    {
     "data": {
      "text/plain": [
       "array(['4.1/5', '3.8/5', '3.7/5', '3.6/5', '4.6/5', '4.0/5', '4.2/5',\n",
       "       '3.9/5', '3.1/5', '3.0/5', '3.2/5', '3.3/5', '2.8/5', '4.4/5',\n",
       "       '4.3/5', 'NEW', '2.9/5', '3.5/5', nan, '2.6/5', '3.8 /5', '3.4/5',\n",
       "       '4.5/5', '2.5/5', '2.7/5', '4.7/5', '2.4/5', '2.2/5', '2.3/5',\n",
       "       '3.4 /5', '-', '3.6 /5', '4.8/5', '3.9 /5', '4.2 /5', '4.0 /5',\n",
       "       '4.1 /5', '3.7 /5', '3.1 /5', '2.9 /5', '3.3 /5', '2.8 /5',\n",
       "       '3.5 /5', '2.7 /5', '2.5 /5', '3.2 /5', '2.6 /5', '4.5 /5',\n",
       "       '4.3 /5', '4.4 /5', '4.9/5', '2.1/5', '2.0/5', '1.8/5', '4.6 /5',\n",
       "       '4.9 /5', '3.0 /5', '4.8 /5', '2.3 /5', '4.7 /5', '2.4 /5',\n",
       "       '2.1 /5', '2.2 /5', '2.0 /5', '1.8 /5'], dtype=object)"
      ]
     },
     "execution_count": 11,
     "metadata": {},
     "output_type": "execute_result"
    }
   ],
   "source": [
    "df['rate'].unique()"
   ]
  },
  {
   "cell_type": "code",
   "execution_count": 12,
   "id": "2f3484e5",
   "metadata": {
    "execution": {
     "iopub.execute_input": "2024-02-20T15:42:31.423104Z",
     "iopub.status.busy": "2024-02-20T15:42:31.422785Z",
     "iopub.status.idle": "2024-02-20T15:42:31.460912Z",
     "shell.execute_reply": "2024-02-20T15:42:31.460106Z"
    },
    "papermill": {
     "duration": 0.052092,
     "end_time": "2024-02-20T15:42:31.462438",
     "exception": false,
     "start_time": "2024-02-20T15:42:31.410346",
     "status": "completed"
    },
    "tags": []
   },
   "outputs": [
    {
     "data": {
      "text/plain": [
       "0    4.1\n",
       "1    4.1\n",
       "2    3.8\n",
       "3    3.7\n",
       "4    3.8\n",
       "Name: rate, dtype: float64"
      ]
     },
     "execution_count": 12,
     "metadata": {},
     "output_type": "execute_result"
    }
   ],
   "source": [
    "# Removing 'NEW','-','/5'\n",
    "def change_rate(value):\n",
    "    if(value=='NEW' or value=='-'):\n",
    "        return np.nan\n",
    "    else:\n",
    "        value = str(value).split('/')\n",
    "        value = value[0]\n",
    "        return float(value)\n",
    "\n",
    "df['rate'] = df['rate'].apply(change_rate)\n",
    "df['rate'].head()"
   ]
  },
  {
   "cell_type": "code",
   "execution_count": 13,
   "id": "ff927cc9",
   "metadata": {
    "execution": {
     "iopub.execute_input": "2024-02-20T15:42:31.487363Z",
     "iopub.status.busy": "2024-02-20T15:42:31.487023Z",
     "iopub.status.idle": "2024-02-20T15:42:31.495148Z",
     "shell.execute_reply": "2024-02-20T15:42:31.494216Z"
    },
    "papermill": {
     "duration": 0.022734,
     "end_time": "2024-02-20T15:42:31.496752",
     "exception": false,
     "start_time": "2024-02-20T15:42:31.474018",
     "status": "completed"
    },
    "tags": []
   },
   "outputs": [
    {
     "name": "stderr",
     "output_type": "stream",
     "text": [
      "/tmp/ipykernel_18/2616323982.py:1: FutureWarning: A value is trying to be set on a copy of a DataFrame or Series through chained assignment using an inplace method.\n",
      "The behavior will change in pandas 3.0. This inplace method will never work because the intermediate object on which we are setting values always behaves as a copy.\n",
      "\n",
      "For example, when doing 'df[col].method(value, inplace=True)', try using 'df.method({col: value}, inplace=True)' or df[col] = df[col].method(value) instead, to perform the operation inplace on the original object.\n",
      "\n",
      "\n",
      "  df['rate'].fillna(df['rate'].mean(), inplace=True)\n"
     ]
    },
    {
     "data": {
      "text/plain": [
       "0"
      ]
     },
     "execution_count": 13,
     "metadata": {},
     "output_type": "execute_result"
    }
   ],
   "source": [
    "df['rate'].fillna(df['rate'].mean(), inplace=True)\n",
    "df['rate'].isnull().sum()"
   ]
  },
  {
   "cell_type": "code",
   "execution_count": 14,
   "id": "b839b220",
   "metadata": {
    "execution": {
     "iopub.execute_input": "2024-02-20T15:42:31.522754Z",
     "iopub.status.busy": "2024-02-20T15:42:31.522446Z",
     "iopub.status.idle": "2024-02-20T15:42:31.550447Z",
     "shell.execute_reply": "2024-02-20T15:42:31.549587Z"
    },
    "papermill": {
     "duration": 0.043811,
     "end_time": "2024-02-20T15:42:31.552335",
     "exception": false,
     "start_time": "2024-02-20T15:42:31.508524",
     "status": "completed"
    },
    "tags": []
   },
   "outputs": [],
   "source": [
    "df.dropna(inplace = True)"
   ]
  },
  {
   "cell_type": "code",
   "execution_count": 15,
   "id": "bb76cd5b",
   "metadata": {
    "execution": {
     "iopub.execute_input": "2024-02-20T15:42:31.578016Z",
     "iopub.status.busy": "2024-02-20T15:42:31.577719Z",
     "iopub.status.idle": "2024-02-20T15:42:31.589845Z",
     "shell.execute_reply": "2024-02-20T15:42:31.589090Z"
    },
    "papermill": {
     "duration": 0.026584,
     "end_time": "2024-02-20T15:42:31.591361",
     "exception": false,
     "start_time": "2024-02-20T15:42:31.564777",
     "status": "completed"
    },
    "tags": []
   },
   "outputs": [
    {
     "data": {
      "text/html": [
       "<div>\n",
       "<style scoped>\n",
       "    .dataframe tbody tr th:only-of-type {\n",
       "        vertical-align: middle;\n",
       "    }\n",
       "\n",
       "    .dataframe tbody tr th {\n",
       "        vertical-align: top;\n",
       "    }\n",
       "\n",
       "    .dataframe thead th {\n",
       "        text-align: right;\n",
       "    }\n",
       "</style>\n",
       "<table border=\"1\" class=\"dataframe\">\n",
       "  <thead>\n",
       "    <tr style=\"text-align: right;\">\n",
       "      <th></th>\n",
       "      <th>name</th>\n",
       "      <th>online_order</th>\n",
       "      <th>book_table</th>\n",
       "      <th>rate</th>\n",
       "      <th>votes</th>\n",
       "      <th>location</th>\n",
       "      <th>rest_type</th>\n",
       "      <th>cuisines</th>\n",
       "      <th>approx_cost(for two people)</th>\n",
       "      <th>listed_in(type)</th>\n",
       "      <th>listed_in(city)</th>\n",
       "    </tr>\n",
       "  </thead>\n",
       "  <tbody>\n",
       "    <tr>\n",
       "      <th>0</th>\n",
       "      <td>Jalsa</td>\n",
       "      <td>Yes</td>\n",
       "      <td>Yes</td>\n",
       "      <td>4.1</td>\n",
       "      <td>775</td>\n",
       "      <td>Banashankari</td>\n",
       "      <td>Casual Dining</td>\n",
       "      <td>North Indian, Mughlai, Chinese</td>\n",
       "      <td>800</td>\n",
       "      <td>Buffet</td>\n",
       "      <td>Banashankari</td>\n",
       "    </tr>\n",
       "    <tr>\n",
       "      <th>1</th>\n",
       "      <td>Spice Elephant</td>\n",
       "      <td>Yes</td>\n",
       "      <td>No</td>\n",
       "      <td>4.1</td>\n",
       "      <td>787</td>\n",
       "      <td>Banashankari</td>\n",
       "      <td>Casual Dining</td>\n",
       "      <td>Chinese, North Indian, Thai</td>\n",
       "      <td>800</td>\n",
       "      <td>Buffet</td>\n",
       "      <td>Banashankari</td>\n",
       "    </tr>\n",
       "    <tr>\n",
       "      <th>2</th>\n",
       "      <td>San Churro Cafe</td>\n",
       "      <td>Yes</td>\n",
       "      <td>No</td>\n",
       "      <td>3.8</td>\n",
       "      <td>918</td>\n",
       "      <td>Banashankari</td>\n",
       "      <td>Cafe, Casual Dining</td>\n",
       "      <td>Cafe, Mexican, Italian</td>\n",
       "      <td>800</td>\n",
       "      <td>Buffet</td>\n",
       "      <td>Banashankari</td>\n",
       "    </tr>\n",
       "    <tr>\n",
       "      <th>3</th>\n",
       "      <td>Addhuri Udupi Bhojana</td>\n",
       "      <td>No</td>\n",
       "      <td>No</td>\n",
       "      <td>3.7</td>\n",
       "      <td>88</td>\n",
       "      <td>Banashankari</td>\n",
       "      <td>Quick Bites</td>\n",
       "      <td>South Indian, North Indian</td>\n",
       "      <td>300</td>\n",
       "      <td>Buffet</td>\n",
       "      <td>Banashankari</td>\n",
       "    </tr>\n",
       "    <tr>\n",
       "      <th>4</th>\n",
       "      <td>Grand Village</td>\n",
       "      <td>No</td>\n",
       "      <td>No</td>\n",
       "      <td>3.8</td>\n",
       "      <td>166</td>\n",
       "      <td>Basavanagudi</td>\n",
       "      <td>Casual Dining</td>\n",
       "      <td>North Indian, Rajasthani</td>\n",
       "      <td>600</td>\n",
       "      <td>Buffet</td>\n",
       "      <td>Banashankari</td>\n",
       "    </tr>\n",
       "  </tbody>\n",
       "</table>\n",
       "</div>"
      ],
      "text/plain": [
       "                    name online_order book_table  rate  votes      location  \\\n",
       "0                  Jalsa          Yes        Yes   4.1    775  Banashankari   \n",
       "1         Spice Elephant          Yes         No   4.1    787  Banashankari   \n",
       "2        San Churro Cafe          Yes         No   3.8    918  Banashankari   \n",
       "3  Addhuri Udupi Bhojana           No         No   3.7     88  Banashankari   \n",
       "4          Grand Village           No         No   3.8    166  Basavanagudi   \n",
       "\n",
       "             rest_type                        cuisines  \\\n",
       "0        Casual Dining  North Indian, Mughlai, Chinese   \n",
       "1        Casual Dining     Chinese, North Indian, Thai   \n",
       "2  Cafe, Casual Dining          Cafe, Mexican, Italian   \n",
       "3          Quick Bites      South Indian, North Indian   \n",
       "4        Casual Dining        North Indian, Rajasthani   \n",
       "\n",
       "  approx_cost(for two people) listed_in(type) listed_in(city)  \n",
       "0                         800          Buffet    Banashankari  \n",
       "1                         800          Buffet    Banashankari  \n",
       "2                         800          Buffet    Banashankari  \n",
       "3                         300          Buffet    Banashankari  \n",
       "4                         600          Buffet    Banashankari  "
      ]
     },
     "execution_count": 15,
     "metadata": {},
     "output_type": "execute_result"
    }
   ],
   "source": [
    "df.head()"
   ]
  },
  {
   "cell_type": "code",
   "execution_count": 16,
   "id": "c8f1ad80",
   "metadata": {
    "execution": {
     "iopub.execute_input": "2024-02-20T15:42:31.616042Z",
     "iopub.status.busy": "2024-02-20T15:42:31.615739Z",
     "iopub.status.idle": "2024-02-20T15:42:31.619935Z",
     "shell.execute_reply": "2024-02-20T15:42:31.619120Z"
    },
    "papermill": {
     "duration": 0.018471,
     "end_time": "2024-02-20T15:42:31.621615",
     "exception": false,
     "start_time": "2024-02-20T15:42:31.603144",
     "status": "completed"
    },
    "tags": []
   },
   "outputs": [],
   "source": [
    "#Renaming the columns\n",
    "df.rename(columns = {'approx_cost(for two people)':'Cost2plates','listed_in(type)':'Type'}, inplace = True)"
   ]
  },
  {
   "cell_type": "code",
   "execution_count": 17,
   "id": "1ac56894",
   "metadata": {
    "execution": {
     "iopub.execute_input": "2024-02-20T15:42:31.646276Z",
     "iopub.status.busy": "2024-02-20T15:42:31.646018Z",
     "iopub.status.idle": "2024-02-20T15:42:31.658106Z",
     "shell.execute_reply": "2024-02-20T15:42:31.657376Z"
    },
    "papermill": {
     "duration": 0.026446,
     "end_time": "2024-02-20T15:42:31.659716",
     "exception": false,
     "start_time": "2024-02-20T15:42:31.633270",
     "status": "completed"
    },
    "tags": []
   },
   "outputs": [
    {
     "data": {
      "text/html": [
       "<div>\n",
       "<style scoped>\n",
       "    .dataframe tbody tr th:only-of-type {\n",
       "        vertical-align: middle;\n",
       "    }\n",
       "\n",
       "    .dataframe tbody tr th {\n",
       "        vertical-align: top;\n",
       "    }\n",
       "\n",
       "    .dataframe thead th {\n",
       "        text-align: right;\n",
       "    }\n",
       "</style>\n",
       "<table border=\"1\" class=\"dataframe\">\n",
       "  <thead>\n",
       "    <tr style=\"text-align: right;\">\n",
       "      <th></th>\n",
       "      <th>name</th>\n",
       "      <th>online_order</th>\n",
       "      <th>book_table</th>\n",
       "      <th>rate</th>\n",
       "      <th>votes</th>\n",
       "      <th>location</th>\n",
       "      <th>rest_type</th>\n",
       "      <th>cuisines</th>\n",
       "      <th>Cost2plates</th>\n",
       "      <th>Type</th>\n",
       "      <th>listed_in(city)</th>\n",
       "    </tr>\n",
       "  </thead>\n",
       "  <tbody>\n",
       "    <tr>\n",
       "      <th>0</th>\n",
       "      <td>Jalsa</td>\n",
       "      <td>Yes</td>\n",
       "      <td>Yes</td>\n",
       "      <td>4.1</td>\n",
       "      <td>775</td>\n",
       "      <td>Banashankari</td>\n",
       "      <td>Casual Dining</td>\n",
       "      <td>North Indian, Mughlai, Chinese</td>\n",
       "      <td>800</td>\n",
       "      <td>Buffet</td>\n",
       "      <td>Banashankari</td>\n",
       "    </tr>\n",
       "    <tr>\n",
       "      <th>1</th>\n",
       "      <td>Spice Elephant</td>\n",
       "      <td>Yes</td>\n",
       "      <td>No</td>\n",
       "      <td>4.1</td>\n",
       "      <td>787</td>\n",
       "      <td>Banashankari</td>\n",
       "      <td>Casual Dining</td>\n",
       "      <td>Chinese, North Indian, Thai</td>\n",
       "      <td>800</td>\n",
       "      <td>Buffet</td>\n",
       "      <td>Banashankari</td>\n",
       "    </tr>\n",
       "    <tr>\n",
       "      <th>2</th>\n",
       "      <td>San Churro Cafe</td>\n",
       "      <td>Yes</td>\n",
       "      <td>No</td>\n",
       "      <td>3.8</td>\n",
       "      <td>918</td>\n",
       "      <td>Banashankari</td>\n",
       "      <td>Cafe, Casual Dining</td>\n",
       "      <td>Cafe, Mexican, Italian</td>\n",
       "      <td>800</td>\n",
       "      <td>Buffet</td>\n",
       "      <td>Banashankari</td>\n",
       "    </tr>\n",
       "    <tr>\n",
       "      <th>3</th>\n",
       "      <td>Addhuri Udupi Bhojana</td>\n",
       "      <td>No</td>\n",
       "      <td>No</td>\n",
       "      <td>3.7</td>\n",
       "      <td>88</td>\n",
       "      <td>Banashankari</td>\n",
       "      <td>Quick Bites</td>\n",
       "      <td>South Indian, North Indian</td>\n",
       "      <td>300</td>\n",
       "      <td>Buffet</td>\n",
       "      <td>Banashankari</td>\n",
       "    </tr>\n",
       "    <tr>\n",
       "      <th>4</th>\n",
       "      <td>Grand Village</td>\n",
       "      <td>No</td>\n",
       "      <td>No</td>\n",
       "      <td>3.8</td>\n",
       "      <td>166</td>\n",
       "      <td>Basavanagudi</td>\n",
       "      <td>Casual Dining</td>\n",
       "      <td>North Indian, Rajasthani</td>\n",
       "      <td>600</td>\n",
       "      <td>Buffet</td>\n",
       "      <td>Banashankari</td>\n",
       "    </tr>\n",
       "  </tbody>\n",
       "</table>\n",
       "</div>"
      ],
      "text/plain": [
       "                    name online_order book_table  rate  votes      location  \\\n",
       "0                  Jalsa          Yes        Yes   4.1    775  Banashankari   \n",
       "1         Spice Elephant          Yes         No   4.1    787  Banashankari   \n",
       "2        San Churro Cafe          Yes         No   3.8    918  Banashankari   \n",
       "3  Addhuri Udupi Bhojana           No         No   3.7     88  Banashankari   \n",
       "4          Grand Village           No         No   3.8    166  Basavanagudi   \n",
       "\n",
       "             rest_type                        cuisines Cost2plates    Type  \\\n",
       "0        Casual Dining  North Indian, Mughlai, Chinese         800  Buffet   \n",
       "1        Casual Dining     Chinese, North Indian, Thai         800  Buffet   \n",
       "2  Cafe, Casual Dining          Cafe, Mexican, Italian         800  Buffet   \n",
       "3          Quick Bites      South Indian, North Indian         300  Buffet   \n",
       "4        Casual Dining        North Indian, Rajasthani         600  Buffet   \n",
       "\n",
       "  listed_in(city)  \n",
       "0    Banashankari  \n",
       "1    Banashankari  \n",
       "2    Banashankari  \n",
       "3    Banashankari  \n",
       "4    Banashankari  "
      ]
     },
     "execution_count": 17,
     "metadata": {},
     "output_type": "execute_result"
    }
   ],
   "source": [
    "df.head()"
   ]
  },
  {
   "cell_type": "code",
   "execution_count": 18,
   "id": "59e31583",
   "metadata": {
    "execution": {
     "iopub.execute_input": "2024-02-20T15:42:31.685190Z",
     "iopub.status.busy": "2024-02-20T15:42:31.684887Z",
     "iopub.status.idle": "2024-02-20T15:42:31.693495Z",
     "shell.execute_reply": "2024-02-20T15:42:31.692705Z"
    },
    "papermill": {
     "duration": 0.023149,
     "end_time": "2024-02-20T15:42:31.695130",
     "exception": false,
     "start_time": "2024-02-20T15:42:31.671981",
     "status": "completed"
    },
    "tags": []
   },
   "outputs": [
    {
     "data": {
      "text/plain": [
       "array(['Banashankari', 'Basavanagudi', 'Mysore Road', 'Jayanagar',\n",
       "       'Kumaraswamy Layout', 'Rajarajeshwari Nagar', 'Vijay Nagar',\n",
       "       'Uttarahalli', 'JP Nagar', 'South Bangalore', 'City Market',\n",
       "       'Nagarbhavi', 'Bannerghatta Road', 'BTM', 'Kanakapura Road',\n",
       "       'Bommanahalli', 'CV Raman Nagar', 'Electronic City', 'HSR',\n",
       "       'Marathahalli', 'Wilson Garden', 'Shanti Nagar',\n",
       "       'Koramangala 5th Block', 'Koramangala 8th Block', 'Richmond Road',\n",
       "       'Koramangala 7th Block', 'Jalahalli', 'Koramangala 4th Block',\n",
       "       'Bellandur', 'Sarjapur Road', 'Whitefield', 'East Bangalore',\n",
       "       'Old Airport Road', 'Indiranagar', 'Koramangala 1st Block',\n",
       "       'Frazer Town', 'RT Nagar', 'MG Road', 'Brigade Road',\n",
       "       'Lavelle Road', 'Church Street', 'Ulsoor', 'Residency Road',\n",
       "       'Shivajinagar', 'Infantry Road', 'St. Marks Road',\n",
       "       'Cunningham Road', 'Race Course Road', 'Commercial Street',\n",
       "       'Vasanth Nagar', 'HBR Layout', 'Domlur', 'Ejipura',\n",
       "       'Jeevan Bhima Nagar', 'Old Madras Road', 'Malleshwaram',\n",
       "       'Seshadripuram', 'Kammanahalli', 'Koramangala 6th Block',\n",
       "       'Majestic', 'Langford Town', 'Central Bangalore', 'Sanjay Nagar',\n",
       "       'Brookefield', 'ITPL Main Road, Whitefield',\n",
       "       'Varthur Main Road, Whitefield', 'KR Puram',\n",
       "       'Koramangala 2nd Block', 'Koramangala 3rd Block', 'Koramangala',\n",
       "       'Hosur Road', 'Rajajinagar', 'Banaswadi', 'North Bangalore',\n",
       "       'Nagawara', 'Hennur', 'Kalyan Nagar', 'New BEL Road', 'Jakkur',\n",
       "       'Rammurthy Nagar', 'Thippasandra', 'Kaggadasapura', 'Hebbal',\n",
       "       'Kengeri', 'Sankey Road', 'Sadashiv Nagar', 'Basaveshwara Nagar',\n",
       "       'Yeshwantpur', 'West Bangalore', 'Magadi Road', 'Yelahanka',\n",
       "       'Sahakara Nagar', 'Peenya'], dtype=object)"
      ]
     },
     "execution_count": 18,
     "metadata": {},
     "output_type": "execute_result"
    }
   ],
   "source": [
    "df['location'].unique()"
   ]
  },
  {
   "cell_type": "code",
   "execution_count": 19,
   "id": "14ac3db9",
   "metadata": {
    "execution": {
     "iopub.execute_input": "2024-02-20T15:42:31.721070Z",
     "iopub.status.busy": "2024-02-20T15:42:31.720768Z",
     "iopub.status.idle": "2024-02-20T15:42:31.730348Z",
     "shell.execute_reply": "2024-02-20T15:42:31.729382Z"
    },
    "papermill": {
     "duration": 0.024666,
     "end_time": "2024-02-20T15:42:31.732113",
     "exception": false,
     "start_time": "2024-02-20T15:42:31.707447",
     "status": "completed"
    },
    "tags": []
   },
   "outputs": [
    {
     "data": {
      "text/plain": [
       "array(['Banashankari', 'Bannerghatta Road', 'Basavanagudi', 'Bellandur',\n",
       "       'Brigade Road', 'Brookefield', 'BTM', 'Church Street',\n",
       "       'Electronic City', 'Frazer Town', 'HSR', 'Indiranagar',\n",
       "       'Jayanagar', 'JP Nagar', 'Kalyan Nagar', 'Kammanahalli',\n",
       "       'Koramangala 4th Block', 'Koramangala 5th Block',\n",
       "       'Koramangala 6th Block', 'Koramangala 7th Block', 'Lavelle Road',\n",
       "       'Malleshwaram', 'Marathahalli', 'MG Road', 'New BEL Road',\n",
       "       'Old Airport Road', 'Rajajinagar', 'Residency Road',\n",
       "       'Sarjapur Road', 'Whitefield'], dtype=object)"
      ]
     },
     "execution_count": 19,
     "metadata": {},
     "output_type": "execute_result"
    }
   ],
   "source": [
    "df['listed_in(city)'].unique()"
   ]
  },
  {
   "cell_type": "code",
   "execution_count": 20,
   "id": "1bf816a3",
   "metadata": {
    "execution": {
     "iopub.execute_input": "2024-02-20T15:42:31.757883Z",
     "iopub.status.busy": "2024-02-20T15:42:31.757505Z",
     "iopub.status.idle": "2024-02-20T15:42:31.766586Z",
     "shell.execute_reply": "2024-02-20T15:42:31.765839Z"
    },
    "papermill": {
     "duration": 0.023953,
     "end_time": "2024-02-20T15:42:31.768495",
     "exception": false,
     "start_time": "2024-02-20T15:42:31.744542",
     "status": "completed"
    },
    "tags": []
   },
   "outputs": [],
   "source": [
    "df = df.drop(['listed_in(city)'], axis =1)"
   ]
  },
  {
   "cell_type": "code",
   "execution_count": 21,
   "id": "5bc2654b",
   "metadata": {
    "execution": {
     "iopub.execute_input": "2024-02-20T15:42:31.795525Z",
     "iopub.status.busy": "2024-02-20T15:42:31.795180Z",
     "iopub.status.idle": "2024-02-20T15:42:31.803392Z",
     "shell.execute_reply": "2024-02-20T15:42:31.802808Z"
    },
    "papermill": {
     "duration": 0.023295,
     "end_time": "2024-02-20T15:42:31.804966",
     "exception": false,
     "start_time": "2024-02-20T15:42:31.781671",
     "status": "completed"
    },
    "tags": []
   },
   "outputs": [
    {
     "data": {
      "text/plain": [
       "array(['800', '300', '600', '700', '550', '500', '450', '650', '400',\n",
       "       '900', '200', '750', '150', '850', '100', '1,200', '350', '250',\n",
       "       '950', '1,000', '1,500', '1,300', '199', '80', '1,100', '160',\n",
       "       '1,600', '230', '130', '50', '190', '1,700', '1,400', '180',\n",
       "       '1,350', '2,200', '2,000', '1,800', '1,900', '330', '2,500',\n",
       "       '2,100', '3,000', '2,800', '3,400', '40', '1,250', '3,500',\n",
       "       '4,000', '2,400', '2,600', '120', '1,450', '469', '70', '3,200',\n",
       "       '60', '560', '240', '360', '6,000', '1,050', '2,300', '4,100',\n",
       "       '5,000', '3,700', '1,650', '2,700', '4,500', '140'], dtype=object)"
      ]
     },
     "execution_count": 21,
     "metadata": {},
     "output_type": "execute_result"
    }
   ],
   "source": [
    "df['Cost2plates'].unique()"
   ]
  },
  {
   "cell_type": "code",
   "execution_count": 22,
   "id": "961e96b6",
   "metadata": {
    "execution": {
     "iopub.execute_input": "2024-02-20T15:42:31.870537Z",
     "iopub.status.busy": "2024-02-20T15:42:31.870212Z",
     "iopub.status.idle": "2024-02-20T15:42:31.898707Z",
     "shell.execute_reply": "2024-02-20T15:42:31.897893Z"
    },
    "papermill": {
     "duration": 0.082727,
     "end_time": "2024-02-20T15:42:31.900418",
     "exception": false,
     "start_time": "2024-02-20T15:42:31.817691",
     "status": "completed"
    },
    "tags": []
   },
   "outputs": [
    {
     "data": {
      "text/plain": [
       "array([ 800.,  300.,  600.,  700.,  550.,  500.,  450.,  650.,  400.,\n",
       "        900.,  200.,  750.,  150.,  850.,  100., 1200.,  350.,  250.,\n",
       "        950., 1000., 1500., 1300.,  199.,   80., 1100.,  160., 1600.,\n",
       "        230.,  130.,   50.,  190., 1700., 1400.,  180., 1350., 2200.,\n",
       "       2000., 1800., 1900.,  330., 2500., 2100., 3000., 2800., 3400.,\n",
       "         40., 1250., 3500., 4000., 2400., 2600.,  120., 1450.,  469.,\n",
       "         70., 3200.,   60.,  560.,  240.,  360., 6000., 1050., 2300.,\n",
       "       4100., 5000., 3700., 1650., 2700., 4500.,  140.])"
      ]
     },
     "execution_count": 22,
     "metadata": {},
     "output_type": "execute_result"
    }
   ],
   "source": [
    "# Removing , from Cost2plates\n",
    "def removecomma(value):\n",
    "    value = str(value)\n",
    "    if ',' in value:\n",
    "        value = value.replace(',','')\n",
    "        return float(value)\n",
    "    else:\n",
    "        return float(value)\n",
    "\n",
    "df['Cost2plates'] = df['Cost2plates'].apply(removecomma)\n",
    "df['Cost2plates'].unique()"
   ]
  },
  {
   "cell_type": "code",
   "execution_count": 23,
   "id": "696a0be3",
   "metadata": {
    "execution": {
     "iopub.execute_input": "2024-02-20T15:42:31.925902Z",
     "iopub.status.busy": "2024-02-20T15:42:31.925670Z",
     "iopub.status.idle": "2024-02-20T15:42:31.937851Z",
     "shell.execute_reply": "2024-02-20T15:42:31.937069Z"
    },
    "papermill": {
     "duration": 0.02652,
     "end_time": "2024-02-20T15:42:31.939429",
     "exception": false,
     "start_time": "2024-02-20T15:42:31.912909",
     "status": "completed"
    },
    "tags": []
   },
   "outputs": [
    {
     "data": {
      "text/html": [
       "<div>\n",
       "<style scoped>\n",
       "    .dataframe tbody tr th:only-of-type {\n",
       "        vertical-align: middle;\n",
       "    }\n",
       "\n",
       "    .dataframe tbody tr th {\n",
       "        vertical-align: top;\n",
       "    }\n",
       "\n",
       "    .dataframe thead th {\n",
       "        text-align: right;\n",
       "    }\n",
       "</style>\n",
       "<table border=\"1\" class=\"dataframe\">\n",
       "  <thead>\n",
       "    <tr style=\"text-align: right;\">\n",
       "      <th></th>\n",
       "      <th>name</th>\n",
       "      <th>online_order</th>\n",
       "      <th>book_table</th>\n",
       "      <th>rate</th>\n",
       "      <th>votes</th>\n",
       "      <th>location</th>\n",
       "      <th>rest_type</th>\n",
       "      <th>cuisines</th>\n",
       "      <th>Cost2plates</th>\n",
       "      <th>Type</th>\n",
       "    </tr>\n",
       "  </thead>\n",
       "  <tbody>\n",
       "    <tr>\n",
       "      <th>0</th>\n",
       "      <td>Jalsa</td>\n",
       "      <td>Yes</td>\n",
       "      <td>Yes</td>\n",
       "      <td>4.1</td>\n",
       "      <td>775</td>\n",
       "      <td>Banashankari</td>\n",
       "      <td>Casual Dining</td>\n",
       "      <td>North Indian, Mughlai, Chinese</td>\n",
       "      <td>800.0</td>\n",
       "      <td>Buffet</td>\n",
       "    </tr>\n",
       "    <tr>\n",
       "      <th>1</th>\n",
       "      <td>Spice Elephant</td>\n",
       "      <td>Yes</td>\n",
       "      <td>No</td>\n",
       "      <td>4.1</td>\n",
       "      <td>787</td>\n",
       "      <td>Banashankari</td>\n",
       "      <td>Casual Dining</td>\n",
       "      <td>Chinese, North Indian, Thai</td>\n",
       "      <td>800.0</td>\n",
       "      <td>Buffet</td>\n",
       "    </tr>\n",
       "    <tr>\n",
       "      <th>2</th>\n",
       "      <td>San Churro Cafe</td>\n",
       "      <td>Yes</td>\n",
       "      <td>No</td>\n",
       "      <td>3.8</td>\n",
       "      <td>918</td>\n",
       "      <td>Banashankari</td>\n",
       "      <td>Cafe, Casual Dining</td>\n",
       "      <td>Cafe, Mexican, Italian</td>\n",
       "      <td>800.0</td>\n",
       "      <td>Buffet</td>\n",
       "    </tr>\n",
       "    <tr>\n",
       "      <th>3</th>\n",
       "      <td>Addhuri Udupi Bhojana</td>\n",
       "      <td>No</td>\n",
       "      <td>No</td>\n",
       "      <td>3.7</td>\n",
       "      <td>88</td>\n",
       "      <td>Banashankari</td>\n",
       "      <td>Quick Bites</td>\n",
       "      <td>South Indian, North Indian</td>\n",
       "      <td>300.0</td>\n",
       "      <td>Buffet</td>\n",
       "    </tr>\n",
       "    <tr>\n",
       "      <th>4</th>\n",
       "      <td>Grand Village</td>\n",
       "      <td>No</td>\n",
       "      <td>No</td>\n",
       "      <td>3.8</td>\n",
       "      <td>166</td>\n",
       "      <td>Basavanagudi</td>\n",
       "      <td>Casual Dining</td>\n",
       "      <td>North Indian, Rajasthani</td>\n",
       "      <td>600.0</td>\n",
       "      <td>Buffet</td>\n",
       "    </tr>\n",
       "  </tbody>\n",
       "</table>\n",
       "</div>"
      ],
      "text/plain": [
       "                    name online_order book_table  rate  votes      location  \\\n",
       "0                  Jalsa          Yes        Yes   4.1    775  Banashankari   \n",
       "1         Spice Elephant          Yes         No   4.1    787  Banashankari   \n",
       "2        San Churro Cafe          Yes         No   3.8    918  Banashankari   \n",
       "3  Addhuri Udupi Bhojana           No         No   3.7     88  Banashankari   \n",
       "4          Grand Village           No         No   3.8    166  Basavanagudi   \n",
       "\n",
       "             rest_type                        cuisines  Cost2plates    Type  \n",
       "0        Casual Dining  North Indian, Mughlai, Chinese        800.0  Buffet  \n",
       "1        Casual Dining     Chinese, North Indian, Thai        800.0  Buffet  \n",
       "2  Cafe, Casual Dining          Cafe, Mexican, Italian        800.0  Buffet  \n",
       "3          Quick Bites      South Indian, North Indian        300.0  Buffet  \n",
       "4        Casual Dining        North Indian, Rajasthani        600.0  Buffet  "
      ]
     },
     "execution_count": 23,
     "metadata": {},
     "output_type": "execute_result"
    }
   ],
   "source": [
    "df.head()"
   ]
  },
  {
   "cell_type": "code",
   "execution_count": 24,
   "id": "8394a47b",
   "metadata": {
    "execution": {
     "iopub.execute_input": "2024-02-20T15:42:31.964946Z",
     "iopub.status.busy": "2024-02-20T15:42:31.964658Z",
     "iopub.status.idle": "2024-02-20T15:42:31.973893Z",
     "shell.execute_reply": "2024-02-20T15:42:31.972846Z"
    },
    "papermill": {
     "duration": 0.023783,
     "end_time": "2024-02-20T15:42:31.975437",
     "exception": false,
     "start_time": "2024-02-20T15:42:31.951654",
     "status": "completed"
    },
    "tags": []
   },
   "outputs": [
    {
     "data": {
      "text/plain": [
       "rest_type\n",
       "Quick Bites                   19010\n",
       "Casual Dining                 10253\n",
       "Cafe                           3682\n",
       "Delivery                       2574\n",
       "Dessert Parlor                 2242\n",
       "                              ...  \n",
       "Dessert Parlor, Kiosk             2\n",
       "Food Court, Beverage Shop         2\n",
       "Dessert Parlor, Food Court        2\n",
       "Quick Bites, Kiosk                1\n",
       "Sweet Shop, Dessert Parlor        1\n",
       "Name: count, Length: 93, dtype: int64"
      ]
     },
     "execution_count": 24,
     "metadata": {},
     "output_type": "execute_result"
    }
   ],
   "source": [
    "df['rest_type'].value_counts()"
   ]
  },
  {
   "cell_type": "code",
   "execution_count": 25,
   "id": "dcb21f4b",
   "metadata": {
    "execution": {
     "iopub.execute_input": "2024-02-20T15:42:32.001596Z",
     "iopub.status.busy": "2024-02-20T15:42:32.001260Z",
     "iopub.status.idle": "2024-02-20T15:42:32.010953Z",
     "shell.execute_reply": "2024-02-20T15:42:32.010221Z"
    },
    "papermill": {
     "duration": 0.024407,
     "end_time": "2024-02-20T15:42:32.012384",
     "exception": false,
     "start_time": "2024-02-20T15:42:31.987977",
     "status": "completed"
    },
    "tags": []
   },
   "outputs": [
    {
     "data": {
      "text/plain": [
       "rest_type\n",
       "Quick Bites                   19010\n",
       "Casual Dining                 10253\n",
       "Cafe                           3682\n",
       "Delivery                       2574\n",
       "Dessert Parlor                 2242\n",
       "                              ...  \n",
       "Dessert Parlor, Kiosk             2\n",
       "Food Court, Beverage Shop         2\n",
       "Dessert Parlor, Food Court        2\n",
       "Quick Bites, Kiosk                1\n",
       "Sweet Shop, Dessert Parlor        1\n",
       "Name: count, Length: 93, dtype: int64"
      ]
     },
     "execution_count": 25,
     "metadata": {},
     "output_type": "execute_result"
    }
   ],
   "source": [
    "rest_types = df['rest_type'].value_counts(ascending = False)\n",
    "rest_types"
   ]
  },
  {
   "cell_type": "code",
   "execution_count": 26,
   "id": "d72b9774",
   "metadata": {
    "execution": {
     "iopub.execute_input": "2024-02-20T15:42:32.039375Z",
     "iopub.status.busy": "2024-02-20T15:42:32.038406Z",
     "iopub.status.idle": "2024-02-20T15:42:32.046468Z",
     "shell.execute_reply": "2024-02-20T15:42:32.045896Z"
    },
    "papermill": {
     "duration": 0.02332,
     "end_time": "2024-02-20T15:42:32.048111",
     "exception": false,
     "start_time": "2024-02-20T15:42:32.024791",
     "status": "completed"
    },
    "tags": []
   },
   "outputs": [
    {
     "data": {
      "text/plain": [
       "rest_type\n",
       "Beverage Shop                 863\n",
       "Bar                           686\n",
       "Food Court                    616\n",
       "Sweet Shop                    468\n",
       "Bar, Casual Dining            411\n",
       "                             ... \n",
       "Dessert Parlor, Kiosk           2\n",
       "Food Court, Beverage Shop       2\n",
       "Dessert Parlor, Food Court      2\n",
       "Quick Bites, Kiosk              1\n",
       "Sweet Shop, Dessert Parlor      1\n",
       "Name: count, Length: 85, dtype: int64"
      ]
     },
     "execution_count": 26,
     "metadata": {},
     "output_type": "execute_result"
    }
   ],
   "source": [
    "rest_types_lessthan1000 = rest_types[rest_types<1000]\n",
    "rest_types_lessthan1000"
   ]
  },
  {
   "cell_type": "code",
   "execution_count": 27,
   "id": "4a0b32a7",
   "metadata": {
    "execution": {
     "iopub.execute_input": "2024-02-20T15:42:32.077087Z",
     "iopub.status.busy": "2024-02-20T15:42:32.076705Z",
     "iopub.status.idle": "2024-02-20T15:42:32.172392Z",
     "shell.execute_reply": "2024-02-20T15:42:32.171460Z"
    },
    "papermill": {
     "duration": 0.111737,
     "end_time": "2024-02-20T15:42:32.174148",
     "exception": false,
     "start_time": "2024-02-20T15:42:32.062411",
     "status": "completed"
    },
    "tags": []
   },
   "outputs": [
    {
     "data": {
      "text/plain": [
       "rest_type\n",
       "Quick Bites           19010\n",
       "Casual Dining         10253\n",
       "others                 9003\n",
       "Cafe                   3682\n",
       "Delivery               2574\n",
       "Dessert Parlor         2242\n",
       "Takeaway, Delivery     2008\n",
       "Bakery                 1140\n",
       "Casual Dining, Bar     1130\n",
       "Name: count, dtype: int64"
      ]
     },
     "execution_count": 27,
     "metadata": {},
     "output_type": "execute_result"
    }
   ],
   "source": [
    "def handle_rest_types(value):\n",
    "    if(value in rest_types_lessthan1000):\n",
    "        return 'others'\n",
    "    else:\n",
    "        return value\n",
    "\n",
    "df['rest_type'] = df['rest_type'].apply(handle_rest_types)\n",
    "df['rest_type'].value_counts()"
   ]
  },
  {
   "cell_type": "code",
   "execution_count": 28,
   "id": "a0459461",
   "metadata": {
    "execution": {
     "iopub.execute_input": "2024-02-20T15:42:32.202497Z",
     "iopub.status.busy": "2024-02-20T15:42:32.202173Z",
     "iopub.status.idle": "2024-02-20T15:42:32.214935Z",
     "shell.execute_reply": "2024-02-20T15:42:32.213833Z"
    },
    "papermill": {
     "duration": 0.028902,
     "end_time": "2024-02-20T15:42:32.216646",
     "exception": false,
     "start_time": "2024-02-20T15:42:32.187744",
     "status": "completed"
    },
    "tags": []
   },
   "outputs": [
    {
     "data": {
      "text/html": [
       "<div>\n",
       "<style scoped>\n",
       "    .dataframe tbody tr th:only-of-type {\n",
       "        vertical-align: middle;\n",
       "    }\n",
       "\n",
       "    .dataframe tbody tr th {\n",
       "        vertical-align: top;\n",
       "    }\n",
       "\n",
       "    .dataframe thead th {\n",
       "        text-align: right;\n",
       "    }\n",
       "</style>\n",
       "<table border=\"1\" class=\"dataframe\">\n",
       "  <thead>\n",
       "    <tr style=\"text-align: right;\">\n",
       "      <th></th>\n",
       "      <th>name</th>\n",
       "      <th>online_order</th>\n",
       "      <th>book_table</th>\n",
       "      <th>rate</th>\n",
       "      <th>votes</th>\n",
       "      <th>location</th>\n",
       "      <th>rest_type</th>\n",
       "      <th>cuisines</th>\n",
       "      <th>Cost2plates</th>\n",
       "      <th>Type</th>\n",
       "    </tr>\n",
       "  </thead>\n",
       "  <tbody>\n",
       "    <tr>\n",
       "      <th>0</th>\n",
       "      <td>Jalsa</td>\n",
       "      <td>Yes</td>\n",
       "      <td>Yes</td>\n",
       "      <td>4.1</td>\n",
       "      <td>775</td>\n",
       "      <td>Banashankari</td>\n",
       "      <td>Casual Dining</td>\n",
       "      <td>North Indian, Mughlai, Chinese</td>\n",
       "      <td>800.0</td>\n",
       "      <td>Buffet</td>\n",
       "    </tr>\n",
       "    <tr>\n",
       "      <th>1</th>\n",
       "      <td>Spice Elephant</td>\n",
       "      <td>Yes</td>\n",
       "      <td>No</td>\n",
       "      <td>4.1</td>\n",
       "      <td>787</td>\n",
       "      <td>Banashankari</td>\n",
       "      <td>Casual Dining</td>\n",
       "      <td>Chinese, North Indian, Thai</td>\n",
       "      <td>800.0</td>\n",
       "      <td>Buffet</td>\n",
       "    </tr>\n",
       "    <tr>\n",
       "      <th>2</th>\n",
       "      <td>San Churro Cafe</td>\n",
       "      <td>Yes</td>\n",
       "      <td>No</td>\n",
       "      <td>3.8</td>\n",
       "      <td>918</td>\n",
       "      <td>Banashankari</td>\n",
       "      <td>others</td>\n",
       "      <td>Cafe, Mexican, Italian</td>\n",
       "      <td>800.0</td>\n",
       "      <td>Buffet</td>\n",
       "    </tr>\n",
       "    <tr>\n",
       "      <th>3</th>\n",
       "      <td>Addhuri Udupi Bhojana</td>\n",
       "      <td>No</td>\n",
       "      <td>No</td>\n",
       "      <td>3.7</td>\n",
       "      <td>88</td>\n",
       "      <td>Banashankari</td>\n",
       "      <td>Quick Bites</td>\n",
       "      <td>South Indian, North Indian</td>\n",
       "      <td>300.0</td>\n",
       "      <td>Buffet</td>\n",
       "    </tr>\n",
       "    <tr>\n",
       "      <th>4</th>\n",
       "      <td>Grand Village</td>\n",
       "      <td>No</td>\n",
       "      <td>No</td>\n",
       "      <td>3.8</td>\n",
       "      <td>166</td>\n",
       "      <td>Basavanagudi</td>\n",
       "      <td>Casual Dining</td>\n",
       "      <td>North Indian, Rajasthani</td>\n",
       "      <td>600.0</td>\n",
       "      <td>Buffet</td>\n",
       "    </tr>\n",
       "  </tbody>\n",
       "</table>\n",
       "</div>"
      ],
      "text/plain": [
       "                    name online_order book_table  rate  votes      location  \\\n",
       "0                  Jalsa          Yes        Yes   4.1    775  Banashankari   \n",
       "1         Spice Elephant          Yes         No   4.1    787  Banashankari   \n",
       "2        San Churro Cafe          Yes         No   3.8    918  Banashankari   \n",
       "3  Addhuri Udupi Bhojana           No         No   3.7     88  Banashankari   \n",
       "4          Grand Village           No         No   3.8    166  Basavanagudi   \n",
       "\n",
       "       rest_type                        cuisines  Cost2plates    Type  \n",
       "0  Casual Dining  North Indian, Mughlai, Chinese        800.0  Buffet  \n",
       "1  Casual Dining     Chinese, North Indian, Thai        800.0  Buffet  \n",
       "2         others          Cafe, Mexican, Italian        800.0  Buffet  \n",
       "3    Quick Bites      South Indian, North Indian        300.0  Buffet  \n",
       "4  Casual Dining        North Indian, Rajasthani        600.0  Buffet  "
      ]
     },
     "execution_count": 28,
     "metadata": {},
     "output_type": "execute_result"
    }
   ],
   "source": [
    "df.head()"
   ]
  },
  {
   "cell_type": "code",
   "execution_count": 29,
   "id": "32760071",
   "metadata": {
    "execution": {
     "iopub.execute_input": "2024-02-20T15:42:32.246334Z",
     "iopub.status.busy": "2024-02-20T15:42:32.246006Z",
     "iopub.status.idle": "2024-02-20T15:42:32.255513Z",
     "shell.execute_reply": "2024-02-20T15:42:32.254717Z"
    },
    "papermill": {
     "duration": 0.026122,
     "end_time": "2024-02-20T15:42:32.257595",
     "exception": false,
     "start_time": "2024-02-20T15:42:32.231473",
     "status": "completed"
    },
    "tags": []
   },
   "outputs": [
    {
     "data": {
      "text/plain": [
       "location\n",
       "BTM                      5056\n",
       "HSR                      2494\n",
       "Koramangala 5th Block    2479\n",
       "JP Nagar                 2218\n",
       "Whitefield               2105\n",
       "                         ... \n",
       "West Bangalore              6\n",
       "Yelahanka                   5\n",
       "Jakkur                      3\n",
       "Rajarajeshwari Nagar        2\n",
       "Peenya                      1\n",
       "Name: count, Length: 93, dtype: int64"
      ]
     },
     "execution_count": 29,
     "metadata": {},
     "output_type": "execute_result"
    }
   ],
   "source": [
    "df['location'].value_counts()"
   ]
  },
  {
   "cell_type": "code",
   "execution_count": 30,
   "id": "65178cd8",
   "metadata": {
    "execution": {
     "iopub.execute_input": "2024-02-20T15:42:32.287152Z",
     "iopub.status.busy": "2024-02-20T15:42:32.286847Z",
     "iopub.status.idle": "2024-02-20T15:42:32.295869Z",
     "shell.execute_reply": "2024-02-20T15:42:32.295063Z"
    },
    "papermill": {
     "duration": 0.02566,
     "end_time": "2024-02-20T15:42:32.297654",
     "exception": false,
     "start_time": "2024-02-20T15:42:32.271994",
     "status": "completed"
    },
    "tags": []
   },
   "outputs": [
    {
     "data": {
      "text/plain": [
       "location\n",
       "BTM                      5056\n",
       "HSR                      2494\n",
       "Koramangala 5th Block    2479\n",
       "JP Nagar                 2218\n",
       "Whitefield               2105\n",
       "                         ... \n",
       "West Bangalore              6\n",
       "Yelahanka                   5\n",
       "Jakkur                      3\n",
       "Rajarajeshwari Nagar        2\n",
       "Peenya                      1\n",
       "Name: count, Length: 93, dtype: int64"
      ]
     },
     "execution_count": 30,
     "metadata": {},
     "output_type": "execute_result"
    }
   ],
   "source": [
    "location = df['location'].value_counts(ascending = False)\n",
    "location"
   ]
  },
  {
   "cell_type": "code",
   "execution_count": 31,
   "id": "37492254",
   "metadata": {
    "execution": {
     "iopub.execute_input": "2024-02-20T15:42:32.327740Z",
     "iopub.status.busy": "2024-02-20T15:42:32.327383Z",
     "iopub.status.idle": "2024-02-20T15:42:32.332504Z",
     "shell.execute_reply": "2024-02-20T15:42:32.331493Z"
    },
    "papermill": {
     "duration": 0.022511,
     "end_time": "2024-02-20T15:42:32.334359",
     "exception": false,
     "start_time": "2024-02-20T15:42:32.311848",
     "status": "completed"
    },
    "tags": []
   },
   "outputs": [],
   "source": [
    "location_lessthan300 = location[location<300]"
   ]
  },
  {
   "cell_type": "code",
   "execution_count": 32,
   "id": "e01111a3",
   "metadata": {
    "execution": {
     "iopub.execute_input": "2024-02-20T15:42:32.363783Z",
     "iopub.status.busy": "2024-02-20T15:42:32.363002Z",
     "iopub.status.idle": "2024-02-20T15:42:32.459745Z",
     "shell.execute_reply": "2024-02-20T15:42:32.458893Z"
    },
    "papermill": {
     "duration": 0.112933,
     "end_time": "2024-02-20T15:42:32.461347",
     "exception": false,
     "start_time": "2024-02-20T15:42:32.348414",
     "status": "completed"
    },
    "tags": []
   },
   "outputs": [
    {
     "data": {
      "text/plain": [
       "location\n",
       "BTM                      5056\n",
       "others                   4954\n",
       "HSR                      2494\n",
       "Koramangala 5th Block    2479\n",
       "JP Nagar                 2218\n",
       "Whitefield               2105\n",
       "Indiranagar              2026\n",
       "Jayanagar                1916\n",
       "Marathahalli             1805\n",
       "Bannerghatta Road        1609\n",
       "Bellandur                1268\n",
       "Electronic City          1246\n",
       "Koramangala 1st Block    1236\n",
       "Brigade Road             1210\n",
       "Koramangala 7th Block    1174\n",
       "Koramangala 6th Block    1127\n",
       "Sarjapur Road            1047\n",
       "Koramangala 4th Block    1017\n",
       "Ulsoor                   1011\n",
       "Banashankari              902\n",
       "MG Road                   893\n",
       "Kalyan Nagar              841\n",
       "Richmond Road             803\n",
       "Malleshwaram              721\n",
       "Frazer Town               714\n",
       "Basavanagudi              684\n",
       "Residency Road            671\n",
       "Brookefield               656\n",
       "New BEL Road              644\n",
       "Banaswadi                 640\n",
       "Kammanahalli              639\n",
       "Rajajinagar               591\n",
       "Church Street             566\n",
       "Lavelle Road              518\n",
       "Shanti Nagar              508\n",
       "Shivajinagar              498\n",
       "Cunningham Road           490\n",
       "Domlur                    482\n",
       "Old Airport Road          437\n",
       "Ejipura                   433\n",
       "Commercial Street         370\n",
       "St. Marks Road            343\n",
       "Name: count, dtype: int64"
      ]
     },
     "execution_count": 32,
     "metadata": {},
     "output_type": "execute_result"
    }
   ],
   "source": [
    "def handle_location(value):\n",
    "    if(value in location_lessthan300):\n",
    "        return 'others'\n",
    "    else:\n",
    "        return value\n",
    "    \n",
    "df['location'] = df['location'].apply(handle_location)\n",
    "df['location'].value_counts()"
   ]
  },
  {
   "cell_type": "code",
   "execution_count": 33,
   "id": "e53f6621",
   "metadata": {
    "execution": {
     "iopub.execute_input": "2024-02-20T15:42:32.490813Z",
     "iopub.status.busy": "2024-02-20T15:42:32.490329Z",
     "iopub.status.idle": "2024-02-20T15:42:32.501687Z",
     "shell.execute_reply": "2024-02-20T15:42:32.501069Z"
    },
    "papermill": {
     "duration": 0.027953,
     "end_time": "2024-02-20T15:42:32.503336",
     "exception": false,
     "start_time": "2024-02-20T15:42:32.475383",
     "status": "completed"
    },
    "tags": []
   },
   "outputs": [
    {
     "data": {
      "text/html": [
       "<div>\n",
       "<style scoped>\n",
       "    .dataframe tbody tr th:only-of-type {\n",
       "        vertical-align: middle;\n",
       "    }\n",
       "\n",
       "    .dataframe tbody tr th {\n",
       "        vertical-align: top;\n",
       "    }\n",
       "\n",
       "    .dataframe thead th {\n",
       "        text-align: right;\n",
       "    }\n",
       "</style>\n",
       "<table border=\"1\" class=\"dataframe\">\n",
       "  <thead>\n",
       "    <tr style=\"text-align: right;\">\n",
       "      <th></th>\n",
       "      <th>name</th>\n",
       "      <th>online_order</th>\n",
       "      <th>book_table</th>\n",
       "      <th>rate</th>\n",
       "      <th>votes</th>\n",
       "      <th>location</th>\n",
       "      <th>rest_type</th>\n",
       "      <th>cuisines</th>\n",
       "      <th>Cost2plates</th>\n",
       "      <th>Type</th>\n",
       "    </tr>\n",
       "  </thead>\n",
       "  <tbody>\n",
       "    <tr>\n",
       "      <th>0</th>\n",
       "      <td>Jalsa</td>\n",
       "      <td>Yes</td>\n",
       "      <td>Yes</td>\n",
       "      <td>4.1</td>\n",
       "      <td>775</td>\n",
       "      <td>Banashankari</td>\n",
       "      <td>Casual Dining</td>\n",
       "      <td>North Indian, Mughlai, Chinese</td>\n",
       "      <td>800.0</td>\n",
       "      <td>Buffet</td>\n",
       "    </tr>\n",
       "    <tr>\n",
       "      <th>1</th>\n",
       "      <td>Spice Elephant</td>\n",
       "      <td>Yes</td>\n",
       "      <td>No</td>\n",
       "      <td>4.1</td>\n",
       "      <td>787</td>\n",
       "      <td>Banashankari</td>\n",
       "      <td>Casual Dining</td>\n",
       "      <td>Chinese, North Indian, Thai</td>\n",
       "      <td>800.0</td>\n",
       "      <td>Buffet</td>\n",
       "    </tr>\n",
       "    <tr>\n",
       "      <th>2</th>\n",
       "      <td>San Churro Cafe</td>\n",
       "      <td>Yes</td>\n",
       "      <td>No</td>\n",
       "      <td>3.8</td>\n",
       "      <td>918</td>\n",
       "      <td>Banashankari</td>\n",
       "      <td>others</td>\n",
       "      <td>Cafe, Mexican, Italian</td>\n",
       "      <td>800.0</td>\n",
       "      <td>Buffet</td>\n",
       "    </tr>\n",
       "    <tr>\n",
       "      <th>3</th>\n",
       "      <td>Addhuri Udupi Bhojana</td>\n",
       "      <td>No</td>\n",
       "      <td>No</td>\n",
       "      <td>3.7</td>\n",
       "      <td>88</td>\n",
       "      <td>Banashankari</td>\n",
       "      <td>Quick Bites</td>\n",
       "      <td>South Indian, North Indian</td>\n",
       "      <td>300.0</td>\n",
       "      <td>Buffet</td>\n",
       "    </tr>\n",
       "    <tr>\n",
       "      <th>4</th>\n",
       "      <td>Grand Village</td>\n",
       "      <td>No</td>\n",
       "      <td>No</td>\n",
       "      <td>3.8</td>\n",
       "      <td>166</td>\n",
       "      <td>Basavanagudi</td>\n",
       "      <td>Casual Dining</td>\n",
       "      <td>North Indian, Rajasthani</td>\n",
       "      <td>600.0</td>\n",
       "      <td>Buffet</td>\n",
       "    </tr>\n",
       "  </tbody>\n",
       "</table>\n",
       "</div>"
      ],
      "text/plain": [
       "                    name online_order book_table  rate  votes      location  \\\n",
       "0                  Jalsa          Yes        Yes   4.1    775  Banashankari   \n",
       "1         Spice Elephant          Yes         No   4.1    787  Banashankari   \n",
       "2        San Churro Cafe          Yes         No   3.8    918  Banashankari   \n",
       "3  Addhuri Udupi Bhojana           No         No   3.7     88  Banashankari   \n",
       "4          Grand Village           No         No   3.8    166  Basavanagudi   \n",
       "\n",
       "       rest_type                        cuisines  Cost2plates    Type  \n",
       "0  Casual Dining  North Indian, Mughlai, Chinese        800.0  Buffet  \n",
       "1  Casual Dining     Chinese, North Indian, Thai        800.0  Buffet  \n",
       "2         others          Cafe, Mexican, Italian        800.0  Buffet  \n",
       "3    Quick Bites      South Indian, North Indian        300.0  Buffet  \n",
       "4  Casual Dining        North Indian, Rajasthani        600.0  Buffet  "
      ]
     },
     "execution_count": 33,
     "metadata": {},
     "output_type": "execute_result"
    }
   ],
   "source": [
    "df.head()"
   ]
  },
  {
   "cell_type": "code",
   "execution_count": 34,
   "id": "e03c6839",
   "metadata": {
    "execution": {
     "iopub.execute_input": "2024-02-20T15:42:32.533466Z",
     "iopub.status.busy": "2024-02-20T15:42:32.532944Z",
     "iopub.status.idle": "2024-02-20T15:42:32.542897Z",
     "shell.execute_reply": "2024-02-20T15:42:32.542326Z"
    },
    "papermill": {
     "duration": 0.026716,
     "end_time": "2024-02-20T15:42:32.544353",
     "exception": false,
     "start_time": "2024-02-20T15:42:32.517637",
     "status": "completed"
    },
    "tags": []
   },
   "outputs": [
    {
     "data": {
      "text/plain": [
       "cuisines\n",
       "North Indian                                2852\n",
       "North Indian, Chinese                       2351\n",
       "South Indian                                1820\n",
       "Biryani                                      903\n",
       "Bakery, Desserts                             898\n",
       "                                            ... \n",
       "North Indian, Chinese, Oriya, Mithai           1\n",
       "Beverages, Burger                              1\n",
       "North Indian, Mughlai, Lucknowi                1\n",
       "Continental, Thai, North Indian, Chinese       1\n",
       "North Indian, Chinese, Arabian, Momos          1\n",
       "Name: count, Length: 2704, dtype: int64"
      ]
     },
     "execution_count": 34,
     "metadata": {},
     "output_type": "execute_result"
    }
   ],
   "source": [
    "df['cuisines'].value_counts()"
   ]
  },
  {
   "cell_type": "code",
   "execution_count": 35,
   "id": "6dd5b024",
   "metadata": {
    "execution": {
     "iopub.execute_input": "2024-02-20T15:42:32.574194Z",
     "iopub.status.busy": "2024-02-20T15:42:32.573654Z",
     "iopub.status.idle": "2024-02-20T15:42:32.580967Z",
     "shell.execute_reply": "2024-02-20T15:42:32.580183Z"
    },
    "papermill": {
     "duration": 0.024166,
     "end_time": "2024-02-20T15:42:32.582762",
     "exception": false,
     "start_time": "2024-02-20T15:42:32.558596",
     "status": "completed"
    },
    "tags": []
   },
   "outputs": [],
   "source": [
    "cuisines = df['cuisines'].value_counts(ascending = False)"
   ]
  },
  {
   "cell_type": "code",
   "execution_count": 36,
   "id": "2c7f4ddb",
   "metadata": {
    "execution": {
     "iopub.execute_input": "2024-02-20T15:42:32.612254Z",
     "iopub.status.busy": "2024-02-20T15:42:32.611959Z",
     "iopub.status.idle": "2024-02-20T15:42:32.616621Z",
     "shell.execute_reply": "2024-02-20T15:42:32.615849Z"
    },
    "papermill": {
     "duration": 0.021177,
     "end_time": "2024-02-20T15:42:32.618082",
     "exception": false,
     "start_time": "2024-02-20T15:42:32.596905",
     "status": "completed"
    },
    "tags": []
   },
   "outputs": [],
   "source": [
    "cuisines_lessthan100 = cuisines[cuisines<300]"
   ]
  },
  {
   "cell_type": "code",
   "execution_count": 37,
   "id": "689cac00",
   "metadata": {
    "execution": {
     "iopub.execute_input": "2024-02-20T15:42:32.646885Z",
     "iopub.status.busy": "2024-02-20T15:42:32.646486Z",
     "iopub.status.idle": "2024-02-20T15:42:32.726831Z",
     "shell.execute_reply": "2024-02-20T15:42:32.725972Z"
    },
    "papermill": {
     "duration": 0.097006,
     "end_time": "2024-02-20T15:42:32.728762",
     "exception": false,
     "start_time": "2024-02-20T15:42:32.631756",
     "status": "completed"
    },
    "tags": []
   },
   "outputs": [
    {
     "data": {
      "text/plain": [
       "cuisines\n",
       "others                                 35170\n",
       "North Indian                            2852\n",
       "North Indian, Chinese                   2351\n",
       "South Indian                            1820\n",
       "Biryani                                  903\n",
       "Bakery, Desserts                         898\n",
       "Fast Food                                796\n",
       "Desserts                                 754\n",
       "Cafe                                     725\n",
       "South Indian, North Indian, Chinese      724\n",
       "Bakery                                   649\n",
       "Chinese                                  552\n",
       "Ice Cream, Desserts                      415\n",
       "Chinese, North Indian                    405\n",
       "Mithai, Street Food                      363\n",
       "Desserts, Ice Cream                      349\n",
       "North Indian, Chinese, Biryani           345\n",
       "South Indian, North Indian               337\n",
       "North Indian, South Indian               329\n",
       "North Indian, South Indian, Chinese      305\n",
       "Name: count, dtype: int64"
      ]
     },
     "execution_count": 37,
     "metadata": {},
     "output_type": "execute_result"
    }
   ],
   "source": [
    "def handle_cuisines(value):\n",
    "    if(value in cuisines_lessthan100):\n",
    "        return 'others'\n",
    "    else:\n",
    "        return value\n",
    "    \n",
    "df['cuisines'] = df['cuisines'].apply(handle_cuisines)\n",
    "df['cuisines'].value_counts()"
   ]
  },
  {
   "cell_type": "code",
   "execution_count": 38,
   "id": "2706a4d9",
   "metadata": {
    "execution": {
     "iopub.execute_input": "2024-02-20T15:42:32.758361Z",
     "iopub.status.busy": "2024-02-20T15:42:32.757609Z",
     "iopub.status.idle": "2024-02-20T15:42:32.769526Z",
     "shell.execute_reply": "2024-02-20T15:42:32.768748Z"
    },
    "papermill": {
     "duration": 0.028795,
     "end_time": "2024-02-20T15:42:32.771717",
     "exception": false,
     "start_time": "2024-02-20T15:42:32.742922",
     "status": "completed"
    },
    "tags": []
   },
   "outputs": [
    {
     "data": {
      "text/html": [
       "<div>\n",
       "<style scoped>\n",
       "    .dataframe tbody tr th:only-of-type {\n",
       "        vertical-align: middle;\n",
       "    }\n",
       "\n",
       "    .dataframe tbody tr th {\n",
       "        vertical-align: top;\n",
       "    }\n",
       "\n",
       "    .dataframe thead th {\n",
       "        text-align: right;\n",
       "    }\n",
       "</style>\n",
       "<table border=\"1\" class=\"dataframe\">\n",
       "  <thead>\n",
       "    <tr style=\"text-align: right;\">\n",
       "      <th></th>\n",
       "      <th>name</th>\n",
       "      <th>online_order</th>\n",
       "      <th>book_table</th>\n",
       "      <th>rate</th>\n",
       "      <th>votes</th>\n",
       "      <th>location</th>\n",
       "      <th>rest_type</th>\n",
       "      <th>cuisines</th>\n",
       "      <th>Cost2plates</th>\n",
       "      <th>Type</th>\n",
       "    </tr>\n",
       "  </thead>\n",
       "  <tbody>\n",
       "    <tr>\n",
       "      <th>0</th>\n",
       "      <td>Jalsa</td>\n",
       "      <td>Yes</td>\n",
       "      <td>Yes</td>\n",
       "      <td>4.1</td>\n",
       "      <td>775</td>\n",
       "      <td>Banashankari</td>\n",
       "      <td>Casual Dining</td>\n",
       "      <td>others</td>\n",
       "      <td>800.0</td>\n",
       "      <td>Buffet</td>\n",
       "    </tr>\n",
       "    <tr>\n",
       "      <th>1</th>\n",
       "      <td>Spice Elephant</td>\n",
       "      <td>Yes</td>\n",
       "      <td>No</td>\n",
       "      <td>4.1</td>\n",
       "      <td>787</td>\n",
       "      <td>Banashankari</td>\n",
       "      <td>Casual Dining</td>\n",
       "      <td>others</td>\n",
       "      <td>800.0</td>\n",
       "      <td>Buffet</td>\n",
       "    </tr>\n",
       "    <tr>\n",
       "      <th>2</th>\n",
       "      <td>San Churro Cafe</td>\n",
       "      <td>Yes</td>\n",
       "      <td>No</td>\n",
       "      <td>3.8</td>\n",
       "      <td>918</td>\n",
       "      <td>Banashankari</td>\n",
       "      <td>others</td>\n",
       "      <td>others</td>\n",
       "      <td>800.0</td>\n",
       "      <td>Buffet</td>\n",
       "    </tr>\n",
       "    <tr>\n",
       "      <th>3</th>\n",
       "      <td>Addhuri Udupi Bhojana</td>\n",
       "      <td>No</td>\n",
       "      <td>No</td>\n",
       "      <td>3.7</td>\n",
       "      <td>88</td>\n",
       "      <td>Banashankari</td>\n",
       "      <td>Quick Bites</td>\n",
       "      <td>South Indian, North Indian</td>\n",
       "      <td>300.0</td>\n",
       "      <td>Buffet</td>\n",
       "    </tr>\n",
       "    <tr>\n",
       "      <th>4</th>\n",
       "      <td>Grand Village</td>\n",
       "      <td>No</td>\n",
       "      <td>No</td>\n",
       "      <td>3.8</td>\n",
       "      <td>166</td>\n",
       "      <td>Basavanagudi</td>\n",
       "      <td>Casual Dining</td>\n",
       "      <td>others</td>\n",
       "      <td>600.0</td>\n",
       "      <td>Buffet</td>\n",
       "    </tr>\n",
       "  </tbody>\n",
       "</table>\n",
       "</div>"
      ],
      "text/plain": [
       "                    name online_order book_table  rate  votes      location  \\\n",
       "0                  Jalsa          Yes        Yes   4.1    775  Banashankari   \n",
       "1         Spice Elephant          Yes         No   4.1    787  Banashankari   \n",
       "2        San Churro Cafe          Yes         No   3.8    918  Banashankari   \n",
       "3  Addhuri Udupi Bhojana           No         No   3.7     88  Banashankari   \n",
       "4          Grand Village           No         No   3.8    166  Basavanagudi   \n",
       "\n",
       "       rest_type                    cuisines  Cost2plates    Type  \n",
       "0  Casual Dining                      others        800.0  Buffet  \n",
       "1  Casual Dining                      others        800.0  Buffet  \n",
       "2         others                      others        800.0  Buffet  \n",
       "3    Quick Bites  South Indian, North Indian        300.0  Buffet  \n",
       "4  Casual Dining                      others        600.0  Buffet  "
      ]
     },
     "execution_count": 38,
     "metadata": {},
     "output_type": "execute_result"
    }
   ],
   "source": [
    "df.head()"
   ]
  },
  {
   "cell_type": "code",
   "execution_count": 39,
   "id": "b451fb2f",
   "metadata": {
    "execution": {
     "iopub.execute_input": "2024-02-20T15:42:32.802118Z",
     "iopub.status.busy": "2024-02-20T15:42:32.801812Z",
     "iopub.status.idle": "2024-02-20T15:42:32.810493Z",
     "shell.execute_reply": "2024-02-20T15:42:32.809740Z"
    },
    "papermill": {
     "duration": 0.025821,
     "end_time": "2024-02-20T15:42:32.812356",
     "exception": false,
     "start_time": "2024-02-20T15:42:32.786535",
     "status": "completed"
    },
    "tags": []
   },
   "outputs": [
    {
     "data": {
      "text/plain": [
       "Type\n",
       "Delivery              25579\n",
       "Dine-out              17562\n",
       "Desserts               3559\n",
       "Cafes                  1703\n",
       "Drinks & nightlife     1084\n",
       "Buffet                  869\n",
       "Pubs and bars           686\n",
       "Name: count, dtype: int64"
      ]
     },
     "execution_count": 39,
     "metadata": {},
     "output_type": "execute_result"
    }
   ],
   "source": [
    "df['Type'].value_counts()"
   ]
  },
  {
   "cell_type": "code",
   "execution_count": 40,
   "id": "ded6108c",
   "metadata": {
    "execution": {
     "iopub.execute_input": "2024-02-20T15:42:32.842557Z",
     "iopub.status.busy": "2024-02-20T15:42:32.842226Z",
     "iopub.status.idle": "2024-02-20T15:42:33.379305Z",
     "shell.execute_reply": "2024-02-20T15:42:33.378366Z"
    },
    "papermill": {
     "duration": 0.554661,
     "end_time": "2024-02-20T15:42:33.381386",
     "exception": false,
     "start_time": "2024-02-20T15:42:32.826725",
     "status": "completed"
    },
    "tags": []
   },
   "outputs": [
    {
     "data": {
      "image/png": "[encoded data removed]",
      "text/plain": [
       "<Figure size 1600x1000 with 1 Axes>"
      ]
     },
     "metadata": {},
     "output_type": "display_data"
    }
   ],
   "source": [
    "# Count Plot for Various Location\n",
    "plt.figure(figsize = (16,10))\n",
    "sns.countplot(data=df,x='location')\n",
    "plt.xticks(rotation=90)\n",
    "plt.show()"
   ]
  },
  {
   "cell_type": "code",
   "execution_count": 41,
   "id": "3c49a53c",
   "metadata": {
    "execution": {
     "iopub.execute_input": "2024-02-20T15:42:33.414019Z",
     "iopub.status.busy": "2024-02-20T15:42:33.413504Z",
     "iopub.status.idle": "2024-02-20T15:42:33.556925Z",
     "shell.execute_reply": "2024-02-20T15:42:33.555988Z"
    },
    "papermill": {
     "duration": 0.16212,
     "end_time": "2024-02-20T15:42:33.559185",
     "exception": false,
     "start_time": "2024-02-20T15:42:33.397065",
     "status": "completed"
    },
    "tags": []
   },
   "outputs": [
    {
     "data": {
      "text/plain": [
       "<Axes: xlabel='online_order', ylabel='count'>"
      ]
     },
     "execution_count": 41,
     "metadata": {},
     "output_type": "execute_result"
    },
    {
     "data": {
      "image/png": "[encoded data removed]",
      "text/plain": [
       "<Figure size 600x600 with 1 Axes>"
      ]
     },
     "metadata": {},
     "output_type": "display_data"
    }
   ],
   "source": [
    "#Visualizing Online Order\n",
    "\n",
    "plt.figure(figsize = (6,6))\n",
    "sns.countplot(data=df,x='online_order',palette = 'inferno')"
   ]
  },
  {
   "cell_type": "code",
   "execution_count": 42,
   "id": "e2d88f96",
   "metadata": {
    "execution": {
     "iopub.execute_input": "2024-02-20T15:42:33.592418Z",
     "iopub.status.busy": "2024-02-20T15:42:33.592085Z",
     "iopub.status.idle": "2024-02-20T15:42:33.726183Z",
     "shell.execute_reply": "2024-02-20T15:42:33.725385Z"
    },
    "papermill": {
     "duration": 0.1529,
     "end_time": "2024-02-20T15:42:33.727970",
     "exception": false,
     "start_time": "2024-02-20T15:42:33.575070",
     "status": "completed"
    },
    "tags": []
   },
   "outputs": [
    {
     "data": {
      "text/plain": [
       "<Axes: xlabel='book_table', ylabel='count'>"
      ]
     },
     "execution_count": 42,
     "metadata": {},
     "output_type": "execute_result"
    },
    {
     "data": {
      "image/png": "[encoded data removed]",
      "text/plain": [
       "<Figure size 600x600 with 1 Axes>"
      ]
     },
     "metadata": {},
     "output_type": "display_data"
    }
   ],
   "source": [
    "plt.figure(figsize=(6,6))\n",
    "sns.countplot(data=df,x='book_table',palette='rainbow')"
   ]
  },
  {
   "cell_type": "code",
   "execution_count": 43,
   "id": "2ce84b62",
   "metadata": {
    "execution": {
     "iopub.execute_input": "2024-02-20T15:42:33.761160Z",
     "iopub.status.busy": "2024-02-20T15:42:33.760782Z",
     "iopub.status.idle": "2024-02-20T15:42:33.930166Z",
     "shell.execute_reply": "2024-02-20T15:42:33.929345Z"
    },
    "papermill": {
     "duration": 0.188045,
     "end_time": "2024-02-20T15:42:33.931981",
     "exception": false,
     "start_time": "2024-02-20T15:42:33.743936",
     "status": "completed"
    },
    "tags": []
   },
   "outputs": [
    {
     "data": {
      "text/plain": [
       "<Axes: xlabel='online_order', ylabel='rate'>"
      ]
     },
     "execution_count": 43,
     "metadata": {},
     "output_type": "execute_result"
    },
    {
     "data": {
      "image/png": "[encoded data removed]",
      "text/plain": [
       "<Figure size 600x600 with 1 Axes>"
      ]
     },
     "metadata": {},
     "output_type": "display_data"
    }
   ],
   "source": [
    "#Visualizing Online Order vs Rate\n",
    "plt.figure(figsize=(6,6))\n",
    "sns.boxplot(x = 'online_order',y='rate',data=df)"
   ]
  },
  {
   "cell_type": "code",
   "execution_count": 44,
   "id": "670aa945",
   "metadata": {
    "execution": {
     "iopub.execute_input": "2024-02-20T15:42:33.964022Z",
     "iopub.status.busy": "2024-02-20T15:42:33.963706Z",
     "iopub.status.idle": "2024-02-20T15:42:34.123895Z",
     "shell.execute_reply": "2024-02-20T15:42:34.123052Z"
    },
    "papermill": {
     "duration": 0.178073,
     "end_time": "2024-02-20T15:42:34.125716",
     "exception": false,
     "start_time": "2024-02-20T15:42:33.947643",
     "status": "completed"
    },
    "tags": []
   },
   "outputs": [
    {
     "data": {
      "text/plain": [
       "<Axes: xlabel='book_table', ylabel='rate'>"
      ]
     },
     "execution_count": 44,
     "metadata": {},
     "output_type": "execute_result"
    },
    {
     "data": {
      "image/png": "[encoded data removed]",
      "text/plain": [
       "<Figure size 600x600 with 1 Axes>"
      ]
     },
     "metadata": {},
     "output_type": "display_data"
    }
   ],
   "source": [
    "#Visualizing Book Table vs Rate\n",
    "plt.figure(figsize=(6,6))\n",
    "sns.boxplot(data=df,x='book_table',y='rate')"
   ]
  },
  {
   "cell_type": "code",
   "execution_count": 45,
   "id": "2ae2a2c3",
   "metadata": {
    "execution": {
     "iopub.execute_input": "2024-02-20T15:42:34.165169Z",
     "iopub.status.busy": "2024-02-20T15:42:34.164853Z",
     "iopub.status.idle": "2024-02-20T15:42:34.198485Z",
     "shell.execute_reply": "2024-02-20T15:42:34.197507Z"
    },
    "papermill": {
     "duration": 0.058243,
     "end_time": "2024-02-20T15:42:34.200278",
     "exception": false,
     "start_time": "2024-02-20T15:42:34.142035",
     "status": "completed"
    },
    "tags": []
   },
   "outputs": [
    {
     "name": "stderr",
     "output_type": "stream",
     "text": [
      "/tmp/ipykernel_18/1739758684.py:5: FutureWarning: The provided callable <function sum at 0x7e8bd262ae60> is currently using DataFrameGroupBy.sum. In a future version of pandas, the provided callable will be used directly. To keep current behavior pass the string \"sum\" instead.\n",
      "  df1 = pd.pivot_table(df1, values=None, index=['location'], columns=['online_order'], fill_value=0, aggfunc=np.sum)\n"
     ]
    },
    {
     "data": {
      "text/html": [
       "<div>\n",
       "<style scoped>\n",
       "    .dataframe tbody tr th:only-of-type {\n",
       "        vertical-align: middle;\n",
       "    }\n",
       "\n",
       "    .dataframe tbody tr th {\n",
       "        vertical-align: top;\n",
       "    }\n",
       "\n",
       "    .dataframe thead tr th {\n",
       "        text-align: left;\n",
       "    }\n",
       "\n",
       "    .dataframe thead tr:last-of-type th {\n",
       "        text-align: right;\n",
       "    }\n",
       "</style>\n",
       "<table border=\"1\" class=\"dataframe\">\n",
       "  <thead>\n",
       "    <tr>\n",
       "      <th></th>\n",
       "      <th colspan=\"2\" halign=\"left\">name</th>\n",
       "    </tr>\n",
       "    <tr>\n",
       "      <th>online_order</th>\n",
       "      <th>No</th>\n",
       "      <th>Yes</th>\n",
       "    </tr>\n",
       "    <tr>\n",
       "      <th>location</th>\n",
       "      <th></th>\n",
       "      <th></th>\n",
       "    </tr>\n",
       "  </thead>\n",
       "  <tbody>\n",
       "    <tr>\n",
       "      <th>BTM</th>\n",
       "      <td>1763</td>\n",
       "      <td>3293</td>\n",
       "    </tr>\n",
       "    <tr>\n",
       "      <th>Banashankari</th>\n",
       "      <td>397</td>\n",
       "      <td>505</td>\n",
       "    </tr>\n",
       "    <tr>\n",
       "      <th>Banaswadi</th>\n",
       "      <td>302</td>\n",
       "      <td>338</td>\n",
       "    </tr>\n",
       "    <tr>\n",
       "      <th>Bannerghatta Road</th>\n",
       "      <td>685</td>\n",
       "      <td>924</td>\n",
       "    </tr>\n",
       "    <tr>\n",
       "      <th>Basavanagudi</th>\n",
       "      <td>243</td>\n",
       "      <td>441</td>\n",
       "    </tr>\n",
       "    <tr>\n",
       "      <th>Bellandur</th>\n",
       "      <td>517</td>\n",
       "      <td>751</td>\n",
       "    </tr>\n",
       "    <tr>\n",
       "      <th>Brigade Road</th>\n",
       "      <td>552</td>\n",
       "      <td>658</td>\n",
       "    </tr>\n",
       "    <tr>\n",
       "      <th>Brookefield</th>\n",
       "      <td>239</td>\n",
       "      <td>417</td>\n",
       "    </tr>\n",
       "    <tr>\n",
       "      <th>Church Street</th>\n",
       "      <td>226</td>\n",
       "      <td>340</td>\n",
       "    </tr>\n",
       "    <tr>\n",
       "      <th>Commercial Street</th>\n",
       "      <td>228</td>\n",
       "      <td>142</td>\n",
       "    </tr>\n",
       "    <tr>\n",
       "      <th>Cunningham Road</th>\n",
       "      <td>168</td>\n",
       "      <td>322</td>\n",
       "    </tr>\n",
       "    <tr>\n",
       "      <th>Domlur</th>\n",
       "      <td>247</td>\n",
       "      <td>235</td>\n",
       "    </tr>\n",
       "    <tr>\n",
       "      <th>Ejipura</th>\n",
       "      <td>214</td>\n",
       "      <td>219</td>\n",
       "    </tr>\n",
       "    <tr>\n",
       "      <th>Electronic City</th>\n",
       "      <td>676</td>\n",
       "      <td>570</td>\n",
       "    </tr>\n",
       "    <tr>\n",
       "      <th>Frazer Town</th>\n",
       "      <td>287</td>\n",
       "      <td>427</td>\n",
       "    </tr>\n",
       "    <tr>\n",
       "      <th>HSR</th>\n",
       "      <td>584</td>\n",
       "      <td>1910</td>\n",
       "    </tr>\n",
       "    <tr>\n",
       "      <th>Indiranagar</th>\n",
       "      <td>697</td>\n",
       "      <td>1329</td>\n",
       "    </tr>\n",
       "    <tr>\n",
       "      <th>JP Nagar</th>\n",
       "      <td>911</td>\n",
       "      <td>1307</td>\n",
       "    </tr>\n",
       "    <tr>\n",
       "      <th>Jayanagar</th>\n",
       "      <td>552</td>\n",
       "      <td>1364</td>\n",
       "    </tr>\n",
       "    <tr>\n",
       "      <th>Kalyan Nagar</th>\n",
       "      <td>350</td>\n",
       "      <td>491</td>\n",
       "    </tr>\n",
       "    <tr>\n",
       "      <th>Kammanahalli</th>\n",
       "      <td>264</td>\n",
       "      <td>375</td>\n",
       "    </tr>\n",
       "    <tr>\n",
       "      <th>Koramangala 1st Block</th>\n",
       "      <td>384</td>\n",
       "      <td>852</td>\n",
       "    </tr>\n",
       "    <tr>\n",
       "      <th>Koramangala 4th Block</th>\n",
       "      <td>459</td>\n",
       "      <td>558</td>\n",
       "    </tr>\n",
       "    <tr>\n",
       "      <th>Koramangala 5th Block</th>\n",
       "      <td>866</td>\n",
       "      <td>1613</td>\n",
       "    </tr>\n",
       "    <tr>\n",
       "      <th>Koramangala 6th Block</th>\n",
       "      <td>445</td>\n",
       "      <td>682</td>\n",
       "    </tr>\n",
       "    <tr>\n",
       "      <th>Koramangala 7th Block</th>\n",
       "      <td>389</td>\n",
       "      <td>785</td>\n",
       "    </tr>\n",
       "    <tr>\n",
       "      <th>Lavelle Road</th>\n",
       "      <td>315</td>\n",
       "      <td>203</td>\n",
       "    </tr>\n",
       "    <tr>\n",
       "      <th>MG Road</th>\n",
       "      <td>520</td>\n",
       "      <td>373</td>\n",
       "    </tr>\n",
       "    <tr>\n",
       "      <th>Malleshwaram</th>\n",
       "      <td>309</td>\n",
       "      <td>412</td>\n",
       "    </tr>\n",
       "    <tr>\n",
       "      <th>Marathahalli</th>\n",
       "      <td>701</td>\n",
       "      <td>1104</td>\n",
       "    </tr>\n",
       "    <tr>\n",
       "      <th>New BEL Road</th>\n",
       "      <td>255</td>\n",
       "      <td>389</td>\n",
       "    </tr>\n",
       "    <tr>\n",
       "      <th>Old Airport Road</th>\n",
       "      <td>221</td>\n",
       "      <td>216</td>\n",
       "    </tr>\n",
       "    <tr>\n",
       "      <th>Rajajinagar</th>\n",
       "      <td>286</td>\n",
       "      <td>305</td>\n",
       "    </tr>\n",
       "    <tr>\n",
       "      <th>Residency Road</th>\n",
       "      <td>424</td>\n",
       "      <td>247</td>\n",
       "    </tr>\n",
       "    <tr>\n",
       "      <th>Richmond Road</th>\n",
       "      <td>557</td>\n",
       "      <td>246</td>\n",
       "    </tr>\n",
       "    <tr>\n",
       "      <th>Sarjapur Road</th>\n",
       "      <td>323</td>\n",
       "      <td>724</td>\n",
       "    </tr>\n",
       "    <tr>\n",
       "      <th>Shanti Nagar</th>\n",
       "      <td>289</td>\n",
       "      <td>219</td>\n",
       "    </tr>\n",
       "    <tr>\n",
       "      <th>Shivajinagar</th>\n",
       "      <td>354</td>\n",
       "      <td>144</td>\n",
       "    </tr>\n",
       "    <tr>\n",
       "      <th>St. Marks Road</th>\n",
       "      <td>176</td>\n",
       "      <td>167</td>\n",
       "    </tr>\n",
       "    <tr>\n",
       "      <th>Ulsoor</th>\n",
       "      <td>389</td>\n",
       "      <td>622</td>\n",
       "    </tr>\n",
       "    <tr>\n",
       "      <th>Whitefield</th>\n",
       "      <td>986</td>\n",
       "      <td>1119</td>\n",
       "    </tr>\n",
       "    <tr>\n",
       "      <th>others</th>\n",
       "      <td>2064</td>\n",
       "      <td>2890</td>\n",
       "    </tr>\n",
       "  </tbody>\n",
       "</table>\n",
       "</div>"
      ],
      "text/plain": [
       "                       name      \n",
       "online_order             No   Yes\n",
       "location                         \n",
       "BTM                    1763  3293\n",
       "Banashankari            397   505\n",
       "Banaswadi               302   338\n",
       "Bannerghatta Road       685   924\n",
       "Basavanagudi            243   441\n",
       "Bellandur               517   751\n",
       "Brigade Road            552   658\n",
       "Brookefield             239   417\n",
       "Church Street           226   340\n",
       "Commercial Street       228   142\n",
       "Cunningham Road         168   322\n",
       "Domlur                  247   235\n",
       "Ejipura                 214   219\n",
       "Electronic City         676   570\n",
       "Frazer Town             287   427\n",
       "HSR                     584  1910\n",
       "Indiranagar             697  1329\n",
       "JP Nagar                911  1307\n",
       "Jayanagar               552  1364\n",
       "Kalyan Nagar            350   491\n",
       "Kammanahalli            264   375\n",
       "Koramangala 1st Block   384   852\n",
       "Koramangala 4th Block   459   558\n",
       "Koramangala 5th Block   866  1613\n",
       "Koramangala 6th Block   445   682\n",
       "Koramangala 7th Block   389   785\n",
       "Lavelle Road            315   203\n",
       "MG Road                 520   373\n",
       "Malleshwaram            309   412\n",
       "Marathahalli            701  1104\n",
       "New BEL Road            255   389\n",
       "Old Airport Road        221   216\n",
       "Rajajinagar             286   305\n",
       "Residency Road          424   247\n",
       "Richmond Road           557   246\n",
       "Sarjapur Road           323   724\n",
       "Shanti Nagar            289   219\n",
       "Shivajinagar            354   144\n",
       "St. Marks Road          176   167\n",
       "Ulsoor                  389   622\n",
       "Whitefield              986  1119\n",
       "others                 2064  2890"
      ]
     },
     "execution_count": 45,
     "metadata": {},
     "output_type": "execute_result"
    }
   ],
   "source": [
    "#Visualizing Online Order Facility, Location wise\n",
    "df1 = df.groupby(['location','online_order'])['name'].count()\n",
    "df1.to_csv('location_online.csv')\n",
    "df1 = pd.read_csv('location_online.csv')\n",
    "df1 = pd.pivot_table(df1, values=None, index=['location'], columns=['online_order'], fill_value=0, aggfunc=np.sum)\n",
    "df1"
   ]
  },
  {
   "cell_type": "code",
   "execution_count": 46,
   "id": "ef77b39c",
   "metadata": {
    "execution": {
     "iopub.execute_input": "2024-02-20T15:42:34.236364Z",
     "iopub.status.busy": "2024-02-20T15:42:34.236059Z",
     "iopub.status.idle": "2024-02-20T15:42:34.790494Z",
     "shell.execute_reply": "2024-02-20T15:42:34.789471Z"
    },
    "papermill": {
     "duration": 0.575096,
     "end_time": "2024-02-20T15:42:34.792445",
     "exception": false,
     "start_time": "2024-02-20T15:42:34.217349",
     "status": "completed"
    },
    "tags": []
   },
   "outputs": [
    {
     "data": {
      "text/plain": [
       "<Axes: xlabel='location'>"
      ]
     },
     "execution_count": 46,
     "metadata": {},
     "output_type": "execute_result"
    },
    {
     "data": {
      "image/png": "[encoded data removed]",
      "text/plain": [
       "<Figure size 1500x800 with 1 Axes>"
      ]
     },
     "metadata": {},
     "output_type": "display_data"
    }
   ],
   "source": [
    "df1.plot(kind='bar',figsize=(15,8))"
   ]
  },
  {
   "cell_type": "code",
   "execution_count": 47,
   "id": "5206255e",
   "metadata": {
    "execution": {
     "iopub.execute_input": "2024-02-20T15:42:34.828733Z",
     "iopub.status.busy": "2024-02-20T15:42:34.828378Z",
     "iopub.status.idle": "2024-02-20T15:42:34.858789Z",
     "shell.execute_reply": "2024-02-20T15:42:34.857743Z"
    },
    "papermill": {
     "duration": 0.050736,
     "end_time": "2024-02-20T15:42:34.860821",
     "exception": false,
     "start_time": "2024-02-20T15:42:34.810085",
     "status": "completed"
    },
    "tags": []
   },
   "outputs": [
    {
     "name": "stderr",
     "output_type": "stream",
     "text": [
      "/tmp/ipykernel_18/2764952217.py:5: FutureWarning: The provided callable <function sum at 0x7e8bd262ae60> is currently using DataFrameGroupBy.sum. In a future version of pandas, the provided callable will be used directly. To keep current behavior pass the string \"sum\" instead.\n",
      "  df2 = pd.pivot_table(df2, values=None, index=['location'], columns=['book_table'], fill_value=0, aggfunc=np.sum)\n"
     ]
    },
    {
     "data": {
      "text/html": [
       "<div>\n",
       "<style scoped>\n",
       "    .dataframe tbody tr th:only-of-type {\n",
       "        vertical-align: middle;\n",
       "    }\n",
       "\n",
       "    .dataframe tbody tr th {\n",
       "        vertical-align: top;\n",
       "    }\n",
       "\n",
       "    .dataframe thead tr th {\n",
       "        text-align: left;\n",
       "    }\n",
       "\n",
       "    .dataframe thead tr:last-of-type th {\n",
       "        text-align: right;\n",
       "    }\n",
       "</style>\n",
       "<table border=\"1\" class=\"dataframe\">\n",
       "  <thead>\n",
       "    <tr>\n",
       "      <th></th>\n",
       "      <th colspan=\"2\" halign=\"left\">name</th>\n",
       "    </tr>\n",
       "    <tr>\n",
       "      <th>book_table</th>\n",
       "      <th>No</th>\n",
       "      <th>Yes</th>\n",
       "    </tr>\n",
       "    <tr>\n",
       "      <th>location</th>\n",
       "      <th></th>\n",
       "      <th></th>\n",
       "    </tr>\n",
       "  </thead>\n",
       "  <tbody>\n",
       "    <tr>\n",
       "      <th>BTM</th>\n",
       "      <td>4889</td>\n",
       "      <td>167</td>\n",
       "    </tr>\n",
       "    <tr>\n",
       "      <th>Banashankari</th>\n",
       "      <td>839</td>\n",
       "      <td>63</td>\n",
       "    </tr>\n",
       "    <tr>\n",
       "      <th>Banaswadi</th>\n",
       "      <td>632</td>\n",
       "      <td>8</td>\n",
       "    </tr>\n",
       "    <tr>\n",
       "      <th>Bannerghatta Road</th>\n",
       "      <td>1510</td>\n",
       "      <td>99</td>\n",
       "    </tr>\n",
       "    <tr>\n",
       "      <th>Basavanagudi</th>\n",
       "      <td>668</td>\n",
       "      <td>16</td>\n",
       "    </tr>\n",
       "    <tr>\n",
       "      <th>Bellandur</th>\n",
       "      <td>1170</td>\n",
       "      <td>98</td>\n",
       "    </tr>\n",
       "    <tr>\n",
       "      <th>Brigade Road</th>\n",
       "      <td>1034</td>\n",
       "      <td>176</td>\n",
       "    </tr>\n",
       "    <tr>\n",
       "      <th>Brookefield</th>\n",
       "      <td>582</td>\n",
       "      <td>74</td>\n",
       "    </tr>\n",
       "    <tr>\n",
       "      <th>Church Street</th>\n",
       "      <td>385</td>\n",
       "      <td>181</td>\n",
       "    </tr>\n",
       "    <tr>\n",
       "      <th>Commercial Street</th>\n",
       "      <td>370</td>\n",
       "      <td>0</td>\n",
       "    </tr>\n",
       "    <tr>\n",
       "      <th>Cunningham Road</th>\n",
       "      <td>315</td>\n",
       "      <td>175</td>\n",
       "    </tr>\n",
       "    <tr>\n",
       "      <th>Domlur</th>\n",
       "      <td>427</td>\n",
       "      <td>55</td>\n",
       "    </tr>\n",
       "    <tr>\n",
       "      <th>Ejipura</th>\n",
       "      <td>433</td>\n",
       "      <td>0</td>\n",
       "    </tr>\n",
       "    <tr>\n",
       "      <th>Electronic City</th>\n",
       "      <td>1148</td>\n",
       "      <td>98</td>\n",
       "    </tr>\n",
       "    <tr>\n",
       "      <th>Frazer Town</th>\n",
       "      <td>706</td>\n",
       "      <td>8</td>\n",
       "    </tr>\n",
       "    <tr>\n",
       "      <th>HSR</th>\n",
       "      <td>2277</td>\n",
       "      <td>217</td>\n",
       "    </tr>\n",
       "    <tr>\n",
       "      <th>Indiranagar</th>\n",
       "      <td>1578</td>\n",
       "      <td>448</td>\n",
       "    </tr>\n",
       "    <tr>\n",
       "      <th>JP Nagar</th>\n",
       "      <td>1903</td>\n",
       "      <td>315</td>\n",
       "    </tr>\n",
       "    <tr>\n",
       "      <th>Jayanagar</th>\n",
       "      <td>1637</td>\n",
       "      <td>279</td>\n",
       "    </tr>\n",
       "    <tr>\n",
       "      <th>Kalyan Nagar</th>\n",
       "      <td>692</td>\n",
       "      <td>149</td>\n",
       "    </tr>\n",
       "    <tr>\n",
       "      <th>Kammanahalli</th>\n",
       "      <td>590</td>\n",
       "      <td>49</td>\n",
       "    </tr>\n",
       "    <tr>\n",
       "      <th>Koramangala 1st Block</th>\n",
       "      <td>1186</td>\n",
       "      <td>50</td>\n",
       "    </tr>\n",
       "    <tr>\n",
       "      <th>Koramangala 4th Block</th>\n",
       "      <td>695</td>\n",
       "      <td>322</td>\n",
       "    </tr>\n",
       "    <tr>\n",
       "      <th>Koramangala 5th Block</th>\n",
       "      <td>1787</td>\n",
       "      <td>692</td>\n",
       "    </tr>\n",
       "    <tr>\n",
       "      <th>Koramangala 6th Block</th>\n",
       "      <td>1015</td>\n",
       "      <td>112</td>\n",
       "    </tr>\n",
       "    <tr>\n",
       "      <th>Koramangala 7th Block</th>\n",
       "      <td>1012</td>\n",
       "      <td>162</td>\n",
       "    </tr>\n",
       "    <tr>\n",
       "      <th>Lavelle Road</th>\n",
       "      <td>290</td>\n",
       "      <td>228</td>\n",
       "    </tr>\n",
       "    <tr>\n",
       "      <th>MG Road</th>\n",
       "      <td>546</td>\n",
       "      <td>347</td>\n",
       "    </tr>\n",
       "    <tr>\n",
       "      <th>Malleshwaram</th>\n",
       "      <td>632</td>\n",
       "      <td>89</td>\n",
       "    </tr>\n",
       "    <tr>\n",
       "      <th>Marathahalli</th>\n",
       "      <td>1642</td>\n",
       "      <td>163</td>\n",
       "    </tr>\n",
       "    <tr>\n",
       "      <th>New BEL Road</th>\n",
       "      <td>588</td>\n",
       "      <td>56</td>\n",
       "    </tr>\n",
       "    <tr>\n",
       "      <th>Old Airport Road</th>\n",
       "      <td>378</td>\n",
       "      <td>59</td>\n",
       "    </tr>\n",
       "    <tr>\n",
       "      <th>Rajajinagar</th>\n",
       "      <td>550</td>\n",
       "      <td>41</td>\n",
       "    </tr>\n",
       "    <tr>\n",
       "      <th>Residency Road</th>\n",
       "      <td>522</td>\n",
       "      <td>149</td>\n",
       "    </tr>\n",
       "    <tr>\n",
       "      <th>Richmond Road</th>\n",
       "      <td>687</td>\n",
       "      <td>116</td>\n",
       "    </tr>\n",
       "    <tr>\n",
       "      <th>Sarjapur Road</th>\n",
       "      <td>893</td>\n",
       "      <td>154</td>\n",
       "    </tr>\n",
       "    <tr>\n",
       "      <th>Shanti Nagar</th>\n",
       "      <td>451</td>\n",
       "      <td>57</td>\n",
       "    </tr>\n",
       "    <tr>\n",
       "      <th>Shivajinagar</th>\n",
       "      <td>475</td>\n",
       "      <td>23</td>\n",
       "    </tr>\n",
       "    <tr>\n",
       "      <th>St. Marks Road</th>\n",
       "      <td>219</td>\n",
       "      <td>124</td>\n",
       "    </tr>\n",
       "    <tr>\n",
       "      <th>Ulsoor</th>\n",
       "      <td>834</td>\n",
       "      <td>177</td>\n",
       "    </tr>\n",
       "    <tr>\n",
       "      <th>Whitefield</th>\n",
       "      <td>1852</td>\n",
       "      <td>253</td>\n",
       "    </tr>\n",
       "    <tr>\n",
       "      <th>others</th>\n",
       "      <td>4587</td>\n",
       "      <td>367</td>\n",
       "    </tr>\n",
       "  </tbody>\n",
       "</table>\n",
       "</div>"
      ],
      "text/plain": [
       "                       name     \n",
       "book_table               No  Yes\n",
       "location                        \n",
       "BTM                    4889  167\n",
       "Banashankari            839   63\n",
       "Banaswadi               632    8\n",
       "Bannerghatta Road      1510   99\n",
       "Basavanagudi            668   16\n",
       "Bellandur              1170   98\n",
       "Brigade Road           1034  176\n",
       "Brookefield             582   74\n",
       "Church Street           385  181\n",
       "Commercial Street       370    0\n",
       "Cunningham Road         315  175\n",
       "Domlur                  427   55\n",
       "Ejipura                 433    0\n",
       "Electronic City        1148   98\n",
       "Frazer Town             706    8\n",
       "HSR                    2277  217\n",
       "Indiranagar            1578  448\n",
       "JP Nagar               1903  315\n",
       "Jayanagar              1637  279\n",
       "Kalyan Nagar            692  149\n",
       "Kammanahalli            590   49\n",
       "Koramangala 1st Block  1186   50\n",
       "Koramangala 4th Block   695  322\n",
       "Koramangala 5th Block  1787  692\n",
       "Koramangala 6th Block  1015  112\n",
       "Koramangala 7th Block  1012  162\n",
       "Lavelle Road            290  228\n",
       "MG Road                 546  347\n",
       "Malleshwaram            632   89\n",
       "Marathahalli           1642  163\n",
       "New BEL Road            588   56\n",
       "Old Airport Road        378   59\n",
       "Rajajinagar             550   41\n",
       "Residency Road          522  149\n",
       "Richmond Road           687  116\n",
       "Sarjapur Road           893  154\n",
       "Shanti Nagar            451   57\n",
       "Shivajinagar            475   23\n",
       "St. Marks Road          219  124\n",
       "Ulsoor                  834  177\n",
       "Whitefield             1852  253\n",
       "others                 4587  367"
      ]
     },
     "execution_count": 47,
     "metadata": {},
     "output_type": "execute_result"
    }
   ],
   "source": [
    "#Visualizing Book table facility,Location wise\n",
    "df2 = df.groupby(['location','book_table'])['name'].count()\n",
    "df2.to_csv('location_booktable.csv')\n",
    "df2 = pd.read_csv('location_booktable.csv')\n",
    "df2 = pd.pivot_table(df2, values=None, index=['location'], columns=['book_table'], fill_value=0, aggfunc=np.sum)\n",
    "df2"
   ]
  },
  {
   "cell_type": "code",
   "execution_count": 48,
   "id": "9979b8dc",
   "metadata": {
    "execution": {
     "iopub.execute_input": "2024-02-20T15:42:34.899011Z",
     "iopub.status.busy": "2024-02-20T15:42:34.898676Z",
     "iopub.status.idle": "2024-02-20T15:42:35.464908Z",
     "shell.execute_reply": "2024-02-20T15:42:35.464259Z"
    },
    "papermill": {
     "duration": 0.587245,
     "end_time": "2024-02-20T15:42:35.466639",
     "exception": false,
     "start_time": "2024-02-20T15:42:34.879394",
     "status": "completed"
    },
    "tags": []
   },
   "outputs": [
    {
     "data": {
      "text/plain": [
       "<Axes: xlabel='location'>"
      ]
     },
     "execution_count": 48,
     "metadata": {},
     "output_type": "execute_result"
    },
    {
     "data": {
      "image/png": "[encoded data removed]",
      "text/plain": [
       "<Figure size 1500x800 with 1 Axes>"
      ]
     },
     "metadata": {},
     "output_type": "display_data"
    }
   ],
   "source": [
    "df2.plot(kind='bar',figsize=(15,8))"
   ]
  },
  {
   "cell_type": "code",
   "execution_count": 49,
   "id": "8856d39a",
   "metadata": {
    "execution": {
     "iopub.execute_input": "2024-02-20T15:42:35.505237Z",
     "iopub.status.busy": "2024-02-20T15:42:35.504964Z",
     "iopub.status.idle": "2024-02-20T15:42:35.765767Z",
     "shell.execute_reply": "2024-02-20T15:42:35.764941Z"
    },
    "papermill": {
     "duration": 0.282279,
     "end_time": "2024-02-20T15:42:35.767545",
     "exception": false,
     "start_time": "2024-02-20T15:42:35.485266",
     "status": "completed"
    },
    "tags": []
   },
   "outputs": [
    {
     "data": {
      "text/plain": [
       "<Axes: xlabel='Type', ylabel='rate'>"
      ]
     },
     "execution_count": 49,
     "metadata": {},
     "output_type": "execute_result"
    },
    {
     "data": {
      "image/png": "[encoded data removed]",
      "text/plain": [
       "<Figure size 1400x800 with 1 Axes>"
      ]
     },
     "metadata": {},
     "output_type": "display_data"
    }
   ],
   "source": [
    "#Visualizing Types of Restaurants vs Rate\n",
    "plt.figure(figsize=(14, 8))\n",
    "sns.boxplot(x='Type',y='rate',data=df, palette='inferno')"
   ]
  },
  {
   "cell_type": "code",
   "execution_count": 50,
   "id": "27dc188e",
   "metadata": {
    "execution": {
     "iopub.execute_input": "2024-02-20T15:42:35.807725Z",
     "iopub.status.busy": "2024-02-20T15:42:35.807398Z",
     "iopub.status.idle": "2024-02-20T15:42:35.841120Z",
     "shell.execute_reply": "2024-02-20T15:42:35.839976Z"
    },
    "papermill": {
     "duration": 0.056341,
     "end_time": "2024-02-20T15:42:35.843299",
     "exception": false,
     "start_time": "2024-02-20T15:42:35.786958",
     "status": "completed"
    },
    "tags": []
   },
   "outputs": [
    {
     "name": "stderr",
     "output_type": "stream",
     "text": [
      "/tmp/ipykernel_18/2990411885.py:5: FutureWarning: The provided callable <function sum at 0x7e8bd262ae60> is currently using DataFrameGroupBy.sum. In a future version of pandas, the provided callable will be used directly. To keep current behavior pass the string \"sum\" instead.\n",
      "  df3 = pd.pivot_table(df3, values=None, index=['location'], columns=['Type'], fill_value=0, aggfunc = np.sum)\n"
     ]
    },
    {
     "data": {
      "text/html": [
       "<div>\n",
       "<style scoped>\n",
       "    .dataframe tbody tr th:only-of-type {\n",
       "        vertical-align: middle;\n",
       "    }\n",
       "\n",
       "    .dataframe tbody tr th {\n",
       "        vertical-align: top;\n",
       "    }\n",
       "\n",
       "    .dataframe thead tr th {\n",
       "        text-align: left;\n",
       "    }\n",
       "\n",
       "    .dataframe thead tr:last-of-type th {\n",
       "        text-align: right;\n",
       "    }\n",
       "</style>\n",
       "<table border=\"1\" class=\"dataframe\">\n",
       "  <thead>\n",
       "    <tr>\n",
       "      <th></th>\n",
       "      <th colspan=\"7\" halign=\"left\">name</th>\n",
       "    </tr>\n",
       "    <tr>\n",
       "      <th>Type</th>\n",
       "      <th>Buffet</th>\n",
       "      <th>Cafes</th>\n",
       "      <th>Delivery</th>\n",
       "      <th>Desserts</th>\n",
       "      <th>Dine-out</th>\n",
       "      <th>Drinks &amp; nightlife</th>\n",
       "      <th>Pubs and bars</th>\n",
       "    </tr>\n",
       "    <tr>\n",
       "      <th>location</th>\n",
       "      <th></th>\n",
       "      <th></th>\n",
       "      <th></th>\n",
       "      <th></th>\n",
       "      <th></th>\n",
       "      <th></th>\n",
       "      <th></th>\n",
       "    </tr>\n",
       "  </thead>\n",
       "  <tbody>\n",
       "    <tr>\n",
       "      <th>BTM</th>\n",
       "      <td>21</td>\n",
       "      <td>83</td>\n",
       "      <td>3053</td>\n",
       "      <td>198</td>\n",
       "      <td>1660</td>\n",
       "      <td>22</td>\n",
       "      <td>19</td>\n",
       "    </tr>\n",
       "    <tr>\n",
       "      <th>Banashankari</th>\n",
       "      <td>7</td>\n",
       "      <td>36</td>\n",
       "      <td>418</td>\n",
       "      <td>71</td>\n",
       "      <td>356</td>\n",
       "      <td>14</td>\n",
       "      <td>0</td>\n",
       "    </tr>\n",
       "    <tr>\n",
       "      <th>Banaswadi</th>\n",
       "      <td>0</td>\n",
       "      <td>24</td>\n",
       "      <td>310</td>\n",
       "      <td>37</td>\n",
       "      <td>262</td>\n",
       "      <td>6</td>\n",
       "      <td>1</td>\n",
       "    </tr>\n",
       "    <tr>\n",
       "      <th>Bannerghatta Road</th>\n",
       "      <td>9</td>\n",
       "      <td>46</td>\n",
       "      <td>828</td>\n",
       "      <td>137</td>\n",
       "      <td>578</td>\n",
       "      <td>9</td>\n",
       "      <td>2</td>\n",
       "    </tr>\n",
       "    <tr>\n",
       "      <th>Basavanagudi</th>\n",
       "      <td>7</td>\n",
       "      <td>11</td>\n",
       "      <td>344</td>\n",
       "      <td>66</td>\n",
       "      <td>251</td>\n",
       "      <td>5</td>\n",
       "      <td>0</td>\n",
       "    </tr>\n",
       "    <tr>\n",
       "      <th>Bellandur</th>\n",
       "      <td>28</td>\n",
       "      <td>36</td>\n",
       "      <td>617</td>\n",
       "      <td>75</td>\n",
       "      <td>479</td>\n",
       "      <td>17</td>\n",
       "      <td>16</td>\n",
       "    </tr>\n",
       "    <tr>\n",
       "      <th>Brigade Road</th>\n",
       "      <td>25</td>\n",
       "      <td>46</td>\n",
       "      <td>497</td>\n",
       "      <td>108</td>\n",
       "      <td>455</td>\n",
       "      <td>57</td>\n",
       "      <td>22</td>\n",
       "    </tr>\n",
       "    <tr>\n",
       "      <th>Brookefield</th>\n",
       "      <td>6</td>\n",
       "      <td>17</td>\n",
       "      <td>339</td>\n",
       "      <td>45</td>\n",
       "      <td>245</td>\n",
       "      <td>4</td>\n",
       "      <td>0</td>\n",
       "    </tr>\n",
       "    <tr>\n",
       "      <th>Church Street</th>\n",
       "      <td>19</td>\n",
       "      <td>51</td>\n",
       "      <td>193</td>\n",
       "      <td>29</td>\n",
       "      <td>215</td>\n",
       "      <td>36</td>\n",
       "      <td>23</td>\n",
       "    </tr>\n",
       "    <tr>\n",
       "      <th>Commercial Street</th>\n",
       "      <td>0</td>\n",
       "      <td>13</td>\n",
       "      <td>121</td>\n",
       "      <td>77</td>\n",
       "      <td>159</td>\n",
       "      <td>0</td>\n",
       "      <td>0</td>\n",
       "    </tr>\n",
       "    <tr>\n",
       "      <th>Cunningham Road</th>\n",
       "      <td>29</td>\n",
       "      <td>34</td>\n",
       "      <td>194</td>\n",
       "      <td>26</td>\n",
       "      <td>184</td>\n",
       "      <td>16</td>\n",
       "      <td>7</td>\n",
       "    </tr>\n",
       "    <tr>\n",
       "      <th>Domlur</th>\n",
       "      <td>15</td>\n",
       "      <td>13</td>\n",
       "      <td>261</td>\n",
       "      <td>35</td>\n",
       "      <td>135</td>\n",
       "      <td>12</td>\n",
       "      <td>11</td>\n",
       "    </tr>\n",
       "    <tr>\n",
       "      <th>Ejipura</th>\n",
       "      <td>0</td>\n",
       "      <td>0</td>\n",
       "      <td>245</td>\n",
       "      <td>16</td>\n",
       "      <td>172</td>\n",
       "      <td>0</td>\n",
       "      <td>0</td>\n",
       "    </tr>\n",
       "    <tr>\n",
       "      <th>Electronic City</th>\n",
       "      <td>23</td>\n",
       "      <td>24</td>\n",
       "      <td>570</td>\n",
       "      <td>71</td>\n",
       "      <td>516</td>\n",
       "      <td>21</td>\n",
       "      <td>21</td>\n",
       "    </tr>\n",
       "    <tr>\n",
       "      <th>Frazer Town</th>\n",
       "      <td>1</td>\n",
       "      <td>11</td>\n",
       "      <td>470</td>\n",
       "      <td>56</td>\n",
       "      <td>172</td>\n",
       "      <td>2</td>\n",
       "      <td>2</td>\n",
       "    </tr>\n",
       "    <tr>\n",
       "      <th>HSR</th>\n",
       "      <td>19</td>\n",
       "      <td>49</td>\n",
       "      <td>1694</td>\n",
       "      <td>120</td>\n",
       "      <td>580</td>\n",
       "      <td>14</td>\n",
       "      <td>18</td>\n",
       "    </tr>\n",
       "    <tr>\n",
       "      <th>Indiranagar</th>\n",
       "      <td>38</td>\n",
       "      <td>97</td>\n",
       "      <td>1091</td>\n",
       "      <td>140</td>\n",
       "      <td>529</td>\n",
       "      <td>65</td>\n",
       "      <td>66</td>\n",
       "    </tr>\n",
       "    <tr>\n",
       "      <th>JP Nagar</th>\n",
       "      <td>45</td>\n",
       "      <td>76</td>\n",
       "      <td>1151</td>\n",
       "      <td>166</td>\n",
       "      <td>722</td>\n",
       "      <td>51</td>\n",
       "      <td>7</td>\n",
       "    </tr>\n",
       "    <tr>\n",
       "      <th>Jayanagar</th>\n",
       "      <td>27</td>\n",
       "      <td>77</td>\n",
       "      <td>1043</td>\n",
       "      <td>182</td>\n",
       "      <td>575</td>\n",
       "      <td>12</td>\n",
       "      <td>0</td>\n",
       "    </tr>\n",
       "    <tr>\n",
       "      <th>Kalyan Nagar</th>\n",
       "      <td>9</td>\n",
       "      <td>45</td>\n",
       "      <td>366</td>\n",
       "      <td>88</td>\n",
       "      <td>315</td>\n",
       "      <td>18</td>\n",
       "      <td>0</td>\n",
       "    </tr>\n",
       "    <tr>\n",
       "      <th>Kammanahalli</th>\n",
       "      <td>2</td>\n",
       "      <td>27</td>\n",
       "      <td>329</td>\n",
       "      <td>35</td>\n",
       "      <td>240</td>\n",
       "      <td>6</td>\n",
       "      <td>0</td>\n",
       "    </tr>\n",
       "    <tr>\n",
       "      <th>Koramangala 1st Block</th>\n",
       "      <td>3</td>\n",
       "      <td>26</td>\n",
       "      <td>716</td>\n",
       "      <td>70</td>\n",
       "      <td>398</td>\n",
       "      <td>7</td>\n",
       "      <td>16</td>\n",
       "    </tr>\n",
       "    <tr>\n",
       "      <th>Koramangala 4th Block</th>\n",
       "      <td>21</td>\n",
       "      <td>53</td>\n",
       "      <td>464</td>\n",
       "      <td>81</td>\n",
       "      <td>302</td>\n",
       "      <td>62</td>\n",
       "      <td>34</td>\n",
       "    </tr>\n",
       "    <tr>\n",
       "      <th>Koramangala 5th Block</th>\n",
       "      <td>65</td>\n",
       "      <td>146</td>\n",
       "      <td>1075</td>\n",
       "      <td>209</td>\n",
       "      <td>842</td>\n",
       "      <td>84</td>\n",
       "      <td>58</td>\n",
       "    </tr>\n",
       "    <tr>\n",
       "      <th>Koramangala 6th Block</th>\n",
       "      <td>18</td>\n",
       "      <td>43</td>\n",
       "      <td>511</td>\n",
       "      <td>70</td>\n",
       "      <td>411</td>\n",
       "      <td>51</td>\n",
       "      <td>23</td>\n",
       "    </tr>\n",
       "    <tr>\n",
       "      <th>Koramangala 7th Block</th>\n",
       "      <td>25</td>\n",
       "      <td>52</td>\n",
       "      <td>503</td>\n",
       "      <td>127</td>\n",
       "      <td>417</td>\n",
       "      <td>25</td>\n",
       "      <td>25</td>\n",
       "    </tr>\n",
       "    <tr>\n",
       "      <th>Lavelle Road</th>\n",
       "      <td>30</td>\n",
       "      <td>27</td>\n",
       "      <td>127</td>\n",
       "      <td>50</td>\n",
       "      <td>191</td>\n",
       "      <td>59</td>\n",
       "      <td>34</td>\n",
       "    </tr>\n",
       "    <tr>\n",
       "      <th>MG Road</th>\n",
       "      <td>51</td>\n",
       "      <td>76</td>\n",
       "      <td>266</td>\n",
       "      <td>68</td>\n",
       "      <td>343</td>\n",
       "      <td>53</td>\n",
       "      <td>36</td>\n",
       "    </tr>\n",
       "    <tr>\n",
       "      <th>Malleshwaram</th>\n",
       "      <td>11</td>\n",
       "      <td>31</td>\n",
       "      <td>269</td>\n",
       "      <td>85</td>\n",
       "      <td>291</td>\n",
       "      <td>20</td>\n",
       "      <td>14</td>\n",
       "    </tr>\n",
       "    <tr>\n",
       "      <th>Marathahalli</th>\n",
       "      <td>34</td>\n",
       "      <td>32</td>\n",
       "      <td>980</td>\n",
       "      <td>105</td>\n",
       "      <td>630</td>\n",
       "      <td>22</td>\n",
       "      <td>2</td>\n",
       "    </tr>\n",
       "    <tr>\n",
       "      <th>New BEL Road</th>\n",
       "      <td>4</td>\n",
       "      <td>29</td>\n",
       "      <td>338</td>\n",
       "      <td>33</td>\n",
       "      <td>224</td>\n",
       "      <td>8</td>\n",
       "      <td>8</td>\n",
       "    </tr>\n",
       "    <tr>\n",
       "      <th>Old Airport Road</th>\n",
       "      <td>12</td>\n",
       "      <td>5</td>\n",
       "      <td>200</td>\n",
       "      <td>35</td>\n",
       "      <td>164</td>\n",
       "      <td>12</td>\n",
       "      <td>9</td>\n",
       "    </tr>\n",
       "    <tr>\n",
       "      <th>Rajajinagar</th>\n",
       "      <td>10</td>\n",
       "      <td>4</td>\n",
       "      <td>258</td>\n",
       "      <td>55</td>\n",
       "      <td>251</td>\n",
       "      <td>3</td>\n",
       "      <td>10</td>\n",
       "    </tr>\n",
       "    <tr>\n",
       "      <th>Residency Road</th>\n",
       "      <td>20</td>\n",
       "      <td>31</td>\n",
       "      <td>187</td>\n",
       "      <td>63</td>\n",
       "      <td>289</td>\n",
       "      <td>55</td>\n",
       "      <td>26</td>\n",
       "    </tr>\n",
       "    <tr>\n",
       "      <th>Richmond Road</th>\n",
       "      <td>63</td>\n",
       "      <td>21</td>\n",
       "      <td>257</td>\n",
       "      <td>78</td>\n",
       "      <td>356</td>\n",
       "      <td>16</td>\n",
       "      <td>12</td>\n",
       "    </tr>\n",
       "    <tr>\n",
       "      <th>Sarjapur Road</th>\n",
       "      <td>25</td>\n",
       "      <td>22</td>\n",
       "      <td>558</td>\n",
       "      <td>82</td>\n",
       "      <td>319</td>\n",
       "      <td>19</td>\n",
       "      <td>22</td>\n",
       "    </tr>\n",
       "    <tr>\n",
       "      <th>Shanti Nagar</th>\n",
       "      <td>9</td>\n",
       "      <td>22</td>\n",
       "      <td>198</td>\n",
       "      <td>39</td>\n",
       "      <td>229</td>\n",
       "      <td>9</td>\n",
       "      <td>2</td>\n",
       "    </tr>\n",
       "    <tr>\n",
       "      <th>Shivajinagar</th>\n",
       "      <td>6</td>\n",
       "      <td>17</td>\n",
       "      <td>143</td>\n",
       "      <td>37</td>\n",
       "      <td>280</td>\n",
       "      <td>7</td>\n",
       "      <td>8</td>\n",
       "    </tr>\n",
       "    <tr>\n",
       "      <th>St. Marks Road</th>\n",
       "      <td>5</td>\n",
       "      <td>10</td>\n",
       "      <td>111</td>\n",
       "      <td>10</td>\n",
       "      <td>145</td>\n",
       "      <td>40</td>\n",
       "      <td>22</td>\n",
       "    </tr>\n",
       "    <tr>\n",
       "      <th>Ulsoor</th>\n",
       "      <td>16</td>\n",
       "      <td>56</td>\n",
       "      <td>456</td>\n",
       "      <td>71</td>\n",
       "      <td>359</td>\n",
       "      <td>23</td>\n",
       "      <td>30</td>\n",
       "    </tr>\n",
       "    <tr>\n",
       "      <th>Whitefield</th>\n",
       "      <td>28</td>\n",
       "      <td>51</td>\n",
       "      <td>1041</td>\n",
       "      <td>137</td>\n",
       "      <td>768</td>\n",
       "      <td>47</td>\n",
       "      <td>33</td>\n",
       "    </tr>\n",
       "    <tr>\n",
       "      <th>others</th>\n",
       "      <td>83</td>\n",
       "      <td>133</td>\n",
       "      <td>2787</td>\n",
       "      <td>276</td>\n",
       "      <td>1553</td>\n",
       "      <td>75</td>\n",
       "      <td>47</td>\n",
       "    </tr>\n",
       "  </tbody>\n",
       "</table>\n",
       "</div>"
      ],
      "text/plain": [
       "                        name                                   \\\n",
       "Type                  Buffet Cafes Delivery Desserts Dine-out   \n",
       "location                                                        \n",
       "BTM                       21    83     3053      198     1660   \n",
       "Banashankari               7    36      418       71      356   \n",
       "Banaswadi                  0    24      310       37      262   \n",
       "Bannerghatta Road          9    46      828      137      578   \n",
       "Basavanagudi               7    11      344       66      251   \n",
       "Bellandur                 28    36      617       75      479   \n",
       "Brigade Road              25    46      497      108      455   \n",
       "Brookefield                6    17      339       45      245   \n",
       "Church Street             19    51      193       29      215   \n",
       "Commercial Street          0    13      121       77      159   \n",
       "Cunningham Road           29    34      194       26      184   \n",
       "Domlur                    15    13      261       35      135   \n",
       "Ejipura                    0     0      245       16      172   \n",
       "Electronic City           23    24      570       71      516   \n",
       "Frazer Town                1    11      470       56      172   \n",
       "HSR                       19    49     1694      120      580   \n",
       "Indiranagar               38    97     1091      140      529   \n",
       "JP Nagar                  45    76     1151      166      722   \n",
       "Jayanagar                 27    77     1043      182      575   \n",
       "Kalyan Nagar               9    45      366       88      315   \n",
       "Kammanahalli               2    27      329       35      240   \n",
       "Koramangala 1st Block      3    26      716       70      398   \n",
       "Koramangala 4th Block     21    53      464       81      302   \n",
       "Koramangala 5th Block     65   146     1075      209      842   \n",
       "Koramangala 6th Block     18    43      511       70      411   \n",
       "Koramangala 7th Block     25    52      503      127      417   \n",
       "Lavelle Road              30    27      127       50      191   \n",
       "MG Road                   51    76      266       68      343   \n",
       "Malleshwaram              11    31      269       85      291   \n",
       "Marathahalli              34    32      980      105      630   \n",
       "New BEL Road               4    29      338       33      224   \n",
       "Old Airport Road          12     5      200       35      164   \n",
       "Rajajinagar               10     4      258       55      251   \n",
       "Residency Road            20    31      187       63      289   \n",
       "Richmond Road             63    21      257       78      356   \n",
       "Sarjapur Road             25    22      558       82      319   \n",
       "Shanti Nagar               9    22      198       39      229   \n",
       "Shivajinagar               6    17      143       37      280   \n",
       "St. Marks Road             5    10      111       10      145   \n",
       "Ulsoor                    16    56      456       71      359   \n",
       "Whitefield                28    51     1041      137      768   \n",
       "others                    83   133     2787      276     1553   \n",
       "\n",
       "                                                        \n",
       "Type                  Drinks & nightlife Pubs and bars  \n",
       "location                                                \n",
       "BTM                                   22            19  \n",
       "Banashankari                          14             0  \n",
       "Banaswadi                              6             1  \n",
       "Bannerghatta Road                      9             2  \n",
       "Basavanagudi                           5             0  \n",
       "Bellandur                             17            16  \n",
       "Brigade Road                          57            22  \n",
       "Brookefield                            4             0  \n",
       "Church Street                         36            23  \n",
       "Commercial Street                      0             0  \n",
       "Cunningham Road                       16             7  \n",
       "Domlur                                12            11  \n",
       "Ejipura                                0             0  \n",
       "Electronic City                       21            21  \n",
       "Frazer Town                            2             2  \n",
       "HSR                                   14            18  \n",
       "Indiranagar                           65            66  \n",
       "JP Nagar                              51             7  \n",
       "Jayanagar                             12             0  \n",
       "Kalyan Nagar                          18             0  \n",
       "Kammanahalli                           6             0  \n",
       "Koramangala 1st Block                  7            16  \n",
       "Koramangala 4th Block                 62            34  \n",
       "Koramangala 5th Block                 84            58  \n",
       "Koramangala 6th Block                 51            23  \n",
       "Koramangala 7th Block                 25            25  \n",
       "Lavelle Road                          59            34  \n",
       "MG Road                               53            36  \n",
       "Malleshwaram                          20            14  \n",
       "Marathahalli                          22             2  \n",
       "New BEL Road                           8             8  \n",
       "Old Airport Road                      12             9  \n",
       "Rajajinagar                            3            10  \n",
       "Residency Road                        55            26  \n",
       "Richmond Road                         16            12  \n",
       "Sarjapur Road                         19            22  \n",
       "Shanti Nagar                           9             2  \n",
       "Shivajinagar                           7             8  \n",
       "St. Marks Road                        40            22  \n",
       "Ulsoor                                23            30  \n",
       "Whitefield                            47            33  \n",
       "others                                75            47  "
      ]
     },
     "execution_count": 50,
     "metadata": {},
     "output_type": "execute_result"
    }
   ],
   "source": [
    "#Grouping Types of restaurants, Location wise\n",
    "df3 = df.groupby(['location','Type'])['name'].count()\n",
    "df3.to_csv(\"location_Type.csv\")\n",
    "df3 = pd.read_csv(\"location_Type.csv\")\n",
    "df3 = pd.pivot_table(df3, values=None, index=['location'], columns=['Type'], fill_value=0, aggfunc = np.sum)\n",
    "df3"
   ]
  },
  {
   "cell_type": "code",
   "execution_count": 51,
   "id": "add5e0ed",
   "metadata": {
    "execution": {
     "iopub.execute_input": "2024-02-20T15:42:35.886501Z",
     "iopub.status.busy": "2024-02-20T15:42:35.886200Z",
     "iopub.status.idle": "2024-02-20T15:42:37.047991Z",
     "shell.execute_reply": "2024-02-20T15:42:37.047203Z"
    },
    "papermill": {
     "duration": 1.185805,
     "end_time": "2024-02-20T15:42:37.049657",
     "exception": false,
     "start_time": "2024-02-20T15:42:35.863852",
     "status": "completed"
    },
    "tags": []
   },
   "outputs": [
    {
     "data": {
      "text/plain": [
       "<Axes: xlabel='location'>"
      ]
     },
     "execution_count": 51,
     "metadata": {},
     "output_type": "execute_result"
    },
    {
     "data": {
      "image/png": "[encoded data removed]",
      "text/plain": [
       "<Figure size 3600x800 with 1 Axes>"
      ]
     },
     "metadata": {},
     "output_type": "display_data"
    }
   ],
   "source": [
    "df3.plot(kind='bar', figsize=(36,8))"
   ]
  },
  {
   "cell_type": "code",
   "execution_count": 52,
   "id": "05f7a574",
   "metadata": {
    "execution": {
     "iopub.execute_input": "2024-02-20T15:42:37.092020Z",
     "iopub.status.busy": "2024-02-20T15:42:37.091669Z",
     "iopub.status.idle": "2024-02-20T15:42:37.112236Z",
     "shell.execute_reply": "2024-02-20T15:42:37.111441Z"
    },
    "papermill": {
     "duration": 0.043702,
     "end_time": "2024-02-20T15:42:37.113887",
     "exception": false,
     "start_time": "2024-02-20T15:42:37.070185",
     "status": "completed"
    },
    "tags": []
   },
   "outputs": [
    {
     "data": {
      "text/html": [
       "<div>\n",
       "<style scoped>\n",
       "    .dataframe tbody tr th:only-of-type {\n",
       "        vertical-align: middle;\n",
       "    }\n",
       "\n",
       "    .dataframe tbody tr th {\n",
       "        vertical-align: top;\n",
       "    }\n",
       "\n",
       "    .dataframe thead th {\n",
       "        text-align: right;\n",
       "    }\n",
       "</style>\n",
       "<table border=\"1\" class=\"dataframe\">\n",
       "  <thead>\n",
       "    <tr style=\"text-align: right;\">\n",
       "      <th></th>\n",
       "      <th>votes</th>\n",
       "    </tr>\n",
       "    <tr>\n",
       "      <th>location</th>\n",
       "      <th></th>\n",
       "    </tr>\n",
       "  </thead>\n",
       "  <tbody>\n",
       "    <tr>\n",
       "      <th>Koramangala 5th Block</th>\n",
       "      <td>2214083</td>\n",
       "    </tr>\n",
       "    <tr>\n",
       "      <th>Indiranagar</th>\n",
       "      <td>1165909</td>\n",
       "    </tr>\n",
       "    <tr>\n",
       "      <th>Koramangala 4th Block</th>\n",
       "      <td>685156</td>\n",
       "    </tr>\n",
       "    <tr>\n",
       "      <th>Church Street</th>\n",
       "      <td>590306</td>\n",
       "    </tr>\n",
       "    <tr>\n",
       "      <th>JP Nagar</th>\n",
       "      <td>586522</td>\n",
       "    </tr>\n",
       "  </tbody>\n",
       "</table>\n",
       "</div>"
      ],
      "text/plain": [
       "                         votes\n",
       "location                      \n",
       "Koramangala 5th Block  2214083\n",
       "Indiranagar            1165909\n",
       "Koramangala 4th Block   685156\n",
       "Church Street           590306\n",
       "JP Nagar                586522"
      ]
     },
     "execution_count": 52,
     "metadata": {},
     "output_type": "execute_result"
    }
   ],
   "source": [
    "#No.of Votes, Location wise\n",
    "df4 = df[['location', 'votes']]\n",
    "df4.drop_duplicates()\n",
    "df5 = df4.groupby(['location'])['votes'].sum()\n",
    "df5 = df5.to_frame()\n",
    "df5 = df5.sort_values('votes', ascending=False)\n",
    "df5.head()"
   ]
  },
  {
   "cell_type": "code",
   "execution_count": 53,
   "id": "c4b69dd4",
   "metadata": {
    "execution": {
     "iopub.execute_input": "2024-02-20T15:42:37.156890Z",
     "iopub.status.busy": "2024-02-20T15:42:37.156548Z",
     "iopub.status.idle": "2024-02-20T15:42:37.572863Z",
     "shell.execute_reply": "2024-02-20T15:42:37.571820Z"
    },
    "papermill": {
     "duration": 0.43981,
     "end_time": "2024-02-20T15:42:37.574711",
     "exception": false,
     "start_time": "2024-02-20T15:42:37.134901",
     "status": "completed"
    },
    "tags": []
   },
   "outputs": [
    {
     "data": {
      "image/png": "[encoded data removed]",
      "text/plain": [
       "<Figure size 1500x800 with 1 Axes>"
      ]
     },
     "metadata": {},
     "output_type": "display_data"
    }
   ],
   "source": [
    "plt.figure(figsize=(15,8))\n",
    "sns.barplot(data=df5,x=df5.index,y = 'votes')\n",
    "plt.xticks(rotation=90)\n",
    "plt.show()"
   ]
  },
  {
   "cell_type": "code",
   "execution_count": 54,
   "id": "7b769381",
   "metadata": {
    "execution": {
     "iopub.execute_input": "2024-02-20T15:42:37.619541Z",
     "iopub.status.busy": "2024-02-20T15:42:37.619243Z",
     "iopub.status.idle": "2024-02-20T15:42:37.639274Z",
     "shell.execute_reply": "2024-02-20T15:42:37.638466Z"
    },
    "papermill": {
     "duration": 0.044182,
     "end_time": "2024-02-20T15:42:37.640796",
     "exception": false,
     "start_time": "2024-02-20T15:42:37.596614",
     "status": "completed"
    },
    "tags": []
   },
   "outputs": [
    {
     "data": {
      "text/html": [
       "<div>\n",
       "<style scoped>\n",
       "    .dataframe tbody tr th:only-of-type {\n",
       "        vertical-align: middle;\n",
       "    }\n",
       "\n",
       "    .dataframe tbody tr th {\n",
       "        vertical-align: top;\n",
       "    }\n",
       "\n",
       "    .dataframe thead th {\n",
       "        text-align: right;\n",
       "    }\n",
       "</style>\n",
       "<table border=\"1\" class=\"dataframe\">\n",
       "  <thead>\n",
       "    <tr style=\"text-align: right;\">\n",
       "      <th></th>\n",
       "      <th>votes</th>\n",
       "    </tr>\n",
       "    <tr>\n",
       "      <th>cuisines</th>\n",
       "      <th></th>\n",
       "    </tr>\n",
       "  </thead>\n",
       "  <tbody>\n",
       "    <tr>\n",
       "      <th>others</th>\n",
       "      <td>12798334</td>\n",
       "    </tr>\n",
       "    <tr>\n",
       "      <th>North Indian</th>\n",
       "      <td>516310</td>\n",
       "    </tr>\n",
       "    <tr>\n",
       "      <th>North Indian, Chinese</th>\n",
       "      <td>258225</td>\n",
       "    </tr>\n",
       "    <tr>\n",
       "      <th>South Indian</th>\n",
       "      <td>161975</td>\n",
       "    </tr>\n",
       "    <tr>\n",
       "      <th>Chinese</th>\n",
       "      <td>101728</td>\n",
       "    </tr>\n",
       "  </tbody>\n",
       "</table>\n",
       "</div>"
      ],
      "text/plain": [
       "                          votes\n",
       "cuisines                       \n",
       "others                 12798334\n",
       "North Indian             516310\n",
       "North Indian, Chinese    258225\n",
       "South Indian             161975\n",
       "Chinese                  101728"
      ]
     },
     "execution_count": 54,
     "metadata": {},
     "output_type": "execute_result"
    }
   ],
   "source": [
    "#Visualizing Top Cuisines\n",
    "df6 = df[['cuisines', 'votes']]\n",
    "df6.drop_duplicates()\n",
    "df7 = df6.groupby(['cuisines'])['votes'].sum()\n",
    "df7 = df7.to_frame()\n",
    "df7 = df7.sort_values('votes', ascending=False)\n",
    "df7.head()"
   ]
  },
  {
   "cell_type": "code",
   "execution_count": 55,
   "id": "226a7a9d",
   "metadata": {
    "execution": {
     "iopub.execute_input": "2024-02-20T15:42:37.685465Z",
     "iopub.status.busy": "2024-02-20T15:42:37.685091Z",
     "iopub.status.idle": "2024-02-20T15:42:37.693429Z",
     "shell.execute_reply": "2024-02-20T15:42:37.692625Z"
    },
    "papermill": {
     "duration": 0.033173,
     "end_time": "2024-02-20T15:42:37.695498",
     "exception": false,
     "start_time": "2024-02-20T15:42:37.662325",
     "status": "completed"
    },
    "tags": []
   },
   "outputs": [
    {
     "data": {
      "text/html": [
       "<div>\n",
       "<style scoped>\n",
       "    .dataframe tbody tr th:only-of-type {\n",
       "        vertical-align: middle;\n",
       "    }\n",
       "\n",
       "    .dataframe tbody tr th {\n",
       "        vertical-align: top;\n",
       "    }\n",
       "\n",
       "    .dataframe thead th {\n",
       "        text-align: right;\n",
       "    }\n",
       "</style>\n",
       "<table border=\"1\" class=\"dataframe\">\n",
       "  <thead>\n",
       "    <tr style=\"text-align: right;\">\n",
       "      <th></th>\n",
       "      <th>votes</th>\n",
       "    </tr>\n",
       "    <tr>\n",
       "      <th>cuisines</th>\n",
       "      <th></th>\n",
       "    </tr>\n",
       "  </thead>\n",
       "  <tbody>\n",
       "    <tr>\n",
       "      <th>North Indian</th>\n",
       "      <td>516310</td>\n",
       "    </tr>\n",
       "    <tr>\n",
       "      <th>North Indian, Chinese</th>\n",
       "      <td>258225</td>\n",
       "    </tr>\n",
       "    <tr>\n",
       "      <th>South Indian</th>\n",
       "      <td>161975</td>\n",
       "    </tr>\n",
       "    <tr>\n",
       "      <th>Chinese</th>\n",
       "      <td>101728</td>\n",
       "    </tr>\n",
       "    <tr>\n",
       "      <th>Cafe</th>\n",
       "      <td>89986</td>\n",
       "    </tr>\n",
       "  </tbody>\n",
       "</table>\n",
       "</div>"
      ],
      "text/plain": [
       "                        votes\n",
       "cuisines                     \n",
       "North Indian           516310\n",
       "North Indian, Chinese  258225\n",
       "South Indian           161975\n",
       "Chinese                101728\n",
       "Cafe                    89986"
      ]
     },
     "execution_count": 55,
     "metadata": {},
     "output_type": "execute_result"
    }
   ],
   "source": [
    "df7 = df7.iloc[1:,:]\n",
    "df7.head()"
   ]
  },
  {
   "cell_type": "code",
   "execution_count": 56,
   "id": "074535ff",
   "metadata": {
    "execution": {
     "iopub.execute_input": "2024-02-20T15:42:37.741514Z",
     "iopub.status.busy": "2024-02-20T15:42:37.740824Z",
     "iopub.status.idle": "2024-02-20T15:42:38.020943Z",
     "shell.execute_reply": "2024-02-20T15:42:38.020228Z"
    },
    "papermill": {
     "duration": 0.304792,
     "end_time": "2024-02-20T15:42:38.022685",
     "exception": false,
     "start_time": "2024-02-20T15:42:37.717893",
     "status": "completed"
    },
    "tags": []
   },
   "outputs": [
    {
     "data": {
      "image/png": "[encoded data removed]",
      "text/plain": [
       "<Figure size 1500x800 with 1 Axes>"
      ]
     },
     "metadata": {},
     "output_type": "display_data"
    }
   ],
   "source": [
    "plt.figure(figsize=(15,8))\n",
    "sns.barplot(data=df7,x=df7.index,y='votes')\n",
    "plt.xticks(rotation=90)\n",
    "plt.show()"
   ]
  },
  {
   "cell_type": "code",
   "execution_count": null,
   "id": "5d656ef7",
   "metadata": {
    "papermill": {
     "duration": 0.02211,
     "end_time": "2024-02-20T15:42:38.067285",
     "exception": false,
     "start_time": "2024-02-20T15:42:38.045175",
     "status": "completed"
    },
    "tags": []
   },
   "outputs": [],
   "source": []
  }
 ],
 "metadata": {
  "kaggle": {
   "accelerator": "none",
   "dataSources": [
    {
     "datasetId": 153420,
     "sourceId": 352891,
     "sourceType": "datasetVersion"
    }
   ],
   "dockerImageVersionId": 30646,
   "isGpuEnabled": false,
   "isInternetEnabled": false,
   "language": "python",
   "sourceType": "notebook"
  },
  "kernelspec": {
   "display_name": "Python 3",
   "language": "python",
   "name": "python3"
  },
  "language_info": {
   "codemirror_mode": {
    "name": "ipython",
    "version": 3
   },
   "file_extension": ".py",
   "mimetype": "text/x-python",
   "name": "python",
   "nbconvert_exporter": "python",
   "pygments_lexer": "ipython3",
   "version": "3.10.13"
  },
  "papermill": {
   "default_parameters": {},
   "duration": 22.194731,
   "end_time": "2024-02-20T15:42:38.706996",
   "environment_variables": {},
   "exception": null,
   "input_path": "__notebook__.ipynb",
   "output_path": "__notebook__.ipynb",
   "parameters": {},
   "start_time": "2024-02-20T15:42:16.512265",
   "version": "2.5.0"
  }
 },
 "nbformat": 4,
 "nbformat_minor": 5
}
