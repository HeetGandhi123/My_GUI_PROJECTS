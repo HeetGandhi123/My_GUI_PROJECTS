{
 "cells": [
  {
   "cell_type": "code",
   "execution_count": 1,
   "id": "972522d5",
   "metadata": {
    "_cell_guid": "b1076dfc-b9ad-4769-8c92-a6c4dae69d19",
    "_uuid": "8f2839f25d086af736a60e9eeb907d3b93b6e0e5",
    "execution": {
     "iopub.execute_input": "2024-02-05T14:28:13.711871Z",
     "iopub.status.busy": "2024-02-05T14:28:13.711390Z",
     "iopub.status.idle": "2024-02-05T14:28:14.688739Z",
     "shell.execute_reply": "2024-02-05T14:28:14.687480Z"
    },
    "papermill": {
     "duration": 0.993401,
     "end_time": "2024-02-05T14:28:14.691640",
     "exception": false,
     "start_time": "2024-02-05T14:28:13.698239",
     "status": "completed"
    },
    "tags": []
   },
   "outputs": [
    {
     "name": "stdout",
     "output_type": "stream",
     "text": [
      "/kaggle/input/supermarket-sales/supermarket_sales - Sheet1.csv\n"
     ]
    }
   ],
   "source": [
    "# This Python 3 environment comes with many helpful analytics libraries installed\n",
    "# It is defined by the kaggle/python Docker image: https://github.com/kaggle/docker-python\n",
    "# For example, here's several helpful packages to load\n",
    "\n",
    "import numpy as np # linear algebra\n",
    "import pandas as pd # data processing, CSV file I/O (e.g. pd.read_csv)\n",
    "\n",
    "# Input data files are available in the read-only \"../input/\" directory\n",
    "# For example, running this (by clicking run or pressing Shift+Enter) will list all files under the input directory\n",
    "\n",
    "import os\n",
    "for dirname, _, filenames in os.walk('/kaggle/input'):\n",
    "    for filename in filenames:\n",
    "        print(os.path.join(dirname, filename))\n",
    "\n",
    "# You can write up to 20GB to the current directory (/kaggle/working/) that gets preserved as output when you create a version using \"Save & Run All\" \n",
    "# You can also write temporary files to /kaggle/temp/, but they won't be saved outside of the current session"
   ]
  },
  {
   "cell_type": "code",
   "execution_count": 2,
   "id": "5a637c71",
   "metadata": {
    "execution": {
     "iopub.execute_input": "2024-02-05T14:28:14.714735Z",
     "iopub.status.busy": "2024-02-05T14:28:14.713511Z",
     "iopub.status.idle": "2024-02-05T14:28:16.193939Z",
     "shell.execute_reply": "2024-02-05T14:28:16.192512Z"
    },
    "papermill": {
     "duration": 1.494556,
     "end_time": "2024-02-05T14:28:16.196694",
     "exception": false,
     "start_time": "2024-02-05T14:28:14.702138",
     "status": "completed"
    },
    "tags": []
   },
   "outputs": [],
   "source": [
    "import matplotlib.pyplot as plt\n",
    "import seaborn as sns"
   ]
  },
  {
   "cell_type": "code",
   "execution_count": 3,
   "id": "5d2ec5c5",
   "metadata": {
    "execution": {
     "iopub.execute_input": "2024-02-05T14:28:16.218677Z",
     "iopub.status.busy": "2024-02-05T14:28:16.218269Z",
     "iopub.status.idle": "2024-02-05T14:28:16.268535Z",
     "shell.execute_reply": "2024-02-05T14:28:16.267404Z"
    },
    "papermill": {
     "duration": 0.064122,
     "end_time": "2024-02-05T14:28:16.271043",
     "exception": false,
     "start_time": "2024-02-05T14:28:16.206921",
     "status": "completed"
    },
    "tags": []
   },
   "outputs": [
    {
     "data": {
      "text/html": [
       "<div>\n",
       "<style scoped>\n",
       "    .dataframe tbody tr th:only-of-type {\n",
       "        vertical-align: middle;\n",
       "    }\n",
       "\n",
       "    .dataframe tbody tr th {\n",
       "        vertical-align: top;\n",
       "    }\n",
       "\n",
       "    .dataframe thead th {\n",
       "        text-align: right;\n",
       "    }\n",
       "</style>\n",
       "<table border=\"1\" class=\"dataframe\">\n",
       "  <thead>\n",
       "    <tr style=\"text-align: right;\">\n",
       "      <th></th>\n",
       "      <th>Invoice ID</th>\n",
       "      <th>Branch</th>\n",
       "      <th>City</th>\n",
       "      <th>Customer type</th>\n",
       "      <th>Gender</th>\n",
       "      <th>Product line</th>\n",
       "      <th>Unit price</th>\n",
       "      <th>Quantity</th>\n",
       "      <th>Tax 5%</th>\n",
       "      <th>Total</th>\n",
       "      <th>Date</th>\n",
       "      <th>Time</th>\n",
       "      <th>Payment</th>\n",
       "      <th>cogs</th>\n",
       "      <th>gross margin percentage</th>\n",
       "      <th>gross income</th>\n",
       "      <th>Rating</th>\n",
       "    </tr>\n",
       "  </thead>\n",
       "  <tbody>\n",
       "    <tr>\n",
       "      <th>0</th>\n",
       "      <td>750-67-8428</td>\n",
       "      <td>A</td>\n",
       "      <td>Yangon</td>\n",
       "      <td>Member</td>\n",
       "      <td>Female</td>\n",
       "      <td>Health and beauty</td>\n",
       "      <td>74.69</td>\n",
       "      <td>7</td>\n",
       "      <td>26.1415</td>\n",
       "      <td>548.9715</td>\n",
       "      <td>1/5/2019</td>\n",
       "      <td>13:08</td>\n",
       "      <td>Ewallet</td>\n",
       "      <td>522.83</td>\n",
       "      <td>4.761905</td>\n",
       "      <td>26.1415</td>\n",
       "      <td>9.1</td>\n",
       "    </tr>\n",
       "    <tr>\n",
       "      <th>1</th>\n",
       "      <td>226-31-3081</td>\n",
       "      <td>C</td>\n",
       "      <td>Naypyitaw</td>\n",
       "      <td>Normal</td>\n",
       "      <td>Female</td>\n",
       "      <td>Electronic accessories</td>\n",
       "      <td>15.28</td>\n",
       "      <td>5</td>\n",
       "      <td>3.8200</td>\n",
       "      <td>80.2200</td>\n",
       "      <td>3/8/2019</td>\n",
       "      <td>10:29</td>\n",
       "      <td>Cash</td>\n",
       "      <td>76.40</td>\n",
       "      <td>4.761905</td>\n",
       "      <td>3.8200</td>\n",
       "      <td>9.6</td>\n",
       "    </tr>\n",
       "    <tr>\n",
       "      <th>2</th>\n",
       "      <td>631-41-3108</td>\n",
       "      <td>A</td>\n",
       "      <td>Yangon</td>\n",
       "      <td>Normal</td>\n",
       "      <td>Male</td>\n",
       "      <td>Home and lifestyle</td>\n",
       "      <td>46.33</td>\n",
       "      <td>7</td>\n",
       "      <td>16.2155</td>\n",
       "      <td>340.5255</td>\n",
       "      <td>3/3/2019</td>\n",
       "      <td>13:23</td>\n",
       "      <td>Credit card</td>\n",
       "      <td>324.31</td>\n",
       "      <td>4.761905</td>\n",
       "      <td>16.2155</td>\n",
       "      <td>7.4</td>\n",
       "    </tr>\n",
       "    <tr>\n",
       "      <th>3</th>\n",
       "      <td>123-19-1176</td>\n",
       "      <td>A</td>\n",
       "      <td>Yangon</td>\n",
       "      <td>Member</td>\n",
       "      <td>Male</td>\n",
       "      <td>Health and beauty</td>\n",
       "      <td>58.22</td>\n",
       "      <td>8</td>\n",
       "      <td>23.2880</td>\n",
       "      <td>489.0480</td>\n",
       "      <td>1/27/2019</td>\n",
       "      <td>20:33</td>\n",
       "      <td>Ewallet</td>\n",
       "      <td>465.76</td>\n",
       "      <td>4.761905</td>\n",
       "      <td>23.2880</td>\n",
       "      <td>8.4</td>\n",
       "    </tr>\n",
       "    <tr>\n",
       "      <th>4</th>\n",
       "      <td>373-73-7910</td>\n",
       "      <td>A</td>\n",
       "      <td>Yangon</td>\n",
       "      <td>Normal</td>\n",
       "      <td>Male</td>\n",
       "      <td>Sports and travel</td>\n",
       "      <td>86.31</td>\n",
       "      <td>7</td>\n",
       "      <td>30.2085</td>\n",
       "      <td>634.3785</td>\n",
       "      <td>2/8/2019</td>\n",
       "      <td>10:37</td>\n",
       "      <td>Ewallet</td>\n",
       "      <td>604.17</td>\n",
       "      <td>4.761905</td>\n",
       "      <td>30.2085</td>\n",
       "      <td>5.3</td>\n",
       "    </tr>\n",
       "  </tbody>\n",
       "</table>\n",
       "</div>"
      ],
      "text/plain": [
       "    Invoice ID Branch       City Customer type  Gender  \\\n",
       "0  750-67-8428      A     Yangon        Member  Female   \n",
       "1  226-31-3081      C  Naypyitaw        Normal  Female   \n",
       "2  631-41-3108      A     Yangon        Normal    Male   \n",
       "3  123-19-1176      A     Yangon        Member    Male   \n",
       "4  373-73-7910      A     Yangon        Normal    Male   \n",
       "\n",
       "             Product line  Unit price  Quantity   Tax 5%     Total       Date  \\\n",
       "0       Health and beauty       74.69         7  26.1415  548.9715   1/5/2019   \n",
       "1  Electronic accessories       15.28         5   3.8200   80.2200   3/8/2019   \n",
       "2      Home and lifestyle       46.33         7  16.2155  340.5255   3/3/2019   \n",
       "3       Health and beauty       58.22         8  23.2880  489.0480  1/27/2019   \n",
       "4       Sports and travel       86.31         7  30.2085  634.3785   2/8/2019   \n",
       "\n",
       "    Time      Payment    cogs  gross margin percentage  gross income  Rating  \n",
       "0  13:08      Ewallet  522.83                 4.761905       26.1415     9.1  \n",
       "1  10:29         Cash   76.40                 4.761905        3.8200     9.6  \n",
       "2  13:23  Credit card  324.31                 4.761905       16.2155     7.4  \n",
       "3  20:33      Ewallet  465.76                 4.761905       23.2880     8.4  \n",
       "4  10:37      Ewallet  604.17                 4.761905       30.2085     5.3  "
      ]
     },
     "execution_count": 3,
     "metadata": {},
     "output_type": "execute_result"
    }
   ],
   "source": [
    "df = pd.read_csv(\"../input/supermarket-sales/supermarket_sales - Sheet1.csv\")\n",
    "df.head()"
   ]
  },
  {
   "cell_type": "code",
   "execution_count": 4,
   "id": "d21e0bda",
   "metadata": {
    "execution": {
     "iopub.execute_input": "2024-02-05T14:28:16.294114Z",
     "iopub.status.busy": "2024-02-05T14:28:16.293551Z",
     "iopub.status.idle": "2024-02-05T14:28:16.336842Z",
     "shell.execute_reply": "2024-02-05T14:28:16.335688Z"
    },
    "papermill": {
     "duration": 0.057428,
     "end_time": "2024-02-05T14:28:16.339073",
     "exception": false,
     "start_time": "2024-02-05T14:28:16.281645",
     "status": "completed"
    },
    "tags": []
   },
   "outputs": [
    {
     "data": {
      "text/html": [
       "<div>\n",
       "<style scoped>\n",
       "    .dataframe tbody tr th:only-of-type {\n",
       "        vertical-align: middle;\n",
       "    }\n",
       "\n",
       "    .dataframe tbody tr th {\n",
       "        vertical-align: top;\n",
       "    }\n",
       "\n",
       "    .dataframe thead th {\n",
       "        text-align: right;\n",
       "    }\n",
       "</style>\n",
       "<table border=\"1\" class=\"dataframe\">\n",
       "  <thead>\n",
       "    <tr style=\"text-align: right;\">\n",
       "      <th></th>\n",
       "      <th>Unit price</th>\n",
       "      <th>Quantity</th>\n",
       "      <th>Tax 5%</th>\n",
       "      <th>Total</th>\n",
       "      <th>cogs</th>\n",
       "      <th>gross margin percentage</th>\n",
       "      <th>gross income</th>\n",
       "      <th>Rating</th>\n",
       "    </tr>\n",
       "  </thead>\n",
       "  <tbody>\n",
       "    <tr>\n",
       "      <th>count</th>\n",
       "      <td>1000.000000</td>\n",
       "      <td>1000.000000</td>\n",
       "      <td>1000.000000</td>\n",
       "      <td>1000.000000</td>\n",
       "      <td>1000.00000</td>\n",
       "      <td>1000.000000</td>\n",
       "      <td>1000.000000</td>\n",
       "      <td>1000.00000</td>\n",
       "    </tr>\n",
       "    <tr>\n",
       "      <th>mean</th>\n",
       "      <td>55.672130</td>\n",
       "      <td>5.510000</td>\n",
       "      <td>15.379369</td>\n",
       "      <td>322.966749</td>\n",
       "      <td>307.58738</td>\n",
       "      <td>4.761905</td>\n",
       "      <td>15.379369</td>\n",
       "      <td>6.97270</td>\n",
       "    </tr>\n",
       "    <tr>\n",
       "      <th>std</th>\n",
       "      <td>26.494628</td>\n",
       "      <td>2.923431</td>\n",
       "      <td>11.708825</td>\n",
       "      <td>245.885335</td>\n",
       "      <td>234.17651</td>\n",
       "      <td>0.000000</td>\n",
       "      <td>11.708825</td>\n",
       "      <td>1.71858</td>\n",
       "    </tr>\n",
       "    <tr>\n",
       "      <th>min</th>\n",
       "      <td>10.080000</td>\n",
       "      <td>1.000000</td>\n",
       "      <td>0.508500</td>\n",
       "      <td>10.678500</td>\n",
       "      <td>10.17000</td>\n",
       "      <td>4.761905</td>\n",
       "      <td>0.508500</td>\n",
       "      <td>4.00000</td>\n",
       "    </tr>\n",
       "    <tr>\n",
       "      <th>25%</th>\n",
       "      <td>32.875000</td>\n",
       "      <td>3.000000</td>\n",
       "      <td>5.924875</td>\n",
       "      <td>124.422375</td>\n",
       "      <td>118.49750</td>\n",
       "      <td>4.761905</td>\n",
       "      <td>5.924875</td>\n",
       "      <td>5.50000</td>\n",
       "    </tr>\n",
       "    <tr>\n",
       "      <th>50%</th>\n",
       "      <td>55.230000</td>\n",
       "      <td>5.000000</td>\n",
       "      <td>12.088000</td>\n",
       "      <td>253.848000</td>\n",
       "      <td>241.76000</td>\n",
       "      <td>4.761905</td>\n",
       "      <td>12.088000</td>\n",
       "      <td>7.00000</td>\n",
       "    </tr>\n",
       "    <tr>\n",
       "      <th>75%</th>\n",
       "      <td>77.935000</td>\n",
       "      <td>8.000000</td>\n",
       "      <td>22.445250</td>\n",
       "      <td>471.350250</td>\n",
       "      <td>448.90500</td>\n",
       "      <td>4.761905</td>\n",
       "      <td>22.445250</td>\n",
       "      <td>8.50000</td>\n",
       "    </tr>\n",
       "    <tr>\n",
       "      <th>max</th>\n",
       "      <td>99.960000</td>\n",
       "      <td>10.000000</td>\n",
       "      <td>49.650000</td>\n",
       "      <td>1042.650000</td>\n",
       "      <td>993.00000</td>\n",
       "      <td>4.761905</td>\n",
       "      <td>49.650000</td>\n",
       "      <td>10.00000</td>\n",
       "    </tr>\n",
       "  </tbody>\n",
       "</table>\n",
       "</div>"
      ],
      "text/plain": [
       "        Unit price     Quantity       Tax 5%        Total        cogs  \\\n",
       "count  1000.000000  1000.000000  1000.000000  1000.000000  1000.00000   \n",
       "mean     55.672130     5.510000    15.379369   322.966749   307.58738   \n",
       "std      26.494628     2.923431    11.708825   245.885335   234.17651   \n",
       "min      10.080000     1.000000     0.508500    10.678500    10.17000   \n",
       "25%      32.875000     3.000000     5.924875   124.422375   118.49750   \n",
       "50%      55.230000     5.000000    12.088000   253.848000   241.76000   \n",
       "75%      77.935000     8.000000    22.445250   471.350250   448.90500   \n",
       "max      99.960000    10.000000    49.650000  1042.650000   993.00000   \n",
       "\n",
       "       gross margin percentage  gross income      Rating  \n",
       "count              1000.000000   1000.000000  1000.00000  \n",
       "mean                  4.761905     15.379369     6.97270  \n",
       "std                   0.000000     11.708825     1.71858  \n",
       "min                   4.761905      0.508500     4.00000  \n",
       "25%                   4.761905      5.924875     5.50000  \n",
       "50%                   4.761905     12.088000     7.00000  \n",
       "75%                   4.761905     22.445250     8.50000  \n",
       "max                   4.761905     49.650000    10.00000  "
      ]
     },
     "execution_count": 4,
     "metadata": {},
     "output_type": "execute_result"
    }
   ],
   "source": [
    "df.describe()"
   ]
  },
  {
   "cell_type": "code",
   "execution_count": 5,
   "id": "8defce62",
   "metadata": {
    "execution": {
     "iopub.execute_input": "2024-02-05T14:28:16.362624Z",
     "iopub.status.busy": "2024-02-05T14:28:16.362207Z",
     "iopub.status.idle": "2024-02-05T14:28:16.390107Z",
     "shell.execute_reply": "2024-02-05T14:28:16.388641Z"
    },
    "papermill": {
     "duration": 0.042703,
     "end_time": "2024-02-05T14:28:16.392731",
     "exception": false,
     "start_time": "2024-02-05T14:28:16.350028",
     "status": "completed"
    },
    "tags": []
   },
   "outputs": [
    {
     "name": "stdout",
     "output_type": "stream",
     "text": [
      "<class 'pandas.core.frame.DataFrame'>\n",
      "RangeIndex: 1000 entries, 0 to 999\n",
      "Data columns (total 17 columns):\n",
      " #   Column                   Non-Null Count  Dtype  \n",
      "---  ------                   --------------  -----  \n",
      " 0   Invoice ID               1000 non-null   object \n",
      " 1   Branch                   1000 non-null   object \n",
      " 2   City                     1000 non-null   object \n",
      " 3   Customer type            1000 non-null   object \n",
      " 4   Gender                   1000 non-null   object \n",
      " 5   Product line             1000 non-null   object \n",
      " 6   Unit price               1000 non-null   float64\n",
      " 7   Quantity                 1000 non-null   int64  \n",
      " 8   Tax 5%                   1000 non-null   float64\n",
      " 9   Total                    1000 non-null   float64\n",
      " 10  Date                     1000 non-null   object \n",
      " 11  Time                     1000 non-null   object \n",
      " 12  Payment                  1000 non-null   object \n",
      " 13  cogs                     1000 non-null   float64\n",
      " 14  gross margin percentage  1000 non-null   float64\n",
      " 15  gross income             1000 non-null   float64\n",
      " 16  Rating                   1000 non-null   float64\n",
      "dtypes: float64(7), int64(1), object(9)\n",
      "memory usage: 132.9+ KB\n"
     ]
    }
   ],
   "source": [
    "df.info()"
   ]
  },
  {
   "cell_type": "code",
   "execution_count": 6,
   "id": "7f777874",
   "metadata": {
    "execution": {
     "iopub.execute_input": "2024-02-05T14:28:16.417256Z",
     "iopub.status.busy": "2024-02-05T14:28:16.416814Z",
     "iopub.status.idle": "2024-02-05T14:28:16.427531Z",
     "shell.execute_reply": "2024-02-05T14:28:16.426165Z"
    },
    "papermill": {
     "duration": 0.026046,
     "end_time": "2024-02-05T14:28:16.430233",
     "exception": false,
     "start_time": "2024-02-05T14:28:16.404187",
     "status": "completed"
    },
    "tags": []
   },
   "outputs": [
    {
     "data": {
      "text/plain": [
       "Invoice ID                 0\n",
       "Branch                     0\n",
       "City                       0\n",
       "Customer type              0\n",
       "Gender                     0\n",
       "Product line               0\n",
       "Unit price                 0\n",
       "Quantity                   0\n",
       "Tax 5%                     0\n",
       "Total                      0\n",
       "Date                       0\n",
       "Time                       0\n",
       "Payment                    0\n",
       "cogs                       0\n",
       "gross margin percentage    0\n",
       "gross income               0\n",
       "Rating                     0\n",
       "dtype: int64"
      ]
     },
     "execution_count": 6,
     "metadata": {},
     "output_type": "execute_result"
    }
   ],
   "source": [
    "df.isnull().sum()"
   ]
  },
  {
   "cell_type": "code",
   "execution_count": 7,
   "id": "92bfc4dc",
   "metadata": {
    "execution": {
     "iopub.execute_input": "2024-02-05T14:28:16.454852Z",
     "iopub.status.busy": "2024-02-05T14:28:16.454411Z",
     "iopub.status.idle": "2024-02-05T14:28:16.481384Z",
     "shell.execute_reply": "2024-02-05T14:28:16.480177Z"
    },
    "papermill": {
     "duration": 0.04211,
     "end_time": "2024-02-05T14:28:16.483946",
     "exception": false,
     "start_time": "2024-02-05T14:28:16.441836",
     "status": "completed"
    },
    "tags": []
   },
   "outputs": [
    {
     "data": {
      "text/html": [
       "<div>\n",
       "<style scoped>\n",
       "    .dataframe tbody tr th:only-of-type {\n",
       "        vertical-align: middle;\n",
       "    }\n",
       "\n",
       "    .dataframe tbody tr th {\n",
       "        vertical-align: top;\n",
       "    }\n",
       "\n",
       "    .dataframe thead th {\n",
       "        text-align: right;\n",
       "    }\n",
       "</style>\n",
       "<table border=\"1\" class=\"dataframe\">\n",
       "  <thead>\n",
       "    <tr style=\"text-align: right;\">\n",
       "      <th></th>\n",
       "      <th>Branch</th>\n",
       "      <th>City</th>\n",
       "      <th>Customer type</th>\n",
       "      <th>Gender</th>\n",
       "      <th>Product line</th>\n",
       "      <th>Unit price</th>\n",
       "      <th>Quantity</th>\n",
       "      <th>Tax 5%</th>\n",
       "      <th>Total</th>\n",
       "      <th>Payment</th>\n",
       "      <th>cogs</th>\n",
       "      <th>gross margin percentage</th>\n",
       "      <th>gross income</th>\n",
       "      <th>Rating</th>\n",
       "    </tr>\n",
       "  </thead>\n",
       "  <tbody>\n",
       "    <tr>\n",
       "      <th>0</th>\n",
       "      <td>A</td>\n",
       "      <td>Yangon</td>\n",
       "      <td>Member</td>\n",
       "      <td>Female</td>\n",
       "      <td>Health and beauty</td>\n",
       "      <td>74.69</td>\n",
       "      <td>7</td>\n",
       "      <td>26.1415</td>\n",
       "      <td>548.9715</td>\n",
       "      <td>Ewallet</td>\n",
       "      <td>522.83</td>\n",
       "      <td>4.761905</td>\n",
       "      <td>26.1415</td>\n",
       "      <td>9.1</td>\n",
       "    </tr>\n",
       "    <tr>\n",
       "      <th>1</th>\n",
       "      <td>C</td>\n",
       "      <td>Naypyitaw</td>\n",
       "      <td>Normal</td>\n",
       "      <td>Female</td>\n",
       "      <td>Electronic accessories</td>\n",
       "      <td>15.28</td>\n",
       "      <td>5</td>\n",
       "      <td>3.8200</td>\n",
       "      <td>80.2200</td>\n",
       "      <td>Cash</td>\n",
       "      <td>76.40</td>\n",
       "      <td>4.761905</td>\n",
       "      <td>3.8200</td>\n",
       "      <td>9.6</td>\n",
       "    </tr>\n",
       "    <tr>\n",
       "      <th>2</th>\n",
       "      <td>A</td>\n",
       "      <td>Yangon</td>\n",
       "      <td>Normal</td>\n",
       "      <td>Male</td>\n",
       "      <td>Home and lifestyle</td>\n",
       "      <td>46.33</td>\n",
       "      <td>7</td>\n",
       "      <td>16.2155</td>\n",
       "      <td>340.5255</td>\n",
       "      <td>Credit card</td>\n",
       "      <td>324.31</td>\n",
       "      <td>4.761905</td>\n",
       "      <td>16.2155</td>\n",
       "      <td>7.4</td>\n",
       "    </tr>\n",
       "    <tr>\n",
       "      <th>3</th>\n",
       "      <td>A</td>\n",
       "      <td>Yangon</td>\n",
       "      <td>Member</td>\n",
       "      <td>Male</td>\n",
       "      <td>Health and beauty</td>\n",
       "      <td>58.22</td>\n",
       "      <td>8</td>\n",
       "      <td>23.2880</td>\n",
       "      <td>489.0480</td>\n",
       "      <td>Ewallet</td>\n",
       "      <td>465.76</td>\n",
       "      <td>4.761905</td>\n",
       "      <td>23.2880</td>\n",
       "      <td>8.4</td>\n",
       "    </tr>\n",
       "    <tr>\n",
       "      <th>4</th>\n",
       "      <td>A</td>\n",
       "      <td>Yangon</td>\n",
       "      <td>Normal</td>\n",
       "      <td>Male</td>\n",
       "      <td>Sports and travel</td>\n",
       "      <td>86.31</td>\n",
       "      <td>7</td>\n",
       "      <td>30.2085</td>\n",
       "      <td>634.3785</td>\n",
       "      <td>Ewallet</td>\n",
       "      <td>604.17</td>\n",
       "      <td>4.761905</td>\n",
       "      <td>30.2085</td>\n",
       "      <td>5.3</td>\n",
       "    </tr>\n",
       "  </tbody>\n",
       "</table>\n",
       "</div>"
      ],
      "text/plain": [
       "  Branch       City Customer type  Gender            Product line  Unit price  \\\n",
       "0      A     Yangon        Member  Female       Health and beauty       74.69   \n",
       "1      C  Naypyitaw        Normal  Female  Electronic accessories       15.28   \n",
       "2      A     Yangon        Normal    Male      Home and lifestyle       46.33   \n",
       "3      A     Yangon        Member    Male       Health and beauty       58.22   \n",
       "4      A     Yangon        Normal    Male       Sports and travel       86.31   \n",
       "\n",
       "   Quantity   Tax 5%     Total      Payment    cogs  gross margin percentage  \\\n",
       "0         7  26.1415  548.9715      Ewallet  522.83                 4.761905   \n",
       "1         5   3.8200   80.2200         Cash   76.40                 4.761905   \n",
       "2         7  16.2155  340.5255  Credit card  324.31                 4.761905   \n",
       "3         8  23.2880  489.0480      Ewallet  465.76                 4.761905   \n",
       "4         7  30.2085  634.3785      Ewallet  604.17                 4.761905   \n",
       "\n",
       "   gross income  Rating  \n",
       "0       26.1415     9.1  \n",
       "1        3.8200     9.6  \n",
       "2       16.2155     7.4  \n",
       "3       23.2880     8.4  \n",
       "4       30.2085     5.3  "
      ]
     },
     "execution_count": 7,
     "metadata": {},
     "output_type": "execute_result"
    }
   ],
   "source": [
    "df = df.drop(['Invoice ID','Date','Time'],axis=1)\n",
    "df.head()"
   ]
  },
  {
   "cell_type": "code",
   "execution_count": 8,
   "id": "2ee24f58",
   "metadata": {
    "execution": {
     "iopub.execute_input": "2024-02-05T14:28:16.509546Z",
     "iopub.status.busy": "2024-02-05T14:28:16.509159Z",
     "iopub.status.idle": "2024-02-05T14:28:16.517005Z",
     "shell.execute_reply": "2024-02-05T14:28:16.516221Z"
    },
    "papermill": {
     "duration": 0.022776,
     "end_time": "2024-02-05T14:28:16.519062",
     "exception": false,
     "start_time": "2024-02-05T14:28:16.496286",
     "status": "completed"
    },
    "tags": []
   },
   "outputs": [
    {
     "data": {
      "text/plain": [
       "array([4.76190476])"
      ]
     },
     "execution_count": 8,
     "metadata": {},
     "output_type": "execute_result"
    }
   ],
   "source": [
    "df['gross margin percentage'].unique()"
   ]
  },
  {
   "cell_type": "code",
   "execution_count": 9,
   "id": "775c24ff",
   "metadata": {
    "execution": {
     "iopub.execute_input": "2024-02-05T14:28:16.544163Z",
     "iopub.status.busy": "2024-02-05T14:28:16.543763Z",
     "iopub.status.idle": "2024-02-05T14:28:16.550247Z",
     "shell.execute_reply": "2024-02-05T14:28:16.549017Z"
    },
    "papermill": {
     "duration": 0.022049,
     "end_time": "2024-02-05T14:28:16.552494",
     "exception": false,
     "start_time": "2024-02-05T14:28:16.530445",
     "status": "completed"
    },
    "tags": []
   },
   "outputs": [],
   "source": [
    "# Since only same value is there in gross margin percentage we can drop it\n",
    "df = df.drop(['gross margin percentage'],axis = 1)"
   ]
  },
  {
   "cell_type": "code",
   "execution_count": 10,
   "id": "cfb0e328",
   "metadata": {
    "execution": {
     "iopub.execute_input": "2024-02-05T14:28:16.578217Z",
     "iopub.status.busy": "2024-02-05T14:28:16.577797Z",
     "iopub.status.idle": "2024-02-05T14:28:16.597272Z",
     "shell.execute_reply": "2024-02-05T14:28:16.596383Z"
    },
    "papermill": {
     "duration": 0.035294,
     "end_time": "2024-02-05T14:28:16.599729",
     "exception": false,
     "start_time": "2024-02-05T14:28:16.564435",
     "status": "completed"
    },
    "tags": []
   },
   "outputs": [
    {
     "data": {
      "text/html": [
       "<div>\n",
       "<style scoped>\n",
       "    .dataframe tbody tr th:only-of-type {\n",
       "        vertical-align: middle;\n",
       "    }\n",
       "\n",
       "    .dataframe tbody tr th {\n",
       "        vertical-align: top;\n",
       "    }\n",
       "\n",
       "    .dataframe thead th {\n",
       "        text-align: right;\n",
       "    }\n",
       "</style>\n",
       "<table border=\"1\" class=\"dataframe\">\n",
       "  <thead>\n",
       "    <tr style=\"text-align: right;\">\n",
       "      <th></th>\n",
       "      <th>Branch</th>\n",
       "      <th>City</th>\n",
       "      <th>Customer type</th>\n",
       "      <th>Gender</th>\n",
       "      <th>Product line</th>\n",
       "      <th>Unit price</th>\n",
       "      <th>Quantity</th>\n",
       "      <th>Tax 5%</th>\n",
       "      <th>Total</th>\n",
       "      <th>Payment</th>\n",
       "      <th>cogs</th>\n",
       "      <th>gross income</th>\n",
       "      <th>Rating</th>\n",
       "    </tr>\n",
       "  </thead>\n",
       "  <tbody>\n",
       "    <tr>\n",
       "      <th>0</th>\n",
       "      <td>A</td>\n",
       "      <td>Yangon</td>\n",
       "      <td>Member</td>\n",
       "      <td>Female</td>\n",
       "      <td>Health and beauty</td>\n",
       "      <td>74.69</td>\n",
       "      <td>7</td>\n",
       "      <td>26.1415</td>\n",
       "      <td>548.9715</td>\n",
       "      <td>Ewallet</td>\n",
       "      <td>522.83</td>\n",
       "      <td>26.1415</td>\n",
       "      <td>9.1</td>\n",
       "    </tr>\n",
       "    <tr>\n",
       "      <th>1</th>\n",
       "      <td>C</td>\n",
       "      <td>Naypyitaw</td>\n",
       "      <td>Normal</td>\n",
       "      <td>Female</td>\n",
       "      <td>Electronic accessories</td>\n",
       "      <td>15.28</td>\n",
       "      <td>5</td>\n",
       "      <td>3.8200</td>\n",
       "      <td>80.2200</td>\n",
       "      <td>Cash</td>\n",
       "      <td>76.40</td>\n",
       "      <td>3.8200</td>\n",
       "      <td>9.6</td>\n",
       "    </tr>\n",
       "    <tr>\n",
       "      <th>2</th>\n",
       "      <td>A</td>\n",
       "      <td>Yangon</td>\n",
       "      <td>Normal</td>\n",
       "      <td>Male</td>\n",
       "      <td>Home and lifestyle</td>\n",
       "      <td>46.33</td>\n",
       "      <td>7</td>\n",
       "      <td>16.2155</td>\n",
       "      <td>340.5255</td>\n",
       "      <td>Credit card</td>\n",
       "      <td>324.31</td>\n",
       "      <td>16.2155</td>\n",
       "      <td>7.4</td>\n",
       "    </tr>\n",
       "    <tr>\n",
       "      <th>3</th>\n",
       "      <td>A</td>\n",
       "      <td>Yangon</td>\n",
       "      <td>Member</td>\n",
       "      <td>Male</td>\n",
       "      <td>Health and beauty</td>\n",
       "      <td>58.22</td>\n",
       "      <td>8</td>\n",
       "      <td>23.2880</td>\n",
       "      <td>489.0480</td>\n",
       "      <td>Ewallet</td>\n",
       "      <td>465.76</td>\n",
       "      <td>23.2880</td>\n",
       "      <td>8.4</td>\n",
       "    </tr>\n",
       "    <tr>\n",
       "      <th>4</th>\n",
       "      <td>A</td>\n",
       "      <td>Yangon</td>\n",
       "      <td>Normal</td>\n",
       "      <td>Male</td>\n",
       "      <td>Sports and travel</td>\n",
       "      <td>86.31</td>\n",
       "      <td>7</td>\n",
       "      <td>30.2085</td>\n",
       "      <td>634.3785</td>\n",
       "      <td>Ewallet</td>\n",
       "      <td>604.17</td>\n",
       "      <td>30.2085</td>\n",
       "      <td>5.3</td>\n",
       "    </tr>\n",
       "  </tbody>\n",
       "</table>\n",
       "</div>"
      ],
      "text/plain": [
       "  Branch       City Customer type  Gender            Product line  Unit price  \\\n",
       "0      A     Yangon        Member  Female       Health and beauty       74.69   \n",
       "1      C  Naypyitaw        Normal  Female  Electronic accessories       15.28   \n",
       "2      A     Yangon        Normal    Male      Home and lifestyle       46.33   \n",
       "3      A     Yangon        Member    Male       Health and beauty       58.22   \n",
       "4      A     Yangon        Normal    Male       Sports and travel       86.31   \n",
       "\n",
       "   Quantity   Tax 5%     Total      Payment    cogs  gross income  Rating  \n",
       "0         7  26.1415  548.9715      Ewallet  522.83       26.1415     9.1  \n",
       "1         5   3.8200   80.2200         Cash   76.40        3.8200     9.6  \n",
       "2         7  16.2155  340.5255  Credit card  324.31       16.2155     7.4  \n",
       "3         8  23.2880  489.0480      Ewallet  465.76       23.2880     8.4  \n",
       "4         7  30.2085  634.3785      Ewallet  604.17       30.2085     5.3  "
      ]
     },
     "execution_count": 10,
     "metadata": {},
     "output_type": "execute_result"
    }
   ],
   "source": [
    "df.head()"
   ]
  },
  {
   "cell_type": "code",
   "execution_count": 11,
   "id": "c43e236d",
   "metadata": {
    "execution": {
     "iopub.execute_input": "2024-02-05T14:28:16.626206Z",
     "iopub.status.busy": "2024-02-05T14:28:16.625317Z",
     "iopub.status.idle": "2024-02-05T14:28:16.630979Z",
     "shell.execute_reply": "2024-02-05T14:28:16.630198Z"
    },
    "papermill": {
     "duration": 0.021319,
     "end_time": "2024-02-05T14:28:16.633153",
     "exception": false,
     "start_time": "2024-02-05T14:28:16.611834",
     "status": "completed"
    },
    "tags": []
   },
   "outputs": [
    {
     "data": {
      "text/plain": [
       "(1000, 13)"
      ]
     },
     "execution_count": 11,
     "metadata": {},
     "output_type": "execute_result"
    }
   ],
   "source": [
    "df.shape"
   ]
  },
  {
   "cell_type": "markdown",
   "id": "d6384cf1",
   "metadata": {
    "papermill": {
     "duration": 0.011893,
     "end_time": "2024-02-05T14:28:16.657090",
     "exception": false,
     "start_time": "2024-02-05T14:28:16.645197",
     "status": "completed"
    },
    "tags": []
   },
   "source": [
    "## Data Visualization"
   ]
  },
  {
   "cell_type": "code",
   "execution_count": 12,
   "id": "bea1ec50",
   "metadata": {
    "execution": {
     "iopub.execute_input": "2024-02-05T14:28:16.683297Z",
     "iopub.status.busy": "2024-02-05T14:28:16.682683Z",
     "iopub.status.idle": "2024-02-05T14:28:16.690448Z",
     "shell.execute_reply": "2024-02-05T14:28:16.689165Z"
    },
    "papermill": {
     "duration": 0.023952,
     "end_time": "2024-02-05T14:28:16.693072",
     "exception": false,
     "start_time": "2024-02-05T14:28:16.669120",
     "status": "completed"
    },
    "tags": []
   },
   "outputs": [
    {
     "data": {
      "text/plain": [
       "Gender\n",
       "Female    501\n",
       "Male      499\n",
       "Name: count, dtype: int64"
      ]
     },
     "execution_count": 12,
     "metadata": {},
     "output_type": "execute_result"
    }
   ],
   "source": [
    "df['Gender'].value_counts()"
   ]
  },
  {
   "cell_type": "code",
   "execution_count": 13,
   "id": "a6e86a6a",
   "metadata": {
    "execution": {
     "iopub.execute_input": "2024-02-05T14:28:16.719766Z",
     "iopub.status.busy": "2024-02-05T14:28:16.719379Z",
     "iopub.status.idle": "2024-02-05T14:28:16.918205Z",
     "shell.execute_reply": "2024-02-05T14:28:16.916928Z"
    },
    "papermill": {
     "duration": 0.215175,
     "end_time": "2024-02-05T14:28:16.920625",
     "exception": false,
     "start_time": "2024-02-05T14:28:16.705450",
     "status": "completed"
    },
    "tags": []
   },
   "outputs": [
    {
     "data": {
      "text/plain": [
       "<Axes: xlabel='Gender', ylabel='count'>"
      ]
     },
     "execution_count": 13,
     "metadata": {},
     "output_type": "execute_result"
    },
    {
     "data": {
      "image/png": "[encoded data removed]",
      "text/plain": [
       "<Figure size 640x480 with 1 Axes>"
      ]
     },
     "metadata": {},
     "output_type": "display_data"
    }
   ],
   "source": [
    "sns.countplot(data=df,x='Gender')"
   ]
  },
  {
   "cell_type": "code",
   "execution_count": 14,
   "id": "be9b63bc",
   "metadata": {
    "execution": {
     "iopub.execute_input": "2024-02-05T14:28:16.948058Z",
     "iopub.status.busy": "2024-02-05T14:28:16.947302Z",
     "iopub.status.idle": "2024-02-05T14:28:16.961701Z",
     "shell.execute_reply": "2024-02-05T14:28:16.960496Z"
    },
    "papermill": {
     "duration": 0.031126,
     "end_time": "2024-02-05T14:28:16.964460",
     "exception": false,
     "start_time": "2024-02-05T14:28:16.933334",
     "status": "completed"
    },
    "tags": []
   },
   "outputs": [
    {
     "data": {
      "text/html": [
       "<div>\n",
       "<style scoped>\n",
       "    .dataframe tbody tr th:only-of-type {\n",
       "        vertical-align: middle;\n",
       "    }\n",
       "\n",
       "    .dataframe tbody tr th {\n",
       "        vertical-align: top;\n",
       "    }\n",
       "\n",
       "    .dataframe thead th {\n",
       "        text-align: right;\n",
       "    }\n",
       "</style>\n",
       "<table border=\"1\" class=\"dataframe\">\n",
       "  <thead>\n",
       "    <tr style=\"text-align: right;\">\n",
       "      <th></th>\n",
       "      <th>Female</th>\n",
       "      <th>Male</th>\n",
       "    </tr>\n",
       "  </thead>\n",
       "  <tbody>\n",
       "    <tr>\n",
       "      <th>0</th>\n",
       "      <td>1</td>\n",
       "      <td>0</td>\n",
       "    </tr>\n",
       "    <tr>\n",
       "      <th>1</th>\n",
       "      <td>1</td>\n",
       "      <td>0</td>\n",
       "    </tr>\n",
       "    <tr>\n",
       "      <th>2</th>\n",
       "      <td>0</td>\n",
       "      <td>1</td>\n",
       "    </tr>\n",
       "    <tr>\n",
       "      <th>3</th>\n",
       "      <td>0</td>\n",
       "      <td>1</td>\n",
       "    </tr>\n",
       "    <tr>\n",
       "      <th>4</th>\n",
       "      <td>0</td>\n",
       "      <td>1</td>\n",
       "    </tr>\n",
       "  </tbody>\n",
       "</table>\n",
       "</div>"
      ],
      "text/plain": [
       "   Female  Male\n",
       "0       1     0\n",
       "1       1     0\n",
       "2       0     1\n",
       "3       0     1\n",
       "4       0     1"
      ]
     },
     "execution_count": 14,
     "metadata": {},
     "output_type": "execute_result"
    }
   ],
   "source": [
    "gender_dummies = pd.get_dummies(df['Gender'],dtype= 'int')\n",
    "gender_dummies.head()"
   ]
  },
  {
   "cell_type": "code",
   "execution_count": 15,
   "id": "b0dea129",
   "metadata": {
    "execution": {
     "iopub.execute_input": "2024-02-05T14:28:16.992383Z",
     "iopub.status.busy": "2024-02-05T14:28:16.991572Z",
     "iopub.status.idle": "2024-02-05T14:28:17.012877Z",
     "shell.execute_reply": "2024-02-05T14:28:17.011722Z"
    },
    "papermill": {
     "duration": 0.038065,
     "end_time": "2024-02-05T14:28:17.015340",
     "exception": false,
     "start_time": "2024-02-05T14:28:16.977275",
     "status": "completed"
    },
    "tags": []
   },
   "outputs": [
    {
     "data": {
      "text/html": [
       "<div>\n",
       "<style scoped>\n",
       "    .dataframe tbody tr th:only-of-type {\n",
       "        vertical-align: middle;\n",
       "    }\n",
       "\n",
       "    .dataframe tbody tr th {\n",
       "        vertical-align: top;\n",
       "    }\n",
       "\n",
       "    .dataframe thead th {\n",
       "        text-align: right;\n",
       "    }\n",
       "</style>\n",
       "<table border=\"1\" class=\"dataframe\">\n",
       "  <thead>\n",
       "    <tr style=\"text-align: right;\">\n",
       "      <th></th>\n",
       "      <th>Branch</th>\n",
       "      <th>City</th>\n",
       "      <th>Customer type</th>\n",
       "      <th>Gender</th>\n",
       "      <th>Product line</th>\n",
       "      <th>Unit price</th>\n",
       "      <th>Quantity</th>\n",
       "      <th>Tax 5%</th>\n",
       "      <th>Total</th>\n",
       "      <th>Payment</th>\n",
       "      <th>cogs</th>\n",
       "      <th>gross income</th>\n",
       "      <th>Rating</th>\n",
       "      <th>Female</th>\n",
       "      <th>Male</th>\n",
       "    </tr>\n",
       "  </thead>\n",
       "  <tbody>\n",
       "    <tr>\n",
       "      <th>0</th>\n",
       "      <td>A</td>\n",
       "      <td>Yangon</td>\n",
       "      <td>Member</td>\n",
       "      <td>Female</td>\n",
       "      <td>Health and beauty</td>\n",
       "      <td>74.69</td>\n",
       "      <td>7</td>\n",
       "      <td>26.1415</td>\n",
       "      <td>548.9715</td>\n",
       "      <td>Ewallet</td>\n",
       "      <td>522.83</td>\n",
       "      <td>26.1415</td>\n",
       "      <td>9.1</td>\n",
       "      <td>1</td>\n",
       "      <td>0</td>\n",
       "    </tr>\n",
       "    <tr>\n",
       "      <th>1</th>\n",
       "      <td>C</td>\n",
       "      <td>Naypyitaw</td>\n",
       "      <td>Normal</td>\n",
       "      <td>Female</td>\n",
       "      <td>Electronic accessories</td>\n",
       "      <td>15.28</td>\n",
       "      <td>5</td>\n",
       "      <td>3.8200</td>\n",
       "      <td>80.2200</td>\n",
       "      <td>Cash</td>\n",
       "      <td>76.40</td>\n",
       "      <td>3.8200</td>\n",
       "      <td>9.6</td>\n",
       "      <td>1</td>\n",
       "      <td>0</td>\n",
       "    </tr>\n",
       "    <tr>\n",
       "      <th>2</th>\n",
       "      <td>A</td>\n",
       "      <td>Yangon</td>\n",
       "      <td>Normal</td>\n",
       "      <td>Male</td>\n",
       "      <td>Home and lifestyle</td>\n",
       "      <td>46.33</td>\n",
       "      <td>7</td>\n",
       "      <td>16.2155</td>\n",
       "      <td>340.5255</td>\n",
       "      <td>Credit card</td>\n",
       "      <td>324.31</td>\n",
       "      <td>16.2155</td>\n",
       "      <td>7.4</td>\n",
       "      <td>0</td>\n",
       "      <td>1</td>\n",
       "    </tr>\n",
       "    <tr>\n",
       "      <th>3</th>\n",
       "      <td>A</td>\n",
       "      <td>Yangon</td>\n",
       "      <td>Member</td>\n",
       "      <td>Male</td>\n",
       "      <td>Health and beauty</td>\n",
       "      <td>58.22</td>\n",
       "      <td>8</td>\n",
       "      <td>23.2880</td>\n",
       "      <td>489.0480</td>\n",
       "      <td>Ewallet</td>\n",
       "      <td>465.76</td>\n",
       "      <td>23.2880</td>\n",
       "      <td>8.4</td>\n",
       "      <td>0</td>\n",
       "      <td>1</td>\n",
       "    </tr>\n",
       "    <tr>\n",
       "      <th>4</th>\n",
       "      <td>A</td>\n",
       "      <td>Yangon</td>\n",
       "      <td>Normal</td>\n",
       "      <td>Male</td>\n",
       "      <td>Sports and travel</td>\n",
       "      <td>86.31</td>\n",
       "      <td>7</td>\n",
       "      <td>30.2085</td>\n",
       "      <td>634.3785</td>\n",
       "      <td>Ewallet</td>\n",
       "      <td>604.17</td>\n",
       "      <td>30.2085</td>\n",
       "      <td>5.3</td>\n",
       "      <td>0</td>\n",
       "      <td>1</td>\n",
       "    </tr>\n",
       "  </tbody>\n",
       "</table>\n",
       "</div>"
      ],
      "text/plain": [
       "  Branch       City Customer type  Gender            Product line  Unit price  \\\n",
       "0      A     Yangon        Member  Female       Health and beauty       74.69   \n",
       "1      C  Naypyitaw        Normal  Female  Electronic accessories       15.28   \n",
       "2      A     Yangon        Normal    Male      Home and lifestyle       46.33   \n",
       "3      A     Yangon        Member    Male       Health and beauty       58.22   \n",
       "4      A     Yangon        Normal    Male       Sports and travel       86.31   \n",
       "\n",
       "   Quantity   Tax 5%     Total      Payment    cogs  gross income  Rating  \\\n",
       "0         7  26.1415  548.9715      Ewallet  522.83       26.1415     9.1   \n",
       "1         5   3.8200   80.2200         Cash   76.40        3.8200     9.6   \n",
       "2         7  16.2155  340.5255  Credit card  324.31       16.2155     7.4   \n",
       "3         8  23.2880  489.0480      Ewallet  465.76       23.2880     8.4   \n",
       "4         7  30.2085  634.3785      Ewallet  604.17       30.2085     5.3   \n",
       "\n",
       "   Female  Male  \n",
       "0       1     0  \n",
       "1       1     0  \n",
       "2       0     1  \n",
       "3       0     1  \n",
       "4       0     1  "
      ]
     },
     "execution_count": 15,
     "metadata": {},
     "output_type": "execute_result"
    }
   ],
   "source": [
    "df = pd.concat([df, gender_dummies], axis = 1)\n",
    "df.head()"
   ]
  },
  {
   "cell_type": "code",
   "execution_count": 16,
   "id": "0b5c963c",
   "metadata": {
    "execution": {
     "iopub.execute_input": "2024-02-05T14:28:17.044363Z",
     "iopub.status.busy": "2024-02-05T14:28:17.043538Z",
     "iopub.status.idle": "2024-02-05T14:28:17.565776Z",
     "shell.execute_reply": "2024-02-05T14:28:17.564585Z"
    },
    "papermill": {
     "duration": 0.539874,
     "end_time": "2024-02-05T14:28:17.568453",
     "exception": false,
     "start_time": "2024-02-05T14:28:17.028579",
     "status": "completed"
    },
    "tags": []
   },
   "outputs": [
    {
     "data": {
      "text/plain": [
       "<Axes: xlabel='Product line', ylabel='Female'>"
      ]
     },
     "execution_count": 16,
     "metadata": {},
     "output_type": "execute_result"
    },
    {
     "data": {
      "image/png": "[encoded data removed]",
      "text/plain": [
       "<Figure size 1200x500 with 1 Axes>"
      ]
     },
     "metadata": {},
     "output_type": "display_data"
    }
   ],
   "source": [
    "plt.figure(figsize=(12,5))\n",
    "sns.barplot(data=df,x='Product line',y='Female')"
   ]
  },
  {
   "cell_type": "code",
   "execution_count": 17,
   "id": "1d5c6443",
   "metadata": {
    "execution": {
     "iopub.execute_input": "2024-02-05T14:28:17.598520Z",
     "iopub.status.busy": "2024-02-05T14:28:17.597606Z",
     "iopub.status.idle": "2024-02-05T14:28:18.041583Z",
     "shell.execute_reply": "2024-02-05T14:28:18.040421Z"
    },
    "papermill": {
     "duration": 0.461874,
     "end_time": "2024-02-05T14:28:18.044283",
     "exception": false,
     "start_time": "2024-02-05T14:28:17.582409",
     "status": "completed"
    },
    "tags": []
   },
   "outputs": [
    {
     "data": {
      "text/plain": [
       "<Axes: xlabel='Product line', ylabel='Male'>"
      ]
     },
     "execution_count": 17,
     "metadata": {},
     "output_type": "execute_result"
    },
    {
     "data": {
      "image/png": "[encoded data removed]",
      "text/plain": [
       "<Figure size 1200x500 with 1 Axes>"
      ]
     },
     "metadata": {},
     "output_type": "display_data"
    }
   ],
   "source": [
    "plt.figure(figsize=(12,5))\n",
    "sns.barplot(data=df,x='Product line',y='Male')"
   ]
  },
  {
   "cell_type": "code",
   "execution_count": 18,
   "id": "3dcd3372",
   "metadata": {
    "execution": {
     "iopub.execute_input": "2024-02-05T14:28:18.074923Z",
     "iopub.status.busy": "2024-02-05T14:28:18.074540Z",
     "iopub.status.idle": "2024-02-05T14:28:18.085442Z",
     "shell.execute_reply": "2024-02-05T14:28:18.084269Z"
    },
    "papermill": {
     "duration": 0.029497,
     "end_time": "2024-02-05T14:28:18.088307",
     "exception": false,
     "start_time": "2024-02-05T14:28:18.058810",
     "status": "completed"
    },
    "tags": []
   },
   "outputs": [
    {
     "data": {
      "text/html": [
       "<div>\n",
       "<style scoped>\n",
       "    .dataframe tbody tr th:only-of-type {\n",
       "        vertical-align: middle;\n",
       "    }\n",
       "\n",
       "    .dataframe tbody tr th {\n",
       "        vertical-align: top;\n",
       "    }\n",
       "\n",
       "    .dataframe thead th {\n",
       "        text-align: right;\n",
       "    }\n",
       "</style>\n",
       "<table border=\"1\" class=\"dataframe\">\n",
       "  <thead>\n",
       "    <tr style=\"text-align: right;\">\n",
       "      <th></th>\n",
       "      <th>count</th>\n",
       "    </tr>\n",
       "    <tr>\n",
       "      <th>City</th>\n",
       "      <th></th>\n",
       "    </tr>\n",
       "  </thead>\n",
       "  <tbody>\n",
       "    <tr>\n",
       "      <th>Yangon</th>\n",
       "      <td>340</td>\n",
       "    </tr>\n",
       "    <tr>\n",
       "      <th>Mandalay</th>\n",
       "      <td>332</td>\n",
       "    </tr>\n",
       "    <tr>\n",
       "      <th>Naypyitaw</th>\n",
       "      <td>328</td>\n",
       "    </tr>\n",
       "  </tbody>\n",
       "</table>\n",
       "</div>"
      ],
      "text/plain": [
       "           count\n",
       "City            \n",
       "Yangon       340\n",
       "Mandalay     332\n",
       "Naypyitaw    328"
      ]
     },
     "execution_count": 18,
     "metadata": {},
     "output_type": "execute_result"
    }
   ],
   "source": [
    "# Plotting customers per city\n",
    "place_df = pd.DataFrame(df['City'].value_counts())\n",
    "place_df"
   ]
  },
  {
   "cell_type": "code",
   "execution_count": 19,
   "id": "fa400982",
   "metadata": {
    "execution": {
     "iopub.execute_input": "2024-02-05T14:28:18.120961Z",
     "iopub.status.busy": "2024-02-05T14:28:18.119640Z",
     "iopub.status.idle": "2024-02-05T14:28:18.308256Z",
     "shell.execute_reply": "2024-02-05T14:28:18.307050Z"
    },
    "papermill": {
     "duration": 0.207215,
     "end_time": "2024-02-05T14:28:18.310684",
     "exception": false,
     "start_time": "2024-02-05T14:28:18.103469",
     "status": "completed"
    },
    "tags": []
   },
   "outputs": [
    {
     "data": {
      "text/plain": [
       "<Axes: xlabel='City', ylabel='count'>"
      ]
     },
     "execution_count": 19,
     "metadata": {},
     "output_type": "execute_result"
    },
    {
     "data": {
      "image/png": "[encoded data removed]",
      "text/plain": [
       "<Figure size 640x480 with 1 Axes>"
      ]
     },
     "metadata": {},
     "output_type": "display_data"
    }
   ],
   "source": [
    "sns.barplot(data=place_df,x = place_df.index, y=place_df['count'], palette='hot')"
   ]
  },
  {
   "cell_type": "code",
   "execution_count": 20,
   "id": "85a778b2",
   "metadata": {
    "execution": {
     "iopub.execute_input": "2024-02-05T14:28:18.343986Z",
     "iopub.status.busy": "2024-02-05T14:28:18.342772Z",
     "iopub.status.idle": "2024-02-05T14:28:18.354716Z",
     "shell.execute_reply": "2024-02-05T14:28:18.353342Z"
    },
    "papermill": {
     "duration": 0.031135,
     "end_time": "2024-02-05T14:28:18.357167",
     "exception": false,
     "start_time": "2024-02-05T14:28:18.326032",
     "status": "completed"
    },
    "tags": []
   },
   "outputs": [
    {
     "data": {
      "text/html": [
       "<div>\n",
       "<style scoped>\n",
       "    .dataframe tbody tr th:only-of-type {\n",
       "        vertical-align: middle;\n",
       "    }\n",
       "\n",
       "    .dataframe tbody tr th {\n",
       "        vertical-align: top;\n",
       "    }\n",
       "\n",
       "    .dataframe thead th {\n",
       "        text-align: right;\n",
       "    }\n",
       "</style>\n",
       "<table border=\"1\" class=\"dataframe\">\n",
       "  <thead>\n",
       "    <tr style=\"text-align: right;\">\n",
       "      <th></th>\n",
       "      <th>count</th>\n",
       "    </tr>\n",
       "    <tr>\n",
       "      <th>Payment</th>\n",
       "      <th></th>\n",
       "    </tr>\n",
       "  </thead>\n",
       "  <tbody>\n",
       "    <tr>\n",
       "      <th>Ewallet</th>\n",
       "      <td>345</td>\n",
       "    </tr>\n",
       "    <tr>\n",
       "      <th>Cash</th>\n",
       "      <td>344</td>\n",
       "    </tr>\n",
       "    <tr>\n",
       "      <th>Credit card</th>\n",
       "      <td>311</td>\n",
       "    </tr>\n",
       "  </tbody>\n",
       "</table>\n",
       "</div>"
      ],
      "text/plain": [
       "             count\n",
       "Payment           \n",
       "Ewallet        345\n",
       "Cash           344\n",
       "Credit card    311"
      ]
     },
     "execution_count": 20,
     "metadata": {},
     "output_type": "execute_result"
    }
   ],
   "source": [
    "# Plotting different payment methods count\n",
    "payment_df = pd.DataFrame(df['Payment'].value_counts())\n",
    "payment_df"
   ]
  },
  {
   "cell_type": "code",
   "execution_count": 21,
   "id": "a37971aa",
   "metadata": {
    "execution": {
     "iopub.execute_input": "2024-02-05T14:28:18.389844Z",
     "iopub.status.busy": "2024-02-05T14:28:18.389409Z",
     "iopub.status.idle": "2024-02-05T14:28:18.580970Z",
     "shell.execute_reply": "2024-02-05T14:28:18.579673Z"
    },
    "papermill": {
     "duration": 0.210921,
     "end_time": "2024-02-05T14:28:18.583512",
     "exception": false,
     "start_time": "2024-02-05T14:28:18.372591",
     "status": "completed"
    },
    "tags": []
   },
   "outputs": [
    {
     "data": {
      "text/plain": [
       "<Axes: xlabel='Payment', ylabel='count'>"
      ]
     },
     "execution_count": 21,
     "metadata": {},
     "output_type": "execute_result"
    },
    {
     "data": {
      "image/png": "[encoded data removed]",
      "text/plain": [
       "<Figure size 640x480 with 1 Axes>"
      ]
     },
     "metadata": {},
     "output_type": "display_data"
    }
   ],
   "source": [
    "sns.barplot(data=payment_df, x=payment_df.index, y=payment_df['count'])"
   ]
  },
  {
   "cell_type": "code",
   "execution_count": 22,
   "id": "9cdd2d31",
   "metadata": {
    "execution": {
     "iopub.execute_input": "2024-02-05T14:28:18.617846Z",
     "iopub.status.busy": "2024-02-05T14:28:18.617439Z",
     "iopub.status.idle": "2024-02-05T14:28:19.059960Z",
     "shell.execute_reply": "2024-02-05T14:28:19.058740Z"
    },
    "papermill": {
     "duration": 0.462748,
     "end_time": "2024-02-05T14:28:19.062318",
     "exception": false,
     "start_time": "2024-02-05T14:28:18.599570",
     "status": "completed"
    },
    "tags": []
   },
   "outputs": [
    {
     "data": {
      "text/plain": [
       "<Axes: xlabel='Product line', ylabel='gross income'>"
      ]
     },
     "execution_count": 22,
     "metadata": {},
     "output_type": "execute_result"
    },
    {
     "data": {
      "image/png": "[encoded data removed]",
      "text/plain": [
       "<Figure size 1200x500 with 1 Axes>"
      ]
     },
     "metadata": {},
     "output_type": "display_data"
    }
   ],
   "source": [
    "# Gross Income plot for each product line\n",
    "plt.figure(figsize=(12,5))\n",
    "sns.barplot(data=df, x='Product line', y='gross income')"
   ]
  },
  {
   "cell_type": "code",
   "execution_count": 23,
   "id": "6c5495d5",
   "metadata": {
    "execution": {
     "iopub.execute_input": "2024-02-05T14:28:19.098906Z",
     "iopub.status.busy": "2024-02-05T14:28:19.098350Z",
     "iopub.status.idle": "2024-02-05T14:28:19.508499Z",
     "shell.execute_reply": "2024-02-05T14:28:19.507571Z"
    },
    "papermill": {
     "duration": 0.431521,
     "end_time": "2024-02-05T14:28:19.510873",
     "exception": false,
     "start_time": "2024-02-05T14:28:19.079352",
     "status": "completed"
    },
    "tags": []
   },
   "outputs": [
    {
     "data": {
      "image/png": "[encoded data removed]",
      "text/plain": [
       "<Figure size 1200x500 with 1 Axes>"
      ]
     },
     "metadata": {},
     "output_type": "display_data"
    }
   ],
   "source": [
    "# Rating Plot for each product line\n",
    "xdata = [0,1,2,3,4,5,6,7,8,9,10]\n",
    "plt.figure(figsize=(12,5))\n",
    "sns.barplot(data=df, x='Rating', y='Product line',)\n",
    "# plt.xlim(0,10) Or\n",
    "plt.xticks(xdata)\n",
    "plt.show()"
   ]
  },
  {
   "cell_type": "code",
   "execution_count": 24,
   "id": "b49150ed",
   "metadata": {
    "execution": {
     "iopub.execute_input": "2024-02-05T14:28:19.547649Z",
     "iopub.status.busy": "2024-02-05T14:28:19.546915Z",
     "iopub.status.idle": "2024-02-05T14:28:20.015875Z",
     "shell.execute_reply": "2024-02-05T14:28:20.014826Z"
    },
    "papermill": {
     "duration": 0.490063,
     "end_time": "2024-02-05T14:28:20.018524",
     "exception": false,
     "start_time": "2024-02-05T14:28:19.528461",
     "status": "completed"
    },
    "tags": []
   },
   "outputs": [
    {
     "data": {
      "text/plain": [
       "<Axes: xlabel='Product line', ylabel='Total'>"
      ]
     },
     "execution_count": 24,
     "metadata": {},
     "output_type": "execute_result"
    },
    {
     "data": {
      "image/png": "[encoded data removed]",
      "text/plain": [
       "<Figure size 1200x500 with 1 Axes>"
      ]
     },
     "metadata": {},
     "output_type": "display_data"
    }
   ],
   "source": [
    "# Total bill in each product line\n",
    "plt.figure(figsize=(12,5))\n",
    "sns.barplot(data=df,x='Product line', y='Total')"
   ]
  },
  {
   "cell_type": "code",
   "execution_count": 25,
   "id": "081ed55e",
   "metadata": {
    "execution": {
     "iopub.execute_input": "2024-02-05T14:28:20.056082Z",
     "iopub.status.busy": "2024-02-05T14:28:20.055549Z",
     "iopub.status.idle": "2024-02-05T14:28:20.396351Z",
     "shell.execute_reply": "2024-02-05T14:28:20.395228Z"
    },
    "papermill": {
     "duration": 0.362316,
     "end_time": "2024-02-05T14:28:20.398881",
     "exception": false,
     "start_time": "2024-02-05T14:28:20.036565",
     "status": "completed"
    },
    "tags": []
   },
   "outputs": [
    {
     "name": "stderr",
     "output_type": "stream",
     "text": [
      "/tmp/ipykernel_19/1986649851.py:4: UserWarning: \n",
      "\n",
      "`distplot` is a deprecated function and will be removed in seaborn v0.14.0.\n",
      "\n",
      "Please adapt your code to use either `displot` (a figure-level function with\n",
      "similar flexibility) or `histplot` (an axes-level function for histograms).\n",
      "\n",
      "For a guide to updating your code to use the new functions, please see\n",
      "https://gist.github.com/mwaskom/de44147ed2974457ad6372750bbe5751\n",
      "\n",
      "  sns.distplot(df['Quantity'])\n",
      "/opt/conda/lib/python3.10/site-packages/seaborn/_oldcore.py:1119: FutureWarning: use_inf_as_na option is deprecated and will be removed in a future version. Convert inf values to NaN before operating instead.\n",
      "  with pd.option_context('mode.use_inf_as_na', True):\n"
     ]
    },
    {
     "data": {
      "image/png": "[encoded data removed]",
      "text/plain": [
       "<Figure size 1200x500 with 1 Axes>"
      ]
     },
     "metadata": {},
     "output_type": "display_data"
    }
   ],
   "source": [
    "#Exploring Quantity column\n",
    "xdata = [0,1,2,3,4,5,6,7,8,9,10]\n",
    "plt.figure(figsize=(12,5))\n",
    "sns.distplot(df['Quantity'])\n",
    "plt.xticks(xdata)\n",
    "plt.show()"
   ]
  },
  {
   "cell_type": "code",
   "execution_count": 26,
   "id": "42358fb1",
   "metadata": {
    "execution": {
     "iopub.execute_input": "2024-02-05T14:28:20.444818Z",
     "iopub.status.busy": "2024-02-05T14:28:20.443704Z",
     "iopub.status.idle": "2024-02-05T14:28:20.457753Z",
     "shell.execute_reply": "2024-02-05T14:28:20.456606Z"
    },
    "papermill": {
     "duration": 0.042355,
     "end_time": "2024-02-05T14:28:20.460118",
     "exception": false,
     "start_time": "2024-02-05T14:28:20.417763",
     "status": "completed"
    },
    "tags": []
   },
   "outputs": [
    {
     "data": {
      "text/html": [
       "<div>\n",
       "<style scoped>\n",
       "    .dataframe tbody tr th:only-of-type {\n",
       "        vertical-align: middle;\n",
       "    }\n",
       "\n",
       "    .dataframe tbody tr th {\n",
       "        vertical-align: top;\n",
       "    }\n",
       "\n",
       "    .dataframe thead th {\n",
       "        text-align: right;\n",
       "    }\n",
       "</style>\n",
       "<table border=\"1\" class=\"dataframe\">\n",
       "  <thead>\n",
       "    <tr style=\"text-align: right;\">\n",
       "      <th></th>\n",
       "      <th>count</th>\n",
       "    </tr>\n",
       "    <tr>\n",
       "      <th>Quantity</th>\n",
       "      <th></th>\n",
       "    </tr>\n",
       "  </thead>\n",
       "  <tbody>\n",
       "    <tr>\n",
       "      <th>10</th>\n",
       "      <td>119</td>\n",
       "    </tr>\n",
       "    <tr>\n",
       "      <th>1</th>\n",
       "      <td>112</td>\n",
       "    </tr>\n",
       "    <tr>\n",
       "      <th>4</th>\n",
       "      <td>109</td>\n",
       "    </tr>\n",
       "    <tr>\n",
       "      <th>7</th>\n",
       "      <td>102</td>\n",
       "    </tr>\n",
       "    <tr>\n",
       "      <th>5</th>\n",
       "      <td>102</td>\n",
       "    </tr>\n",
       "    <tr>\n",
       "      <th>6</th>\n",
       "      <td>98</td>\n",
       "    </tr>\n",
       "    <tr>\n",
       "      <th>9</th>\n",
       "      <td>92</td>\n",
       "    </tr>\n",
       "    <tr>\n",
       "      <th>2</th>\n",
       "      <td>91</td>\n",
       "    </tr>\n",
       "    <tr>\n",
       "      <th>3</th>\n",
       "      <td>90</td>\n",
       "    </tr>\n",
       "    <tr>\n",
       "      <th>8</th>\n",
       "      <td>85</td>\n",
       "    </tr>\n",
       "  </tbody>\n",
       "</table>\n",
       "</div>"
      ],
      "text/plain": [
       "          count\n",
       "Quantity       \n",
       "10          119\n",
       "1           112\n",
       "4           109\n",
       "7           102\n",
       "5           102\n",
       "6            98\n",
       "9            92\n",
       "2            91\n",
       "3            90\n",
       "8            85"
      ]
     },
     "execution_count": 26,
     "metadata": {},
     "output_type": "execute_result"
    }
   ],
   "source": [
    "quantity_df = pd.DataFrame(df['Quantity'].value_counts())\n",
    "quantity_df"
   ]
  },
  {
   "cell_type": "code",
   "execution_count": 27,
   "id": "2d7b26f2",
   "metadata": {
    "execution": {
     "iopub.execute_input": "2024-02-05T14:28:20.500987Z",
     "iopub.status.busy": "2024-02-05T14:28:20.500203Z",
     "iopub.status.idle": "2024-02-05T14:28:20.765328Z",
     "shell.execute_reply": "2024-02-05T14:28:20.764249Z"
    },
    "papermill": {
     "duration": 0.288929,
     "end_time": "2024-02-05T14:28:20.767746",
     "exception": false,
     "start_time": "2024-02-05T14:28:20.478817",
     "status": "completed"
    },
    "tags": []
   },
   "outputs": [
    {
     "data": {
      "text/plain": [
       "<Axes: xlabel='Quantity', ylabel='count'>"
      ]
     },
     "execution_count": 27,
     "metadata": {},
     "output_type": "execute_result"
    },
    {
     "data": {
      "image/png": "[encoded data removed]",
      "text/plain": [
       "<Figure size 1200x500 with 1 Axes>"
      ]
     },
     "metadata": {},
     "output_type": "display_data"
    }
   ],
   "source": [
    "plt.figure(figsize=(12,5))\n",
    "sns.barplot(data=quantity_df,x=quantity_df.index,y='count',palette='inferno')"
   ]
  },
  {
   "cell_type": "code",
   "execution_count": 28,
   "id": "341c3058",
   "metadata": {
    "execution": {
     "iopub.execute_input": "2024-02-05T14:28:20.808606Z",
     "iopub.status.busy": "2024-02-05T14:28:20.807630Z",
     "iopub.status.idle": "2024-02-05T14:28:21.194926Z",
     "shell.execute_reply": "2024-02-05T14:28:21.193823Z"
    },
    "papermill": {
     "duration": 0.410684,
     "end_time": "2024-02-05T14:28:21.197694",
     "exception": false,
     "start_time": "2024-02-05T14:28:20.787010",
     "status": "completed"
    },
    "tags": []
   },
   "outputs": [
    {
     "data": {
      "text/plain": [
       "<Axes: >"
      ]
     },
     "execution_count": 28,
     "metadata": {},
     "output_type": "execute_result"
    },
    {
     "data": {
      "image/png": "[encoded data removed]",
      "text/plain": [
       "<Figure size 640x480 with 2 Axes>"
      ]
     },
     "metadata": {},
     "output_type": "display_data"
    }
   ],
   "source": [
    "# checking if there is any correalation between columns\n",
    "sns.heatmap(df.corr(numeric_only=True))"
   ]
  },
  {
   "cell_type": "markdown",
   "id": "6279c86b",
   "metadata": {
    "papermill": {
     "duration": 0.019494,
     "end_time": "2024-02-05T14:28:21.237196",
     "exception": false,
     "start_time": "2024-02-05T14:28:21.217702",
     "status": "completed"
    },
    "tags": []
   },
   "source": [
    "## What did we learnt from this analysis\n",
    "\n",
    "####  1.Total Customers = 1000\n",
    "####  2.Total Females = 501\n",
    "####  3.Total Males = 499\n",
    "####  4.Min Rating = 4\n",
    "####  5.Max Rating = 10\n",
    "####  6.Average rating = 6.97\n",
    "####  7.Best Average rating --> Food & Beverages\n",
    "####  8.Max Average Gross Income --> Home & Lifestyle\n",
    "####  9.Min Average Gross Income --> Fashion Accessories\n",
    "#### 10.Maxium buy quantity --> 10\n",
    "#### 11.Max Average total bill --> Home & Lifestlye\n",
    "#### 12.Min Average total bill --> Fashion Accessories\n",
    "#### 13.Maximum people pays through E-Wallet\n",
    "#### 14.Maxium people comes from Yangon City\n",
    "#### 15.Max Average sales of Fashion Acessories is from females\n",
    "#### 16.Max Average sales of Health & Beauty is from Males"
   ]
  },
  {
   "cell_type": "code",
   "execution_count": null,
   "id": "50b35cff",
   "metadata": {
    "papermill": {
     "duration": 0.019475,
     "end_time": "2024-02-05T14:28:21.276954",
     "exception": false,
     "start_time": "2024-02-05T14:28:21.257479",
     "status": "completed"
    },
    "tags": []
   },
   "outputs": [],
   "source": []
  }
 ],
 "metadata": {
  "kaggle": {
   "accelerator": "none",
   "dataSources": [
    {
     "datasetId": 205965,
     "sourceId": 451952,
     "sourceType": "datasetVersion"
    }
   ],
   "dockerImageVersionId": 30646,
   "isGpuEnabled": false,
   "isInternetEnabled": true,
   "language": "python",
   "sourceType": "notebook"
  },
  "kernelspec": {
   "display_name": "Python 3",
   "language": "python",
   "name": "python3"
  },
  "language_info": {
   "codemirror_mode": {
    "name": "ipython",
    "version": 3
   },
   "file_extension": ".py",
   "mimetype": "text/x-python",
   "name": "python",
   "nbconvert_exporter": "python",
   "pygments_lexer": "ipython3",
   "version": "3.10.13"
  },
  "papermill": {
   "default_parameters": {},
   "duration": 11.311574,
   "end_time": "2024-02-05T14:28:21.917770",
   "environment_variables": {},
   "exception": null,
   "input_path": "__notebook__.ipynb",
   "output_path": "__notebook__.ipynb",
   "parameters": {},
   "start_time": "2024-02-05T14:28:10.606196",
   "version": "2.5.0"
  }
 },
 "nbformat": 4,
 "nbformat_minor": 5
}
