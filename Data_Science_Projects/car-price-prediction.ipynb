{
 "cells": [
  {
   "cell_type": "code",
   "execution_count": 1,
   "id": "ed597bb6",
   "metadata": {
    "_cell_guid": "b1076dfc-b9ad-4769-8c92-a6c4dae69d19",
    "_uuid": "8f2839f25d086af736a60e9eeb907d3b93b6e0e5",
    "execution": {
     "iopub.execute_input": "2024-12-31T07:53:33.113145Z",
     "iopub.status.busy": "2024-12-31T07:53:33.112739Z",
     "iopub.status.idle": "2024-12-31T07:53:33.974065Z",
     "shell.execute_reply": "2024-12-31T07:53:33.972694Z"
    },
    "papermill": {
     "duration": 0.87157,
     "end_time": "2024-12-31T07:53:33.976575",
     "exception": false,
     "start_time": "2024-12-31T07:53:33.105005",
     "status": "completed"
    },
    "tags": []
   },
   "outputs": [
    {
     "name": "stdout",
     "output_type": "stream",
     "text": [
      "/kaggle/input/ann-car-sales-price-prediction/car_purchasing.csv\n"
     ]
    }
   ],
   "source": [
    "# This Python 3 environment comes with many helpful analytics libraries installed\n",
    "# It is defined by the kaggle/python Docker image: https://github.com/kaggle/docker-python\n",
    "# For example, here's several helpful packages to load\n",
    "\n",
    "import numpy as np # linear algebra\n",
    "import pandas as pd # data processing, CSV file I/O (e.g. pd.read_csv)\n",
    "\n",
    "# Input data files are available in the read-only \"../input/\" directory\n",
    "# For example, running this (by clicking run or pressing Shift+Enter) will list all files under the input directory\n",
    "\n",
    "import os\n",
    "for dirname, _, filenames in os.walk('/kaggle/input'):\n",
    "    for filename in filenames:\n",
    "        print(os.path.join(dirname, filename))\n",
    "\n",
    "# You can write up to 20GB to the current directory (/kaggle/working/) that gets preserved as output when you create a version using \"Save & Run All\" \n",
    "# You can also write temporary files to /kaggle/temp/, but they won't be saved outside of the current session"
   ]
  },
  {
   "cell_type": "code",
   "execution_count": 2,
   "id": "630af1c2",
   "metadata": {
    "execution": {
     "iopub.execute_input": "2024-12-31T07:53:33.990604Z",
     "iopub.status.busy": "2024-12-31T07:53:33.989887Z",
     "iopub.status.idle": "2024-12-31T07:53:35.329684Z",
     "shell.execute_reply": "2024-12-31T07:53:35.328861Z"
    },
    "papermill": {
     "duration": 1.349221,
     "end_time": "2024-12-31T07:53:35.332060",
     "exception": false,
     "start_time": "2024-12-31T07:53:33.982839",
     "status": "completed"
    },
    "tags": []
   },
   "outputs": [],
   "source": [
    "import pandas as pd\n",
    "import numpy as np\n",
    "import matplotlib.pyplot as plt\n",
    "import seaborn as sns"
   ]
  },
  {
   "cell_type": "code",
   "execution_count": 3,
   "id": "e12441fe",
   "metadata": {
    "execution": {
     "iopub.execute_input": "2024-12-31T07:53:35.345620Z",
     "iopub.status.busy": "2024-12-31T07:53:35.345304Z",
     "iopub.status.idle": "2024-12-31T07:53:35.369072Z",
     "shell.execute_reply": "2024-12-31T07:53:35.368236Z"
    },
    "papermill": {
     "duration": 0.033013,
     "end_time": "2024-12-31T07:53:35.371317",
     "exception": false,
     "start_time": "2024-12-31T07:53:35.338304",
     "status": "completed"
    },
    "tags": []
   },
   "outputs": [],
   "source": [
    "df = pd.read_csv('../input/ann-car-sales-price-prediction/car_purchasing.csv',encoding='latin')"
   ]
  },
  {
   "cell_type": "code",
   "execution_count": 4,
   "id": "43dfdf26",
   "metadata": {
    "execution": {
     "iopub.execute_input": "2024-12-31T07:53:35.385060Z",
     "iopub.status.busy": "2024-12-31T07:53:35.384680Z",
     "iopub.status.idle": "2024-12-31T07:53:35.404944Z",
     "shell.execute_reply": "2024-12-31T07:53:35.403883Z"
    },
    "papermill": {
     "duration": 0.029608,
     "end_time": "2024-12-31T07:53:35.407041",
     "exception": false,
     "start_time": "2024-12-31T07:53:35.377433",
     "status": "completed"
    },
    "tags": []
   },
   "outputs": [
    {
     "data": {
      "text/html": [
       "<div>\n",
       "<style scoped>\n",
       "    .dataframe tbody tr th:only-of-type {\n",
       "        vertical-align: middle;\n",
       "    }\n",
       "\n",
       "    .dataframe tbody tr th {\n",
       "        vertical-align: top;\n",
       "    }\n",
       "\n",
       "    .dataframe thead th {\n",
       "        text-align: right;\n",
       "    }\n",
       "</style>\n",
       "<table border=\"1\" class=\"dataframe\">\n",
       "  <thead>\n",
       "    <tr style=\"text-align: right;\">\n",
       "      <th></th>\n",
       "      <th>customer name</th>\n",
       "      <th>customer e-mail</th>\n",
       "      <th>country</th>\n",
       "      <th>gender</th>\n",
       "      <th>age</th>\n",
       "      <th>annual Salary</th>\n",
       "      <th>credit card debt</th>\n",
       "      <th>net worth</th>\n",
       "      <th>car purchase amount</th>\n",
       "    </tr>\n",
       "  </thead>\n",
       "  <tbody>\n",
       "    <tr>\n",
       "      <th>0</th>\n",
       "      <td>Martina Avila</td>\n",
       "      <td>cubilia.Curae.Phasellus@quisaccumsanconvallis.edu</td>\n",
       "      <td>Bulgaria</td>\n",
       "      <td>0</td>\n",
       "      <td>41.851720</td>\n",
       "      <td>62812.09301</td>\n",
       "      <td>11609.380910</td>\n",
       "      <td>238961.2505</td>\n",
       "      <td>35321.45877</td>\n",
       "    </tr>\n",
       "    <tr>\n",
       "      <th>1</th>\n",
       "      <td>Harlan Barnes</td>\n",
       "      <td>eu.dolor@diam.co.uk</td>\n",
       "      <td>Belize</td>\n",
       "      <td>0</td>\n",
       "      <td>40.870623</td>\n",
       "      <td>66646.89292</td>\n",
       "      <td>9572.957136</td>\n",
       "      <td>530973.9078</td>\n",
       "      <td>45115.52566</td>\n",
       "    </tr>\n",
       "    <tr>\n",
       "      <th>2</th>\n",
       "      <td>Naomi Rodriquez</td>\n",
       "      <td>vulputate.mauris.sagittis@ametconsectetueradip...</td>\n",
       "      <td>Algeria</td>\n",
       "      <td>1</td>\n",
       "      <td>43.152897</td>\n",
       "      <td>53798.55112</td>\n",
       "      <td>11160.355060</td>\n",
       "      <td>638467.1773</td>\n",
       "      <td>42925.70921</td>\n",
       "    </tr>\n",
       "    <tr>\n",
       "      <th>3</th>\n",
       "      <td>Jade Cunningham</td>\n",
       "      <td>malesuada@dignissim.com</td>\n",
       "      <td>Cook Islands</td>\n",
       "      <td>1</td>\n",
       "      <td>58.271369</td>\n",
       "      <td>79370.03798</td>\n",
       "      <td>14426.164850</td>\n",
       "      <td>548599.0524</td>\n",
       "      <td>67422.36313</td>\n",
       "    </tr>\n",
       "    <tr>\n",
       "      <th>4</th>\n",
       "      <td>Cedric Leach</td>\n",
       "      <td>felis.ullamcorper.viverra@egetmollislectus.net</td>\n",
       "      <td>Brazil</td>\n",
       "      <td>1</td>\n",
       "      <td>57.313749</td>\n",
       "      <td>59729.15130</td>\n",
       "      <td>5358.712177</td>\n",
       "      <td>560304.0671</td>\n",
       "      <td>55915.46248</td>\n",
       "    </tr>\n",
       "  </tbody>\n",
       "</table>\n",
       "</div>"
      ],
      "text/plain": [
       "     customer name                                    customer e-mail  \\\n",
       "0    Martina Avila  cubilia.Curae.Phasellus@quisaccumsanconvallis.edu   \n",
       "1    Harlan Barnes                                eu.dolor@diam.co.uk   \n",
       "2  Naomi Rodriquez  vulputate.mauris.sagittis@ametconsectetueradip...   \n",
       "3  Jade Cunningham                            malesuada@dignissim.com   \n",
       "4     Cedric Leach     felis.ullamcorper.viverra@egetmollislectus.net   \n",
       "\n",
       "        country  gender        age  annual Salary  credit card debt  \\\n",
       "0      Bulgaria       0  41.851720    62812.09301      11609.380910   \n",
       "1        Belize       0  40.870623    66646.89292       9572.957136   \n",
       "2       Algeria       1  43.152897    53798.55112      11160.355060   \n",
       "3  Cook Islands       1  58.271369    79370.03798      14426.164850   \n",
       "4        Brazil       1  57.313749    59729.15130       5358.712177   \n",
       "\n",
       "     net worth  car purchase amount  \n",
       "0  238961.2505          35321.45877  \n",
       "1  530973.9078          45115.52566  \n",
       "2  638467.1773          42925.70921  \n",
       "3  548599.0524          67422.36313  \n",
       "4  560304.0671          55915.46248  "
      ]
     },
     "execution_count": 4,
     "metadata": {},
     "output_type": "execute_result"
    }
   ],
   "source": [
    "df.head()"
   ]
  },
  {
   "cell_type": "code",
   "execution_count": 5,
   "id": "3f549009",
   "metadata": {
    "execution": {
     "iopub.execute_input": "2024-12-31T07:53:35.421012Z",
     "iopub.status.busy": "2024-12-31T07:53:35.420642Z",
     "iopub.status.idle": "2024-12-31T07:53:35.446387Z",
     "shell.execute_reply": "2024-12-31T07:53:35.445212Z"
    },
    "papermill": {
     "duration": 0.035613,
     "end_time": "2024-12-31T07:53:35.448951",
     "exception": false,
     "start_time": "2024-12-31T07:53:35.413338",
     "status": "completed"
    },
    "tags": []
   },
   "outputs": [
    {
     "name": "stdout",
     "output_type": "stream",
     "text": [
      "<class 'pandas.core.frame.DataFrame'>\n",
      "RangeIndex: 500 entries, 0 to 499\n",
      "Data columns (total 9 columns):\n",
      " #   Column               Non-Null Count  Dtype  \n",
      "---  ------               --------------  -----  \n",
      " 0   customer name        500 non-null    object \n",
      " 1   customer e-mail      500 non-null    object \n",
      " 2   country              500 non-null    object \n",
      " 3   gender               500 non-null    int64  \n",
      " 4   age                  500 non-null    float64\n",
      " 5   annual Salary        500 non-null    float64\n",
      " 6   credit card debt     500 non-null    float64\n",
      " 7   net worth            500 non-null    float64\n",
      " 8   car purchase amount  500 non-null    float64\n",
      "dtypes: float64(5), int64(1), object(3)\n",
      "memory usage: 35.3+ KB\n"
     ]
    }
   ],
   "source": [
    "df.info()"
   ]
  },
  {
   "cell_type": "code",
   "execution_count": 6,
   "id": "6eb40f62",
   "metadata": {
    "execution": {
     "iopub.execute_input": "2024-12-31T07:53:35.462954Z",
     "iopub.status.busy": "2024-12-31T07:53:35.462535Z",
     "iopub.status.idle": "2024-12-31T07:53:35.470383Z",
     "shell.execute_reply": "2024-12-31T07:53:35.469317Z"
    },
    "papermill": {
     "duration": 0.017214,
     "end_time": "2024-12-31T07:53:35.472483",
     "exception": false,
     "start_time": "2024-12-31T07:53:35.455269",
     "status": "completed"
    },
    "tags": []
   },
   "outputs": [
    {
     "data": {
      "text/plain": [
       "customer name          0\n",
       "customer e-mail        0\n",
       "country                0\n",
       "gender                 0\n",
       "age                    0\n",
       "annual Salary          0\n",
       "credit card debt       0\n",
       "net worth              0\n",
       "car purchase amount    0\n",
       "dtype: int64"
      ]
     },
     "execution_count": 6,
     "metadata": {},
     "output_type": "execute_result"
    }
   ],
   "source": [
    "df.isnull().sum()"
   ]
  },
  {
   "cell_type": "code",
   "execution_count": 7,
   "id": "f36db150",
   "metadata": {
    "execution": {
     "iopub.execute_input": "2024-12-31T07:53:35.486941Z",
     "iopub.status.busy": "2024-12-31T07:53:35.486544Z",
     "iopub.status.idle": "2024-12-31T07:53:35.493844Z",
     "shell.execute_reply": "2024-12-31T07:53:35.492805Z"
    },
    "papermill": {
     "duration": 0.016922,
     "end_time": "2024-12-31T07:53:35.495815",
     "exception": false,
     "start_time": "2024-12-31T07:53:35.478893",
     "status": "completed"
    },
    "tags": []
   },
   "outputs": [],
   "source": [
    "df = df.drop(columns=['customer name','customer e-mail','country','gender'],axis=1)"
   ]
  },
  {
   "cell_type": "code",
   "execution_count": 8,
   "id": "8984ce73",
   "metadata": {
    "execution": {
     "iopub.execute_input": "2024-12-31T07:53:35.511022Z",
     "iopub.status.busy": "2024-12-31T07:53:35.510097Z",
     "iopub.status.idle": "2024-12-31T07:53:35.521405Z",
     "shell.execute_reply": "2024-12-31T07:53:35.520324Z"
    },
    "papermill": {
     "duration": 0.020633,
     "end_time": "2024-12-31T07:53:35.523422",
     "exception": false,
     "start_time": "2024-12-31T07:53:35.502789",
     "status": "completed"
    },
    "tags": []
   },
   "outputs": [
    {
     "data": {
      "text/html": [
       "<div>\n",
       "<style scoped>\n",
       "    .dataframe tbody tr th:only-of-type {\n",
       "        vertical-align: middle;\n",
       "    }\n",
       "\n",
       "    .dataframe tbody tr th {\n",
       "        vertical-align: top;\n",
       "    }\n",
       "\n",
       "    .dataframe thead th {\n",
       "        text-align: right;\n",
       "    }\n",
       "</style>\n",
       "<table border=\"1\" class=\"dataframe\">\n",
       "  <thead>\n",
       "    <tr style=\"text-align: right;\">\n",
       "      <th></th>\n",
       "      <th>age</th>\n",
       "      <th>annual Salary</th>\n",
       "      <th>credit card debt</th>\n",
       "      <th>net worth</th>\n",
       "      <th>car purchase amount</th>\n",
       "    </tr>\n",
       "  </thead>\n",
       "  <tbody>\n",
       "    <tr>\n",
       "      <th>0</th>\n",
       "      <td>41.851720</td>\n",
       "      <td>62812.09301</td>\n",
       "      <td>11609.380910</td>\n",
       "      <td>238961.2505</td>\n",
       "      <td>35321.45877</td>\n",
       "    </tr>\n",
       "    <tr>\n",
       "      <th>1</th>\n",
       "      <td>40.870623</td>\n",
       "      <td>66646.89292</td>\n",
       "      <td>9572.957136</td>\n",
       "      <td>530973.9078</td>\n",
       "      <td>45115.52566</td>\n",
       "    </tr>\n",
       "    <tr>\n",
       "      <th>2</th>\n",
       "      <td>43.152897</td>\n",
       "      <td>53798.55112</td>\n",
       "      <td>11160.355060</td>\n",
       "      <td>638467.1773</td>\n",
       "      <td>42925.70921</td>\n",
       "    </tr>\n",
       "    <tr>\n",
       "      <th>3</th>\n",
       "      <td>58.271369</td>\n",
       "      <td>79370.03798</td>\n",
       "      <td>14426.164850</td>\n",
       "      <td>548599.0524</td>\n",
       "      <td>67422.36313</td>\n",
       "    </tr>\n",
       "    <tr>\n",
       "      <th>4</th>\n",
       "      <td>57.313749</td>\n",
       "      <td>59729.15130</td>\n",
       "      <td>5358.712177</td>\n",
       "      <td>560304.0671</td>\n",
       "      <td>55915.46248</td>\n",
       "    </tr>\n",
       "  </tbody>\n",
       "</table>\n",
       "</div>"
      ],
      "text/plain": [
       "         age  annual Salary  credit card debt    net worth  \\\n",
       "0  41.851720    62812.09301      11609.380910  238961.2505   \n",
       "1  40.870623    66646.89292       9572.957136  530973.9078   \n",
       "2  43.152897    53798.55112      11160.355060  638467.1773   \n",
       "3  58.271369    79370.03798      14426.164850  548599.0524   \n",
       "4  57.313749    59729.15130       5358.712177  560304.0671   \n",
       "\n",
       "   car purchase amount  \n",
       "0          35321.45877  \n",
       "1          45115.52566  \n",
       "2          42925.70921  \n",
       "3          67422.36313  \n",
       "4          55915.46248  "
      ]
     },
     "execution_count": 8,
     "metadata": {},
     "output_type": "execute_result"
    }
   ],
   "source": [
    "df.head()"
   ]
  },
  {
   "cell_type": "code",
   "execution_count": 9,
   "id": "dec19bb6",
   "metadata": {
    "execution": {
     "iopub.execute_input": "2024-12-31T07:53:35.538002Z",
     "iopub.status.busy": "2024-12-31T07:53:35.537203Z",
     "iopub.status.idle": "2024-12-31T07:53:36.007003Z",
     "shell.execute_reply": "2024-12-31T07:53:36.005869Z"
    },
    "papermill": {
     "duration": 0.479447,
     "end_time": "2024-12-31T07:53:36.009187",
     "exception": false,
     "start_time": "2024-12-31T07:53:35.529740",
     "status": "completed"
    },
    "tags": []
   },
   "outputs": [
    {
     "data": {
      "text/plain": [
       "<Axes: >"
      ]
     },
     "execution_count": 9,
     "metadata": {},
     "output_type": "execute_result"
    },
    {
     "data": {
      "image/png": "[encoded data removed]",
      "text/plain": [
       "<Figure size 640x480 with 2 Axes>"
      ]
     },
     "metadata": {},
     "output_type": "display_data"
    }
   ],
   "source": [
    "sns.heatmap(df.corr(),cmap='Blues',annot=True)"
   ]
  },
  {
   "cell_type": "code",
   "execution_count": 10,
   "id": "ea31a5c2",
   "metadata": {
    "execution": {
     "iopub.execute_input": "2024-12-31T07:53:36.025967Z",
     "iopub.status.busy": "2024-12-31T07:53:36.025225Z",
     "iopub.status.idle": "2024-12-31T07:53:36.309525Z",
     "shell.execute_reply": "2024-12-31T07:53:36.308384Z"
    },
    "papermill": {
     "duration": 0.295221,
     "end_time": "2024-12-31T07:53:36.311801",
     "exception": false,
     "start_time": "2024-12-31T07:53:36.016580",
     "status": "completed"
    },
    "tags": []
   },
   "outputs": [
    {
     "data": {
      "text/plain": [
       "<Axes: xlabel='car purchase amount', ylabel='net worth'>"
      ]
     },
     "execution_count": 10,
     "metadata": {},
     "output_type": "execute_result"
    },
    {
     "data": {
      "image/png": "[encoded data removed]",
      "text/plain": [
       "<Figure size 640x480 with 1 Axes>"
      ]
     },
     "metadata": {},
     "output_type": "display_data"
    }
   ],
   "source": [
    "sns.scatterplot(data=df,y='net worth',x='car purchase amount')"
   ]
  },
  {
   "cell_type": "code",
   "execution_count": 11,
   "id": "658f357f",
   "metadata": {
    "execution": {
     "iopub.execute_input": "2024-12-31T07:53:36.331508Z",
     "iopub.status.busy": "2024-12-31T07:53:36.330745Z",
     "iopub.status.idle": "2024-12-31T07:53:36.623012Z",
     "shell.execute_reply": "2024-12-31T07:53:36.621537Z"
    },
    "papermill": {
     "duration": 0.303586,
     "end_time": "2024-12-31T07:53:36.625099",
     "exception": false,
     "start_time": "2024-12-31T07:53:36.321513",
     "status": "completed"
    },
    "tags": []
   },
   "outputs": [
    {
     "data": {
      "text/plain": [
       "<Axes: xlabel='car purchase amount', ylabel='credit card debt'>"
      ]
     },
     "execution_count": 11,
     "metadata": {},
     "output_type": "execute_result"
    },
    {
     "data": {
      "image/png": "[encoded data removed]",
      "text/plain": [
       "<Figure size 640x480 with 1 Axes>"
      ]
     },
     "metadata": {},
     "output_type": "display_data"
    }
   ],
   "source": [
    "sns.scatterplot(data=df,y='credit card debt',x='car purchase amount')"
   ]
  },
  {
   "cell_type": "code",
   "execution_count": 12,
   "id": "0c609279",
   "metadata": {
    "execution": {
     "iopub.execute_input": "2024-12-31T07:53:36.645341Z",
     "iopub.status.busy": "2024-12-31T07:53:36.644305Z",
     "iopub.status.idle": "2024-12-31T07:53:36.939724Z",
     "shell.execute_reply": "2024-12-31T07:53:36.938312Z"
    },
    "papermill": {
     "duration": 0.30802,
     "end_time": "2024-12-31T07:53:36.941987",
     "exception": false,
     "start_time": "2024-12-31T07:53:36.633967",
     "status": "completed"
    },
    "tags": []
   },
   "outputs": [
    {
     "data": {
      "text/plain": [
       "<Axes: xlabel='car purchase amount', ylabel='annual Salary'>"
      ]
     },
     "execution_count": 12,
     "metadata": {},
     "output_type": "execute_result"
    },
    {
     "data": {
      "image/png": "[encoded data removed]",
      "text/plain": [
       "<Figure size 640x480 with 1 Axes>"
      ]
     },
     "metadata": {},
     "output_type": "display_data"
    }
   ],
   "source": [
    "sns.scatterplot(data=df,y='annual Salary',x='car purchase amount')"
   ]
  },
  {
   "cell_type": "code",
   "execution_count": 13,
   "id": "23c4986e",
   "metadata": {
    "execution": {
     "iopub.execute_input": "2024-12-31T07:53:36.963061Z",
     "iopub.status.busy": "2024-12-31T07:53:36.962666Z",
     "iopub.status.idle": "2024-12-31T07:53:36.974881Z",
     "shell.execute_reply": "2024-12-31T07:53:36.973804Z"
    },
    "papermill": {
     "duration": 0.025251,
     "end_time": "2024-12-31T07:53:36.976960",
     "exception": false,
     "start_time": "2024-12-31T07:53:36.951709",
     "status": "completed"
    },
    "tags": []
   },
   "outputs": [
    {
     "data": {
      "text/html": [
       "<div>\n",
       "<style scoped>\n",
       "    .dataframe tbody tr th:only-of-type {\n",
       "        vertical-align: middle;\n",
       "    }\n",
       "\n",
       "    .dataframe tbody tr th {\n",
       "        vertical-align: top;\n",
       "    }\n",
       "\n",
       "    .dataframe thead th {\n",
       "        text-align: right;\n",
       "    }\n",
       "</style>\n",
       "<table border=\"1\" class=\"dataframe\">\n",
       "  <thead>\n",
       "    <tr style=\"text-align: right;\">\n",
       "      <th></th>\n",
       "      <th>age</th>\n",
       "      <th>annual Salary</th>\n",
       "      <th>credit card debt</th>\n",
       "      <th>net worth</th>\n",
       "      <th>car purchase amount</th>\n",
       "    </tr>\n",
       "  </thead>\n",
       "  <tbody>\n",
       "    <tr>\n",
       "      <th>0</th>\n",
       "      <td>41.851720</td>\n",
       "      <td>62812.09301</td>\n",
       "      <td>11609.380910</td>\n",
       "      <td>238961.2505</td>\n",
       "      <td>35321.45877</td>\n",
       "    </tr>\n",
       "    <tr>\n",
       "      <th>1</th>\n",
       "      <td>40.870623</td>\n",
       "      <td>66646.89292</td>\n",
       "      <td>9572.957136</td>\n",
       "      <td>530973.9078</td>\n",
       "      <td>45115.52566</td>\n",
       "    </tr>\n",
       "    <tr>\n",
       "      <th>2</th>\n",
       "      <td>43.152897</td>\n",
       "      <td>53798.55112</td>\n",
       "      <td>11160.355060</td>\n",
       "      <td>638467.1773</td>\n",
       "      <td>42925.70921</td>\n",
       "    </tr>\n",
       "    <tr>\n",
       "      <th>3</th>\n",
       "      <td>58.271369</td>\n",
       "      <td>79370.03798</td>\n",
       "      <td>14426.164850</td>\n",
       "      <td>548599.0524</td>\n",
       "      <td>67422.36313</td>\n",
       "    </tr>\n",
       "    <tr>\n",
       "      <th>4</th>\n",
       "      <td>57.313749</td>\n",
       "      <td>59729.15130</td>\n",
       "      <td>5358.712177</td>\n",
       "      <td>560304.0671</td>\n",
       "      <td>55915.46248</td>\n",
       "    </tr>\n",
       "  </tbody>\n",
       "</table>\n",
       "</div>"
      ],
      "text/plain": [
       "         age  annual Salary  credit card debt    net worth  \\\n",
       "0  41.851720    62812.09301      11609.380910  238961.2505   \n",
       "1  40.870623    66646.89292       9572.957136  530973.9078   \n",
       "2  43.152897    53798.55112      11160.355060  638467.1773   \n",
       "3  58.271369    79370.03798      14426.164850  548599.0524   \n",
       "4  57.313749    59729.15130       5358.712177  560304.0671   \n",
       "\n",
       "   car purchase amount  \n",
       "0          35321.45877  \n",
       "1          45115.52566  \n",
       "2          42925.70921  \n",
       "3          67422.36313  \n",
       "4          55915.46248  "
      ]
     },
     "execution_count": 13,
     "metadata": {},
     "output_type": "execute_result"
    }
   ],
   "source": [
    "df.head()"
   ]
  },
  {
   "cell_type": "code",
   "execution_count": 14,
   "id": "aa907fbb",
   "metadata": {
    "execution": {
     "iopub.execute_input": "2024-12-31T07:53:36.998477Z",
     "iopub.status.busy": "2024-12-31T07:53:36.998133Z",
     "iopub.status.idle": "2024-12-31T07:53:37.003757Z",
     "shell.execute_reply": "2024-12-31T07:53:37.002787Z"
    },
    "papermill": {
     "duration": 0.018624,
     "end_time": "2024-12-31T07:53:37.005669",
     "exception": false,
     "start_time": "2024-12-31T07:53:36.987045",
     "status": "completed"
    },
    "tags": []
   },
   "outputs": [],
   "source": [
    "X = df.drop('car purchase amount',axis=1)\n",
    "y = df['car purchase amount']"
   ]
  },
  {
   "cell_type": "code",
   "execution_count": 15,
   "id": "6b89f070",
   "metadata": {
    "execution": {
     "iopub.execute_input": "2024-12-31T07:53:37.027561Z",
     "iopub.status.busy": "2024-12-31T07:53:37.027195Z",
     "iopub.status.idle": "2024-12-31T07:53:37.304928Z",
     "shell.execute_reply": "2024-12-31T07:53:37.303879Z"
    },
    "papermill": {
     "duration": 0.291588,
     "end_time": "2024-12-31T07:53:37.307378",
     "exception": false,
     "start_time": "2024-12-31T07:53:37.015790",
     "status": "completed"
    },
    "tags": []
   },
   "outputs": [],
   "source": [
    "from sklearn.model_selection import train_test_split"
   ]
  },
  {
   "cell_type": "code",
   "execution_count": 16,
   "id": "7c6abca1",
   "metadata": {
    "execution": {
     "iopub.execute_input": "2024-12-31T07:53:37.329910Z",
     "iopub.status.busy": "2024-12-31T07:53:37.329468Z",
     "iopub.status.idle": "2024-12-31T07:53:37.339044Z",
     "shell.execute_reply": "2024-12-31T07:53:37.338217Z"
    },
    "papermill": {
     "duration": 0.023154,
     "end_time": "2024-12-31T07:53:37.341058",
     "exception": false,
     "start_time": "2024-12-31T07:53:37.317904",
     "status": "completed"
    },
    "tags": []
   },
   "outputs": [],
   "source": [
    "from sklearn.preprocessing import StandardScaler\n",
    "scaler = StandardScaler()\n",
    "scaled_features = scaler.fit_transform(X)\n",
    "target_reshaped = y.values.reshape(-1, 1)\n",
    "scaled_target = scaler.fit_transform(target_reshaped)"
   ]
  },
  {
   "cell_type": "code",
   "execution_count": 17,
   "id": "fe42a024",
   "metadata": {
    "execution": {
     "iopub.execute_input": "2024-12-31T07:53:37.363691Z",
     "iopub.status.busy": "2024-12-31T07:53:37.362704Z",
     "iopub.status.idle": "2024-12-31T07:53:37.370086Z",
     "shell.execute_reply": "2024-12-31T07:53:37.369034Z"
    },
    "papermill": {
     "duration": 0.020688,
     "end_time": "2024-12-31T07:53:37.372058",
     "exception": false,
     "start_time": "2024-12-31T07:53:37.351370",
     "status": "completed"
    },
    "tags": []
   },
   "outputs": [],
   "source": [
    "X_train,X_test,y_train,y_test = train_test_split(scaled_features,scaled_target,test_size=0.3,random_state=42)"
   ]
  },
  {
   "cell_type": "code",
   "execution_count": 18,
   "id": "45445aca",
   "metadata": {
    "execution": {
     "iopub.execute_input": "2024-12-31T07:53:37.394471Z",
     "iopub.status.busy": "2024-12-31T07:53:37.393665Z",
     "iopub.status.idle": "2024-12-31T07:53:37.488532Z",
     "shell.execute_reply": "2024-12-31T07:53:37.487578Z"
    },
    "papermill": {
     "duration": 0.108656,
     "end_time": "2024-12-31T07:53:37.490852",
     "exception": false,
     "start_time": "2024-12-31T07:53:37.382196",
     "status": "completed"
    },
    "tags": []
   },
   "outputs": [],
   "source": [
    "from sklearn.linear_model import LinearRegression"
   ]
  },
  {
   "cell_type": "code",
   "execution_count": 19,
   "id": "02ca5f04",
   "metadata": {
    "execution": {
     "iopub.execute_input": "2024-12-31T07:53:37.512622Z",
     "iopub.status.busy": "2024-12-31T07:53:37.512269Z",
     "iopub.status.idle": "2024-12-31T07:53:37.516881Z",
     "shell.execute_reply": "2024-12-31T07:53:37.515948Z"
    },
    "papermill": {
     "duration": 0.01782,
     "end_time": "2024-12-31T07:53:37.518711",
     "exception": false,
     "start_time": "2024-12-31T07:53:37.500891",
     "status": "completed"
    },
    "tags": []
   },
   "outputs": [],
   "source": [
    "model = LinearRegression()"
   ]
  },
  {
   "cell_type": "code",
   "execution_count": 20,
   "id": "06976d0d",
   "metadata": {
    "execution": {
     "iopub.execute_input": "2024-12-31T07:53:37.540239Z",
     "iopub.status.busy": "2024-12-31T07:53:37.539811Z",
     "iopub.status.idle": "2024-12-31T07:53:37.566014Z",
     "shell.execute_reply": "2024-12-31T07:53:37.564954Z"
    },
    "papermill": {
     "duration": 0.039294,
     "end_time": "2024-12-31T07:53:37.567945",
     "exception": false,
     "start_time": "2024-12-31T07:53:37.528651",
     "status": "completed"
    },
    "tags": []
   },
   "outputs": [
    {
     "data": {
      "text/html": [
       "<style>#sk-container-id-1 {color: black;background-color: white;}#sk-container-id-1 pre{padding: 0;}#sk-container-id-1 div.sk-toggleable {background-color: white;}#sk-container-id-1 label.sk-toggleable__label {cursor: pointer;display: block;width: 100%;margin-bottom: 0;padding: 0.3em;box-sizing: border-box;text-align: center;}#sk-container-id-1 label.sk-toggleable__label-arrow:before {content: \"▸\";float: left;margin-right: 0.25em;color: #696969;}#sk-container-id-1 label.sk-toggleable__label-arrow:hover:before {color: black;}#sk-container-id-1 div.sk-estimator:hover label.sk-toggleable__label-arrow:before {color: black;}#sk-container-id-1 div.sk-toggleable__content {max-height: 0;max-width: 0;overflow: hidden;text-align: left;background-color: #f0f8ff;}#sk-container-id-1 div.sk-toggleable__content pre {margin: 0.2em;color: black;border-radius: 0.25em;background-color: #f0f8ff;}#sk-container-id-1 input.sk-toggleable__control:checked~div.sk-toggleable__content {max-height: 200px;max-width: 100%;overflow: auto;}#sk-container-id-1 input.sk-toggleable__control:checked~label.sk-toggleable__label-arrow:before {content: \"▾\";}#sk-container-id-1 div.sk-estimator input.sk-toggleable__control:checked~label.sk-toggleable__label {background-color: #d4ebff;}#sk-container-id-1 div.sk-label input.sk-toggleable__control:checked~label.sk-toggleable__label {background-color: #d4ebff;}#sk-container-id-1 input.sk-hidden--visually {border: 0;clip: rect(1px 1px 1px 1px);clip: rect(1px, 1px, 1px, 1px);height: 1px;margin: -1px;overflow: hidden;padding: 0;position: absolute;width: 1px;}#sk-container-id-1 div.sk-estimator {font-family: monospace;background-color: #f0f8ff;border: 1px dotted black;border-radius: 0.25em;box-sizing: border-box;margin-bottom: 0.5em;}#sk-container-id-1 div.sk-estimator:hover {background-color: #d4ebff;}#sk-container-id-1 div.sk-parallel-item::after {content: \"\";width: 100%;border-bottom: 1px solid gray;flex-grow: 1;}#sk-container-id-1 div.sk-label:hover label.sk-toggleable__label {background-color: #d4ebff;}#sk-container-id-1 div.sk-serial::before {content: \"\";position: absolute;border-left: 1px solid gray;box-sizing: border-box;top: 0;bottom: 0;left: 50%;z-index: 0;}#sk-container-id-1 div.sk-serial {display: flex;flex-direction: column;align-items: center;background-color: white;padding-right: 0.2em;padding-left: 0.2em;position: relative;}#sk-container-id-1 div.sk-item {position: relative;z-index: 1;}#sk-container-id-1 div.sk-parallel {display: flex;align-items: stretch;justify-content: center;background-color: white;position: relative;}#sk-container-id-1 div.sk-item::before, #sk-container-id-1 div.sk-parallel-item::before {content: \"\";position: absolute;border-left: 1px solid gray;box-sizing: border-box;top: 0;bottom: 0;left: 50%;z-index: -1;}#sk-container-id-1 div.sk-parallel-item {display: flex;flex-direction: column;z-index: 1;position: relative;background-color: white;}#sk-container-id-1 div.sk-parallel-item:first-child::after {align-self: flex-end;width: 50%;}#sk-container-id-1 div.sk-parallel-item:last-child::after {align-self: flex-start;width: 50%;}#sk-container-id-1 div.sk-parallel-item:only-child::after {width: 0;}#sk-container-id-1 div.sk-dashed-wrapped {border: 1px dashed gray;margin: 0 0.4em 0.5em 0.4em;box-sizing: border-box;padding-bottom: 0.4em;background-color: white;}#sk-container-id-1 div.sk-label label {font-family: monospace;font-weight: bold;display: inline-block;line-height: 1.2em;}#sk-container-id-1 div.sk-label-container {text-align: center;}#sk-container-id-1 div.sk-container {/* jupyter's `normalize.less` sets `[hidden] { display: none; }` but bootstrap.min.css set `[hidden] { display: none !important; }` so we also need the `!important` here to be able to override the default hidden behavior on the sphinx rendered scikit-learn.org. See: https://github.com/scikit-learn/scikit-learn/issues/21755 */display: inline-block !important;position: relative;}#sk-container-id-1 div.sk-text-repr-fallback {display: none;}</style><div id=\"sk-container-id-1\" class=\"sk-top-container\"><div class=\"sk-text-repr-fallback\"><pre>LinearRegression()</pre><b>In a Jupyter environment, please rerun this cell to show the HTML representation or trust the notebook. <br />On GitHub, the HTML representation is unable to render, please try loading this page with nbviewer.org.</b></div><div class=\"sk-container\" hidden><div class=\"sk-item\"><div class=\"sk-estimator sk-toggleable\"><input class=\"sk-toggleable__control sk-hidden--visually\" id=\"sk-estimator-id-1\" type=\"checkbox\" checked><label for=\"sk-estimator-id-1\" class=\"sk-toggleable__label sk-toggleable__label-arrow\">LinearRegression</label><div class=\"sk-toggleable__content\"><pre>LinearRegression()</pre></div></div></div></div></div>"
      ],
      "text/plain": [
       "LinearRegression()"
      ]
     },
     "execution_count": 20,
     "metadata": {},
     "output_type": "execute_result"
    }
   ],
   "source": [
    "model.fit(X_train,y_train)"
   ]
  },
  {
   "cell_type": "code",
   "execution_count": 21,
   "id": "91b6cc99",
   "metadata": {
    "execution": {
     "iopub.execute_input": "2024-12-31T07:53:37.590751Z",
     "iopub.status.busy": "2024-12-31T07:53:37.590310Z",
     "iopub.status.idle": "2024-12-31T07:53:37.595522Z",
     "shell.execute_reply": "2024-12-31T07:53:37.594518Z"
    },
    "papermill": {
     "duration": 0.019284,
     "end_time": "2024-12-31T07:53:37.597558",
     "exception": false,
     "start_time": "2024-12-31T07:53:37.578274",
     "status": "completed"
    },
    "tags": []
   },
   "outputs": [],
   "source": [
    "test_predictions = model.predict(X_test)"
   ]
  },
  {
   "cell_type": "code",
   "execution_count": 22,
   "id": "a61aa902",
   "metadata": {
    "execution": {
     "iopub.execute_input": "2024-12-31T07:53:37.620557Z",
     "iopub.status.busy": "2024-12-31T07:53:37.620203Z",
     "iopub.status.idle": "2024-12-31T07:53:37.624774Z",
     "shell.execute_reply": "2024-12-31T07:53:37.623736Z"
    },
    "papermill": {
     "duration": 0.018721,
     "end_time": "2024-12-31T07:53:37.626876",
     "exception": false,
     "start_time": "2024-12-31T07:53:37.608155",
     "status": "completed"
    },
    "tags": []
   },
   "outputs": [],
   "source": [
    "from sklearn.metrics import mean_absolute_error,mean_squared_error"
   ]
  },
  {
   "cell_type": "code",
   "execution_count": 23,
   "id": "2db33753",
   "metadata": {
    "execution": {
     "iopub.execute_input": "2024-12-31T07:53:37.650437Z",
     "iopub.status.busy": "2024-12-31T07:53:37.649330Z",
     "iopub.status.idle": "2024-12-31T07:53:37.654161Z",
     "shell.execute_reply": "2024-12-31T07:53:37.653146Z"
    },
    "papermill": {
     "duration": 0.018596,
     "end_time": "2024-12-31T07:53:37.656202",
     "exception": false,
     "start_time": "2024-12-31T07:53:37.637606",
     "status": "completed"
    },
    "tags": []
   },
   "outputs": [],
   "source": [
    "from sklearn.metrics import r2_score"
   ]
  },
  {
   "cell_type": "code",
   "execution_count": 24,
   "id": "cdc23188",
   "metadata": {
    "execution": {
     "iopub.execute_input": "2024-12-31T07:53:37.679279Z",
     "iopub.status.busy": "2024-12-31T07:53:37.678937Z",
     "iopub.status.idle": "2024-12-31T07:53:37.685729Z",
     "shell.execute_reply": "2024-12-31T07:53:37.684698Z"
    },
    "papermill": {
     "duration": 0.020734,
     "end_time": "2024-12-31T07:53:37.687945",
     "exception": false,
     "start_time": "2024-12-31T07:53:37.667211",
     "status": "completed"
    },
    "tags": []
   },
   "outputs": [
    {
     "data": {
      "text/plain": [
       "44209.79921842"
      ]
     },
     "execution_count": 24,
     "metadata": {},
     "output_type": "execute_result"
    }
   ],
   "source": [
    "df['car purchase amount'].mean()"
   ]
  },
  {
   "cell_type": "code",
   "execution_count": 25,
   "id": "1f9dd1ce",
   "metadata": {
    "execution": {
     "iopub.execute_input": "2024-12-31T07:53:37.710915Z",
     "iopub.status.busy": "2024-12-31T07:53:37.710505Z",
     "iopub.status.idle": "2024-12-31T07:53:37.717387Z",
     "shell.execute_reply": "2024-12-31T07:53:37.716380Z"
    },
    "papermill": {
     "duration": 0.020741,
     "end_time": "2024-12-31T07:53:37.719232",
     "exception": false,
     "start_time": "2024-12-31T07:53:37.698491",
     "status": "completed"
    },
    "tags": []
   },
   "outputs": [
    {
     "data": {
      "text/plain": [
       "0.00010451195913286267"
      ]
     },
     "execution_count": 25,
     "metadata": {},
     "output_type": "execute_result"
    }
   ],
   "source": [
    "mean_absolute_error(y_test,test_predictions)"
   ]
  },
  {
   "cell_type": "code",
   "execution_count": 26,
   "id": "9e6efb9c",
   "metadata": {
    "execution": {
     "iopub.execute_input": "2024-12-31T07:53:37.742500Z",
     "iopub.status.busy": "2024-12-31T07:53:37.742142Z",
     "iopub.status.idle": "2024-12-31T07:53:37.747520Z",
     "shell.execute_reply": "2024-12-31T07:53:37.746618Z"
    },
    "papermill": {
     "duration": 0.019509,
     "end_time": "2024-12-31T07:53:37.749491",
     "exception": false,
     "start_time": "2024-12-31T07:53:37.729982",
     "status": "completed"
    },
    "tags": []
   },
   "outputs": [],
   "source": [
    "MSE = mean_squared_error(y_test,test_predictions)"
   ]
  },
  {
   "cell_type": "code",
   "execution_count": 27,
   "id": "07993ebe",
   "metadata": {
    "execution": {
     "iopub.execute_input": "2024-12-31T07:53:37.772520Z",
     "iopub.status.busy": "2024-12-31T07:53:37.772155Z",
     "iopub.status.idle": "2024-12-31T07:53:37.776946Z",
     "shell.execute_reply": "2024-12-31T07:53:37.775883Z"
    },
    "papermill": {
     "duration": 0.018783,
     "end_time": "2024-12-31T07:53:37.779006",
     "exception": false,
     "start_time": "2024-12-31T07:53:37.760223",
     "status": "completed"
    },
    "tags": []
   },
   "outputs": [],
   "source": [
    "RMSE = np.sqrt(MSE)"
   ]
  },
  {
   "cell_type": "code",
   "execution_count": 28,
   "id": "70988346",
   "metadata": {
    "execution": {
     "iopub.execute_input": "2024-12-31T07:53:37.804621Z",
     "iopub.status.busy": "2024-12-31T07:53:37.803701Z",
     "iopub.status.idle": "2024-12-31T07:53:37.810104Z",
     "shell.execute_reply": "2024-12-31T07:53:37.809019Z"
    },
    "papermill": {
     "duration": 0.0232,
     "end_time": "2024-12-31T07:53:37.813417",
     "exception": false,
     "start_time": "2024-12-31T07:53:37.790217",
     "status": "completed"
    },
    "tags": []
   },
   "outputs": [
    {
     "data": {
      "text/plain": [
       "0.00013263074462019358"
      ]
     },
     "execution_count": 28,
     "metadata": {},
     "output_type": "execute_result"
    }
   ],
   "source": [
    "RMSE"
   ]
  },
  {
   "cell_type": "code",
   "execution_count": 29,
   "id": "4a14761f",
   "metadata": {
    "execution": {
     "iopub.execute_input": "2024-12-31T07:53:37.846603Z",
     "iopub.status.busy": "2024-12-31T07:53:37.845939Z",
     "iopub.status.idle": "2024-12-31T07:53:37.852054Z",
     "shell.execute_reply": "2024-12-31T07:53:37.850701Z"
    },
    "papermill": {
     "duration": 0.026577,
     "end_time": "2024-12-31T07:53:37.854337",
     "exception": false,
     "start_time": "2024-12-31T07:53:37.827760",
     "status": "completed"
    },
    "tags": []
   },
   "outputs": [],
   "source": [
    "y_pred_original = scaler.inverse_transform(test_predictions)"
   ]
  },
  {
   "cell_type": "code",
   "execution_count": 30,
   "id": "7cae0f9c",
   "metadata": {
    "execution": {
     "iopub.execute_input": "2024-12-31T07:53:37.881260Z",
     "iopub.status.busy": "2024-12-31T07:53:37.880909Z",
     "iopub.status.idle": "2024-12-31T07:53:37.887026Z",
     "shell.execute_reply": "2024-12-31T07:53:37.886035Z"
    },
    "papermill": {
     "duration": 0.020547,
     "end_time": "2024-12-31T07:53:37.889404",
     "exception": false,
     "start_time": "2024-12-31T07:53:37.868857",
     "status": "completed"
    },
    "tags": []
   },
   "outputs": [
    {
     "name": "stdout",
     "output_type": "stream",
     "text": [
      "R2 Score: 0.9999999809047293\n"
     ]
    }
   ],
   "source": [
    "r2 = r2_score(scaler.inverse_transform(y_test), y_pred_original)\n",
    "print(\"R2 Score:\", r2)"
   ]
  },
  {
   "cell_type": "code",
   "execution_count": null,
   "id": "3ba8cde1",
   "metadata": {
    "papermill": {
     "duration": 0.010822,
     "end_time": "2024-12-31T07:53:37.910877",
     "exception": false,
     "start_time": "2024-12-31T07:53:37.900055",
     "status": "completed"
    },
    "tags": []
   },
   "outputs": [],
   "source": []
  }
 ],
 "metadata": {
  "kaggle": {
   "accelerator": "none",
   "dataSources": [
    {
     "datasetId": 2515235,
     "sourceId": 4268549,
     "sourceType": "datasetVersion"
    }
   ],
   "dockerImageVersionId": 30664,
   "isGpuEnabled": false,
   "isInternetEnabled": true,
   "language": "python",
   "sourceType": "notebook"
  },
  "kernelspec": {
   "display_name": "Python 3",
   "language": "python",
   "name": "python3"
  },
  "language_info": {
   "codemirror_mode": {
    "name": "ipython",
    "version": 3
   },
   "file_extension": ".py",
   "mimetype": "text/x-python",
   "name": "python",
   "nbconvert_exporter": "python",
   "pygments_lexer": "ipython3",
   "version": "3.10.13"
  },
  "papermill": {
   "default_parameters": {},
   "duration": 8.518552,
   "end_time": "2024-12-31T07:53:38.551403",
   "environment_variables": {},
   "exception": null,
   "input_path": "__notebook__.ipynb",
   "output_path": "__notebook__.ipynb",
   "parameters": {},
   "start_time": "2024-12-31T07:53:30.032851",
   "version": "2.5.0"
  }
 },
 "nbformat": 4,
 "nbformat_minor": 5
}
